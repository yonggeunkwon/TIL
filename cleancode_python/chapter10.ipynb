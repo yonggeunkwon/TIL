{
 "cells": [
  {
   "cell_type": "markdown",
   "metadata": {},
   "source": [
    "# Chapter10 파이썬다운 함수 만들기"
   ]
  },
  {
   "cell_type": "markdown",
   "metadata": {},
   "source": [
    "### 함수명"
   ]
  },
  {
   "cell_type": "markdown",
   "metadata": {},
   "source": [
    "### 함수 크기의 트레이드오프"
   ]
  },
  {
   "cell_type": "markdown",
   "metadata": {},
   "source": [
    "> 함수의 이름에는 대체로 동사가 들어가고, 대상을 설명하는 명사가 들어가기도 한다\n",
    "> - ex) refreshConnection(), setPassword(), extract_version()"
   ]
  },
  {
   "cell_type": "markdown",
   "metadata": {},
   "source": [
    "> 너무 짧은 이름보다는 길고 설명적인 이름을 사용하는 것이 좋다\n",
    "> - ex) getGreatestCommonDenominator()"
   ]
  },
  {
   "cell_type": "markdown",
   "metadata": {},
   "source": [
    "##### 짧은 함수의 장점\n",
    "- 함수 코드를 이해하기가 더 쉽다\n",
    "- 필요한 파라미터가 더 적다\n",
    "- 테스트와 디버그가 더 쉽다\n",
    "- 예외가 더 적게 발생한다"
   ]
  },
  {
   "cell_type": "markdown",
   "metadata": {},
   "source": [
    "##### 짧은 함수의 단점\n",
    "- 함수를 짧게 작성하면 프로그램에서 필요한 함수 개수가 늘어나기 쉽다\n",
    "- 함수가 늘어나게 되면 프로그램이 더 복잡해진다\n",
    "- 함수가 늘어나면 각 함수별로 설명적이고 정확한 이름을 붙히기 힘들어진다\n",
    "- 함수를 많이 사용할수록 작성할 문서도 많아진다\n",
    "- 함수 간의 관계가 복잡해진다"
   ]
  },
  {
   "cell_type": "markdown",
   "metadata": {},
   "source": [
    "> - 함수가 짧을수록 좋다는 것은 사실이 아니다. 하나의 긴 함수를 여러개로 늘리게 된다면, 각각의 새로운 이름과 docstring을 추가해줘야 하며, 여러개의 비슷한 함수들이 헷갈릴 것이다.\n",
    "> - 이상적인 함수의 길이는 30행 이하이며, 최대 200행을 넘지 않도록 않다."
   ]
  },
  {
   "cell_type": "markdown",
   "metadata": {},
   "source": [
    "### 함수 파라미터와 인수"
   ]
  },
  {
   "cell_type": "markdown",
   "metadata": {},
   "source": [
    "##### 기본 인수"
   ]
  },
  {
   "cell_type": "markdown",
   "metadata": {},
   "source": [
    "> 함수 내에서 파라미터를 자주 호출하는 경우, 해당 값을 기본 인수로 만든다"
   ]
  },
  {
   "cell_type": "code",
   "execution_count": 5,
   "metadata": {},
   "outputs": [
    {
     "name": "stdout",
     "output_type": "stream",
     "text": [
      "Hello, Alice\n"
     ]
    }
   ],
   "source": [
    "def introduction(name, greeting = 'Hello'):\n",
    "    print(greeting + ', ' + name)\n",
    "\n",
    "introduction('Alice')"
   ]
  },
  {
   "cell_type": "markdown",
   "metadata": {},
   "source": [
    "##### *와 **를 사용해 함수에 인수 전달하기"
   ]
  },
  {
   "cell_type": "code",
   "execution_count": 6,
   "metadata": {},
   "outputs": [
    {
     "name": "stdout",
     "output_type": "stream",
     "text": [
      "cat dog moose\n"
     ]
    }
   ],
   "source": [
    "print('cat', 'dog', 'moose')"
   ]
  },
  {
   "cell_type": "code",
   "execution_count": 7,
   "metadata": {},
   "outputs": [
    {
     "name": "stdout",
     "output_type": "stream",
     "text": [
      "['cat', 'dog', 'moose']\n"
     ]
    }
   ],
   "source": [
    "args = ['cat', 'dog', 'moose']\n",
    "print(args)"
   ]
  },
  {
   "cell_type": "code",
   "execution_count": 8,
   "metadata": {},
   "outputs": [
    {
     "name": "stdout",
     "output_type": "stream",
     "text": [
      "cat dog moose\n"
     ]
    }
   ],
   "source": [
    "# 코드 가독성이 떨어지는 예제\n",
    "args = ['cat', 'dog', 'moose']\n",
    "print(args[0], args[1], args[2])"
   ]
  },
  {
   "cell_type": "markdown",
   "metadata": {},
   "source": [
    "> *구문을 사용하면 리스트에 아이템이 여러 개 있더라도 이 아이템들을 함수에 개별적으로 전달할 수 있다."
   ]
  },
  {
   "cell_type": "code",
   "execution_count": 10,
   "metadata": {},
   "outputs": [
    {
     "name": "stdout",
     "output_type": "stream",
     "text": [
      "cat dog moose\n"
     ]
    }
   ],
   "source": [
    "# *구문을 사용해 리스트의 아이템들을 개별 위치기반 인수로 해석\n",
    "args = ['cat', 'dog', 'moose']\n",
    "print(*args)"
   ]
  },
  {
   "cell_type": "markdown",
   "metadata": {},
   "source": [
    "> **구문을 사용해 딕셔너리 같은 매핑 데이터 타입을 개별 키워드 인수로 전달할 수 있다. 키워드 인수는 파라미터 이름과 등호 앞에 붙는다."
   ]
  },
  {
   "cell_type": "code",
   "execution_count": 11,
   "metadata": {},
   "outputs": [
    {
     "name": "stdout",
     "output_type": "stream",
     "text": [
      "cat-dog-moose\n"
     ]
    }
   ],
   "source": [
    "print('cat', 'dog', 'moose', sep='-')"
   ]
  },
  {
   "cell_type": "code",
   "execution_count": 12,
   "metadata": {},
   "outputs": [
    {
     "name": "stdout",
     "output_type": "stream",
     "text": [
      "cat-dog-moose\n"
     ]
    }
   ],
   "source": [
    "kwargsForPrint = {'sep' : '-'}\n",
    "print('cat', 'dog', 'moose', **kwargsForPrint)"
   ]
  },
  {
   "cell_type": "markdown",
   "metadata": {},
   "source": [
    "##### *를 사용해 가변인수 함수 만들기"
   ]
  },
  {
   "cell_type": "code",
   "execution_count": 21,
   "metadata": {},
   "outputs": [
    {
     "name": "stdout",
     "output_type": "stream",
     "text": [
      "3 3\n",
      "(3, 3)\n",
      "3 3 3\n",
      "(3, 3, 3)\n"
     ]
    },
    {
     "data": {
      "text/plain": [
       "(9, 27)"
      ]
     },
     "execution_count": 21,
     "metadata": {},
     "output_type": "execute_result"
    }
   ],
   "source": [
    "# 인수가 몇개 들어가든 상관 없음\n",
    "def product(*args):\n",
    "    print(*args)\n",
    "    print(args)\n",
    "    result = 1\n",
    "    for num in args:\n",
    "        result *= num\n",
    "    return result\n",
    "\n",
    "\n",
    "product(3, 3), product(3, 3, 3)"
   ]
  },
  {
   "cell_type": "code",
   "execution_count": 22,
   "metadata": {},
   "outputs": [
    {
     "ename": "TypeError",
     "evalue": "product() takes 1 positional argument but 2 were given",
     "output_type": "error",
     "traceback": [
      "\u001b[0;31m---------------------------------------------------------------------------\u001b[0m",
      "\u001b[0;31mTypeError\u001b[0m                                 Traceback (most recent call last)",
      "Cell \u001b[0;32mIn [22], line 8\u001b[0m\n\u001b[1;32m      5\u001b[0m         result \u001b[39m*\u001b[39m\u001b[39m=\u001b[39m num\n\u001b[1;32m      6\u001b[0m     \u001b[39mreturn\u001b[39;00m result\n\u001b[0;32m----> 8\u001b[0m product(\u001b[39m3\u001b[39;49m, \u001b[39m3\u001b[39;49m)\n",
      "\u001b[0;31mTypeError\u001b[0m: product() takes 1 positional argument but 2 were given"
     ]
    }
   ],
   "source": [
    "# 오직 하나의 값만 인수로 들어갈 수 있음\n",
    "def product(args):\n",
    "    result = 1\n",
    "    for num in args:\n",
    "        result *= num\n",
    "    return result\n",
    "\n",
    "product(3, 3)"
   ]
  },
  {
   "cell_type": "markdown",
   "metadata": {},
   "source": [
    "> sum() 내장함수는 위와 같이 하나의 반복가능 인수(리스트같은) 를 기대하므로 여러 인수를 넘기면 예외가 발생한다."
   ]
  },
  {
   "cell_type": "code",
   "execution_count": 23,
   "metadata": {},
   "outputs": [
    {
     "data": {
      "text/plain": [
       "10"
      ]
     },
     "execution_count": 23,
     "metadata": {},
     "output_type": "execute_result"
    }
   ],
   "source": [
    "sum([2, 1, 4, 3])"
   ]
  },
  {
   "cell_type": "code",
   "execution_count": 24,
   "metadata": {},
   "outputs": [
    {
     "ename": "TypeError",
     "evalue": "sum() takes at most 2 arguments (4 given)",
     "output_type": "error",
     "traceback": [
      "\u001b[0;31m---------------------------------------------------------------------------\u001b[0m",
      "\u001b[0;31mTypeError\u001b[0m                                 Traceback (most recent call last)",
      "Cell \u001b[0;32mIn [24], line 1\u001b[0m\n\u001b[0;32m----> 1\u001b[0m \u001b[39msum\u001b[39;49m(\u001b[39m2\u001b[39;49m, \u001b[39m1\u001b[39;49m ,\u001b[39m4\u001b[39;49m ,\u001b[39m3\u001b[39;49m)\n",
      "\u001b[0;31mTypeError\u001b[0m: sum() takes at most 2 arguments (4 given)"
     ]
    }
   ],
   "source": [
    "sum(2, 1 ,4 ,3)"
   ]
  },
  {
   "cell_type": "markdown",
   "metadata": {},
   "source": [
    "> min(), max() 내장함수는 단일 반복가능 인수나 여러 개의 개별 인수를 모두 받아들인다."
   ]
  },
  {
   "cell_type": "code",
   "execution_count": 25,
   "metadata": {},
   "outputs": [
    {
     "data": {
      "text/plain": [
       "1"
      ]
     },
     "execution_count": 25,
     "metadata": {},
     "output_type": "execute_result"
    }
   ],
   "source": [
    "min([2, 1, 3, 5, 8])"
   ]
  },
  {
   "cell_type": "code",
   "execution_count": 28,
   "metadata": {},
   "outputs": [
    {
     "data": {
      "text/plain": [
       "1"
      ]
     },
     "execution_count": 28,
     "metadata": {},
     "output_type": "execute_result"
    }
   ],
   "source": [
    "min(2, 1, 3, 5, 8)"
   ]
  },
  {
   "cell_type": "code",
   "execution_count": 27,
   "metadata": {},
   "outputs": [
    {
     "data": {
      "text/plain": [
       "8"
      ]
     },
     "execution_count": 27,
     "metadata": {},
     "output_type": "execute_result"
    }
   ],
   "source": [
    "max([2, 1, 3, 5, 8])"
   ]
  },
  {
   "cell_type": "code",
   "execution_count": 29,
   "metadata": {},
   "outputs": [
    {
     "data": {
      "text/plain": [
       "8"
      ]
     },
     "execution_count": 29,
     "metadata": {},
     "output_type": "execute_result"
    }
   ],
   "source": [
    "max(2, 1, 3, 5, 8)"
   ]
  },
  {
   "cell_type": "markdown",
   "metadata": {},
   "source": [
    "> 아래의 myMinFunction()은 튜플로 가변인수를 받아들이는데, 튜플에 값이 하나만 포함되어 있는 경우 인수가 시퀀스라고 가정하고, 그렇지 않으면 튜플이라고 가정한다."
   ]
  },
  {
   "cell_type": "code",
   "execution_count": 48,
   "metadata": {},
   "outputs": [],
   "source": [
    "def myMinFunction(*args):\n",
    "    print(args)\n",
    "    if len(args) == 1:\n",
    "        values = args[0]\n",
    "        print(values)\n",
    "    else:\n",
    "        values = args\n",
    "\n",
    "    if len(values) == 0:\n",
    "        raise ValueError('myMinFunction() args is an empty sequence')\n",
    "    \n",
    "    for i, value in enumerate(values):\n",
    "        print('i value = ', (i, value))\n",
    "        if i == 0 or value < smallestValue:\n",
    "            print(i, value)\n",
    "            smallestValue = value\n",
    "    return smallestValue"
   ]
  },
  {
   "cell_type": "code",
   "execution_count": 49,
   "metadata": {},
   "outputs": [
    {
     "name": "stdout",
     "output_type": "stream",
     "text": [
      "([4, 3, 2, 1],)\n",
      "[4, 3, 2, 1]\n",
      "i value =  (0, 4)\n",
      "0 4\n",
      "i value =  (1, 3)\n",
      "1 3\n",
      "i value =  (2, 2)\n",
      "2 2\n",
      "i value =  (3, 1)\n",
      "3 1\n"
     ]
    },
    {
     "data": {
      "text/plain": [
       "1"
      ]
     },
     "execution_count": 49,
     "metadata": {},
     "output_type": "execute_result"
    }
   ],
   "source": [
    "myMinFunction([4,3,2,1])"
   ]
  },
  {
   "cell_type": "markdown",
   "metadata": {},
   "source": [
    "##### **를 사용해 가변인수 함수 만들기"
   ]
  },
  {
   "cell_type": "code",
   "execution_count": 69,
   "metadata": {},
   "outputs": [
    {
     "name": "stdout",
     "output_type": "stream",
     "text": [
      "{'hydrogen': 2, 'oxygen': 1}\n",
      "2\n"
     ]
    },
    {
     "data": {
      "text/plain": [
       "'water'"
      ]
     },
     "execution_count": 69,
     "metadata": {},
     "output_type": "execute_result"
    }
   ],
   "source": [
    "# 화학 원소 출력 함수\n",
    "def formMolecules(**kwargs):\n",
    "    print(kwargs)\n",
    "    print(len(kwargs))\n",
    "    if len(kwargs) == 2 and kwargs['hydrogen'] == 2 and kwargs['oxygen'] == 1:\n",
    "        return 'water'\n",
    "    else:\n",
    "        return 'Not water'\n",
    "\n",
    "formMolecules(hydrogen = 2, oxygen = 1)"
   ]
  },
  {
   "cell_type": "markdown",
   "metadata": {},
   "source": [
    "> 새로운 화학 원소가 발견되는 경우에도 모든 키워드 인수가 kwargs로 들어가기 때문에 def 안의 코드만 업데이트 하면 된다."
   ]
  },
  {
   "cell_type": "code",
   "execution_count": 72,
   "metadata": {},
   "outputs": [
    {
     "data": {
      "text/plain": [
       "'aether'"
      ]
     },
     "execution_count": 72,
     "metadata": {},
     "output_type": "execute_result"
    }
   ],
   "source": [
    "def formMolecules(**kwargs):\n",
    "    if len(kwargs) == 2 and kwargs['hydrogen'] == 2 and kwargs['oxygen'] == 1:\n",
    "        return 'water'\n",
    "    elif len(kwargs) == 1 and kwargs.get('unobtanium') == 12:\n",
    "        return 'aether'\n",
    "\n",
    "formMolecules(unobtanium = 12)"
   ]
  },
  {
   "cell_type": "markdown",
   "metadata": {},
   "source": [
    "##### *와 **로 래퍼(wrapper) 함수 만들기"
   ]
  },
  {
   "cell_type": "markdown",
   "metadata": {},
   "source": [
    "> wrapper 함수는 인수를 다른 함수로 전달하고 해당 함수의 결괏값을 반환한다. * 구문과 ** 구문을 사용해 일부 또는 모든 인수를 wrapper 함수로 전달할 수 있다."
   ]
  },
  {
   "cell_type": "code",
   "execution_count": 110,
   "metadata": {},
   "outputs": [
    {
     "name": "stdout",
     "output_type": "stream",
     "text": [
      "Hello, Albert\n"
     ]
    }
   ],
   "source": [
    "def printLower(*args, **kwargs):\n",
    "    print('args = ', args)\n",
    "    print(\"kwargs =\" , kwargs)\n",
    "    args = list(args)  # tuple로 들어온 args를 list로 바꿔줌\n",
    "    print(args)\n",
    "    for i, value in enumerate(args):\n",
    "        args[i] = str(value).lower()\n",
    "        print('lower_args = ' , args)\n",
    "    return print(*args, **kwargs)\n",
    "\n",
    "name = 'Albert'\n",
    "print('Hello,' ,name)"
   ]
  },
  {
   "cell_type": "code",
   "execution_count": 111,
   "metadata": {},
   "outputs": [
    {
     "name": "stdout",
     "output_type": "stream",
     "text": [
      "args =  ('Hello, ', 'Albert')\n",
      "kwargs = {}\n",
      "['Hello, ', 'Albert']\n",
      "lower_args =  ['hello, ', 'Albert']\n",
      "lower_args =  ['hello, ', 'albert']\n",
      "hello,  albert\n"
     ]
    }
   ],
   "source": [
    "printLower('Hello, ', name)"
   ]
  },
  {
   "cell_type": "code",
   "execution_count": 112,
   "metadata": {},
   "outputs": [
    {
     "name": "stdout",
     "output_type": "stream",
     "text": [
      "args =  ('DOG', 'CAT', 'MOOSE')\n",
      "kwargs = {'sep': '-'}\n",
      "['DOG', 'CAT', 'MOOSE']\n",
      "lower_args =  ['dog', 'CAT', 'MOOSE']\n",
      "lower_args =  ['dog', 'cat', 'MOOSE']\n",
      "lower_args =  ['dog', 'cat', 'moose']\n",
      "dog-cat-moose\n"
     ]
    }
   ],
   "source": [
    "printLower('DOG', 'CAT', 'MOOSE', sep='-')"
   ]
  },
  {
   "cell_type": "markdown",
   "metadata": {},
   "source": [
    "### 함수명 프로그래밍"
   ]
  },
  {
   "cell_type": "markdown",
   "metadata": {},
   "source": [
    "##### 부수효과"
   ]
  },
  {
   "cell_type": "code",
   "execution_count": 1,
   "metadata": {},
   "outputs": [
    {
     "data": {
      "text/plain": [
       "5"
      ]
     },
     "execution_count": 1,
     "metadata": {},
     "output_type": "execute_result"
    }
   ],
   "source": [
    "def subtract(number1, number2):\n",
    "    return number1 - number2\n",
    "\n",
    "subtract(10, 5)"
   ]
  },
  {
   "cell_type": "code",
   "execution_count": 2,
   "metadata": {},
   "outputs": [],
   "source": [
    "TOTAL = 0\n",
    "def addToTotal(amount):\n",
    "    global TOTAL\n",
    "    TOTAL += amount\n",
    "    return TOTAL\n",
    "    "
   ]
  },
  {
   "cell_type": "code",
   "execution_count": 3,
   "metadata": {},
   "outputs": [
    {
     "data": {
      "text/plain": [
       "10"
      ]
     },
     "execution_count": 3,
     "metadata": {},
     "output_type": "execute_result"
    }
   ],
   "source": [
    "addToTotal(10)"
   ]
  },
  {
   "cell_type": "code",
   "execution_count": 4,
   "metadata": {},
   "outputs": [
    {
     "data": {
      "text/plain": [
       "110"
      ]
     },
     "execution_count": 4,
     "metadata": {},
     "output_type": "execute_result"
    }
   ],
   "source": [
    "addToTotal(100)"
   ]
  },
  {
   "cell_type": "code",
   "execution_count": 5,
   "metadata": {},
   "outputs": [
    {
     "data": {
      "text/plain": [
       "110"
      ]
     },
     "execution_count": 5,
     "metadata": {},
     "output_type": "execute_result"
    }
   ],
   "source": [
    "TOTAL"
   ]
  },
  {
   "cell_type": "markdown",
   "metadata": {},
   "source": [
    "> 위의 예시처럼 함수 호출이 반환된 후에 남기는 모든 흔적 = 부수효과"
   ]
  },
  {
   "cell_type": "markdown",
   "metadata": {},
   "source": [
    "### 고차원 함수"
   ]
  },
  {
   "cell_type": "markdown",
   "metadata": {},
   "source": [
    "> 고차원 함수는 다른 함수를 인수로 넘기거나 반환할 수 있다. 아래의 함수는 인수로 주어진 함수를 두 번 호출한다."
   ]
  },
  {
   "cell_type": "code",
   "execution_count": 6,
   "metadata": {},
   "outputs": [
    {
     "name": "stdout",
     "output_type": "stream",
     "text": [
      "Hello, world!\n",
      "Hello, world!\n"
     ]
    }
   ],
   "source": [
    "def callItTwice(func, *args, **kwargs):\n",
    "    func(*args, **kwargs)\n",
    "    func(*args, **kwargs)\n",
    "\n",
    "callItTwice(print, 'Hello, world!')"
   ]
  },
  {
   "cell_type": "markdown",
   "metadata": {},
   "source": [
    "### 람다 함수(익명 함수)"
   ]
  },
  {
   "cell_type": "markdown",
   "metadata": {},
   "source": [
    "> 람다 함수는 이름이 없고 코드가 오직 하나의 return 문으로만 구성된 함수이다. 함수를 다른 함수에 인수로 전달할 때 자주 사용한다."
   ]
  },
  {
   "cell_type": "code",
   "execution_count": 7,
   "metadata": {},
   "outputs": [
    {
     "data": {
      "text/plain": [
       "28"
      ]
     },
     "execution_count": 7,
     "metadata": {},
     "output_type": "execute_result"
    }
   ],
   "source": [
    "def rectanglePerimeter(rect):\n",
    "    return (rect[0] * 2) + (rect[1] * 2)\n",
    "\n",
    "myRectangle = [4, 10]\n",
    "rectanglePerimeter(myRectangle)"
   ]
  },
  {
   "cell_type": "markdown",
   "metadata": {},
   "source": [
    ">  형식 : lambda 매개변수 : 결과"
   ]
  },
  {
   "cell_type": "code",
   "execution_count": 32,
   "metadata": {},
   "outputs": [
    {
     "data": {
      "text/plain": [
       "2"
      ]
     },
     "execution_count": 32,
     "metadata": {},
     "output_type": "execute_result"
    }
   ],
   "source": [
    "sum = lambda x: x+1\n",
    "sum(1)"
   ]
  },
  {
   "cell_type": "markdown",
   "metadata": {},
   "source": [
    "##### 람다 표현식을 괄호로 묶은 뒤에 다시 괄호를 붙이고 인수를 넣어 호출"
   ]
  },
  {
   "cell_type": "code",
   "execution_count": 12,
   "metadata": {},
   "outputs": [
    {
     "data": {
      "text/plain": [
       "11"
      ]
     },
     "execution_count": 12,
     "metadata": {},
     "output_type": "execute_result"
    }
   ],
   "source": [
    "(lambda x: x + 10)(1)"
   ]
  },
  {
   "cell_type": "code",
   "execution_count": 16,
   "metadata": {},
   "outputs": [
    {
     "data": {
      "text/plain": [
       "6"
      ]
     },
     "execution_count": 16,
     "metadata": {},
     "output_type": "execute_result"
    }
   ],
   "source": [
    "# 인자 두 개 쓰기\n",
    "(lambda x,y: x+y)(1, 5)"
   ]
  },
  {
   "cell_type": "markdown",
   "metadata": {},
   "source": [
    "> 위와 같이 람다 함수는 def로 정의된 함수와 같다."
   ]
  },
  {
   "cell_type": "markdown",
   "metadata": {},
   "source": [
    "##### sorted()\n",
    "\n",
    "```python\n",
    "sorted(<list> , key = <function> , reverse = <bool>)\n",
    "```\n",
    "\n",
    "- 원본 내용을 바꾸지 않고, 정렬한 값을 반환한다\n",
    "- List, tuple, Dictionary, str에 모두 사용 가능하다\n",
    "- key를 통하여 정렬할 기준을 정할 수 있다\n",
    "- reverse가 True이면 내림차순, False이면 오름차순으로 정렬한다"
   ]
  },
  {
   "cell_type": "code",
   "execution_count": 11,
   "metadata": {},
   "outputs": [
    {
     "name": "stdout",
     "output_type": "stream",
     "text": [
      "[40, 20, 15, 10]\n"
     ]
    }
   ],
   "source": [
    "arr = [10, 40, 20, 15]\n",
    "arr = sorted(arr, reverse = True)\n",
    "print(arr)"
   ]
  },
  {
   "cell_type": "markdown",
   "metadata": {},
   "source": [
    "##### key 인자를 정하지 않은 기본적인 sorted()"
   ]
  },
  {
   "cell_type": "code",
   "execution_count": 18,
   "metadata": {},
   "outputs": [],
   "source": [
    "a = [(1, 2), (5, 1), (0, 1), (5, 2), (3, 0)]"
   ]
  },
  {
   "cell_type": "code",
   "execution_count": 20,
   "metadata": {},
   "outputs": [
    {
     "data": {
      "text/plain": [
       "[(0, 1), (1, 2), (3, 0), (5, 1), (5, 2)]"
      ]
     },
     "execution_count": 20,
     "metadata": {},
     "output_type": "execute_result"
    }
   ],
   "source": [
    "b = sorted(a)\n",
    "b"
   ]
  },
  {
   "cell_type": "markdown",
   "metadata": {},
   "source": [
    "##### sorted() 의 key로 lambda사용"
   ]
  },
  {
   "cell_type": "code",
   "execution_count": 27,
   "metadata": {},
   "outputs": [
    {
     "data": {
      "text/plain": [
       "[(0, 1), (1, 2), (3, 0), (5, 1), (5, 2)]"
      ]
     },
     "execution_count": 27,
     "metadata": {},
     "output_type": "execute_result"
    }
   ],
   "source": [
    "# 튜플의 첫번째 값을 기준으로 정렬\n",
    "a = [(1, 2), (5, 1), (0, 1), (5, 2), (3, 0)]\n",
    "c = sorted(a, key = lambda x : x[0])\n",
    "c"
   ]
  },
  {
   "cell_type": "code",
   "execution_count": 31,
   "metadata": {},
   "outputs": [
    {
     "data": {
      "text/plain": [
       "[(3, 0), (5, 1), (0, 1), (1, 2), (5, 2)]"
      ]
     },
     "execution_count": 31,
     "metadata": {},
     "output_type": "execute_result"
    }
   ],
   "source": [
    "# 튜플의 두번째 값을 기준으로 정렬\n",
    "a = [(1, 2), (5, 1), (0, 1), (5, 2), (3, 0)]\n",
    "d = sorted(a, key = lambda x : x[1])\n",
    "d"
   ]
  },
  {
   "cell_type": "markdown",
   "metadata": {},
   "source": [
    "##### map 람다 표현식"
   ]
  },
  {
   "cell_type": "markdown",
   "metadata": {},
   "source": [
    "> map 함수: map(조건 함수, 순회 가능한 데이터)\n",
    "> - 두 번째 인자로 들어온 반복 가능한 자료형 (리스트나 튜플)을 첫 번째 인자로 들어온 함수에 하나씩 집어넣어서 함수를 수행하는 함수"
   ]
  },
  {
   "cell_type": "code",
   "execution_count": 43,
   "metadata": {},
   "outputs": [
    {
     "data": {
      "text/plain": [
       "[1, 2, 3]"
      ]
     },
     "execution_count": 43,
     "metadata": {},
     "output_type": "execute_result"
    }
   ],
   "source": [
    "# map example\n",
    "a = [1.1, 2.2, 3.3]\n",
    "b = list(map(int, a))\n",
    "b"
   ]
  },
  {
   "cell_type": "code",
   "execution_count": 33,
   "metadata": {},
   "outputs": [
    {
     "data": {
      "text/plain": [
       "[11, 12, 13]"
      ]
     },
     "execution_count": 33,
     "metadata": {},
     "output_type": "execute_result"
    }
   ],
   "source": [
    "list(map(lambda x: x+10, [1,2,3]))"
   ]
  },
  {
   "cell_type": "markdown",
   "metadata": {},
   "source": [
    "##### filter 람다 표현식"
   ]
  },
  {
   "cell_type": "markdown",
   "metadata": {},
   "source": [
    "> filter 함수: filter(조건 함수, 순회 가능한 데이터)\n",
    "> - 두번째 인자로 넘어온 데이터 중에서 첫번째 인자로 넘어온 조건 함수를 만족하는 데이터만을 반환하는 함수"
   ]
  },
  {
   "cell_type": "code",
   "execution_count": 44,
   "metadata": {},
   "outputs": [
    {
     "data": {
      "text/plain": [
       "[8, 9, 11, 13]"
      ]
     },
     "execution_count": 44,
     "metadata": {},
     "output_type": "execute_result"
    }
   ],
   "source": [
    "# 조건식의 boolean 값이 True 참인 요소만 반환한다\n",
    "a = [8, 4, 2, 5, 2, 7, 9, 11, 26, 13]\n",
    "result = list(filter(lambda x : x > 7 and x < 15, a))\n",
    "result"
   ]
  },
  {
   "cell_type": "markdown",
   "metadata": {},
   "source": [
    "### 리스트 컴프리헨션을 이용한 매핑과 필터링"
   ]
  },
  {
   "cell_type": "markdown",
   "metadata": {},
   "source": [
    "> map()과 filter()을 쓰는 것은 한물간 방법.."
   ]
  },
  {
   "cell_type": "code",
   "execution_count": null,
   "metadata": {},
   "outputs": [],
   "source": [
    "#"
   ]
  }
 ],
 "metadata": {
  "kernelspec": {
   "display_name": "Python 3.10.7 64-bit",
   "language": "python",
   "name": "python3"
  },
  "language_info": {
   "codemirror_mode": {
    "name": "ipython",
    "version": 3
   },
   "file_extension": ".py",
   "mimetype": "text/x-python",
   "name": "python",
   "nbconvert_exporter": "python",
   "pygments_lexer": "ipython3",
   "version": "3.10.7"
  },
  "orig_nbformat": 4,
  "vscode": {
   "interpreter": {
    "hash": "aee8b7b246df8f9039afb4144a1f6fd8d2ca17a180786b69acc140d282b71a49"
   }
  }
 },
 "nbformat": 4,
 "nbformat_minor": 2
}
