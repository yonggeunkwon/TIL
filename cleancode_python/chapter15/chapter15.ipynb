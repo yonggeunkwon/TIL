{
 "cells": [
  {
   "cell_type": "markdown",
   "metadata": {},
   "source": [
    "# Chapter15 틱택토 게임으로 배우는 객체지향 프로그래밍과 클래스"
   ]
  },
  {
   "cell_type": "markdown",
   "metadata": {},
   "source": [
    "### 객체지향 프로그래밍\n",
    "\n",
    "- 변수와 함수를 함께 묶어서 클래스라는 데이터 타입을 만들 수 있는 프로그래밍 언어\n",
    "- 코드를 클래스로 구성하면 이해하고 디버깅하기 쉬움"
   ]
  },
  {
   "cell_type": "markdown",
   "metadata": {},
   "source": [
    "### 실세계 비유 : 온라인 양식 기입\n",
    "\n",
    "- 클래스에 들어가는 내용은 프로그램이 무엇을 해야 하는지에 따라 달라진다.\n",
    "- 예를 들어, 동일한 인물이어도 각기 다른 클래스에서 만들어진 고객, 직원, 환자, 결혼식 하객의 객체, 소프트웨어 애플리케이션이 사용자에 대해 알아야 할 사항에 따라 객체가 달라진다."
   ]
  },
  {
   "cell_type": "markdown",
   "metadata": {},
   "source": [
    "### 클래스에서 객체 생성하기\n",
    "\n",
    "- datetime.date 클래스의 객체 생성하기"
   ]
  },
  {
   "cell_type": "code",
   "execution_count": 7,
   "metadata": {},
   "outputs": [
    {
     "data": {
      "text/plain": [
       "1999"
      ]
     },
     "execution_count": 7,
     "metadata": {},
     "output_type": "execute_result"
    }
   ],
   "source": [
    "import datetime\n",
    "birthday = datetime.date(1999, 3, 18)  # 새로운 날짜 객체 생성, 기본 인수인 1999, 3, 18로 초기화되므로 이 객체는 1999년 3월 18일을 나타냄\n",
    "birthday.year"
   ]
  },
  {
   "cell_type": "code",
   "execution_count": 2,
   "metadata": {},
   "outputs": [
    {
     "data": {
      "text/plain": [
       "3"
      ]
     },
     "execution_count": 2,
     "metadata": {},
     "output_type": "execute_result"
    }
   ],
   "source": [
    "birthday.month"
   ]
  },
  {
   "cell_type": "code",
   "execution_count": 3,
   "metadata": {},
   "outputs": [
    {
     "data": {
      "text/plain": [
       "18"
      ]
     },
     "execution_count": 3,
     "metadata": {},
     "output_type": "execute_result"
    }
   ],
   "source": [
    "birthday.day"
   ]
  },
  {
   "cell_type": "code",
   "execution_count": 8,
   "metadata": {},
   "outputs": [
    {
     "data": {
      "text/plain": [
       "3"
      ]
     },
     "execution_count": 8,
     "metadata": {},
     "output_type": "execute_result"
    }
   ],
   "source": [
    "birthday.weekday()  # weekday() 메소드로 요일을 계산할 수 있다. 월요일 = 0, 일요일 = 6"
   ]
  },
  {
   "cell_type": "markdown",
   "metadata": {},
   "source": [
    "### WizCoin이라는 간단한 클래스 생성하기\n",
    "\n",
    "- 화폐단위 : 크넛, 시클(29크넛), 갈레온(17시클 또는 493크넛)\n",
    "- 모든 메소드는 self라는 첫 번째 파라미터를 가진다.\n",
    "- 관례적으로 클래스의 이름은 대문자로 시작한다.\n",
    "- date같은 파이썬 표준 라이브러리의 일부 클래스는 위와 같은 관례를 따르지 않고 소문자로 시작한다.\n",
    "- wcexample.py 파일 참고"
   ]
  },
  {
   "cell_type": "code",
   "execution_count": 4,
   "metadata": {},
   "outputs": [],
   "source": [
    "class WizCoin:  # 1.class 문을 통해 WizCoin이라는 새로운 클래스 정의\n",
    "    def __init__(self, galleons, sickles, knuts):  # 메소드가 객체에서 호출되면 self 파라미터가 객체에 자동으로 전달된다.\n",
    "        \"\"\"galleons, sickles, knuts로 새로운 WizCoin 객체를 생성한다.\"\"\"\n",
    "        self.galleons = galleons  # 일반적으로 __init__() 에서 파라미터 이름이 속성 이름과 같다. self가 앞에 붙은 경우 객체의 속성, 안 붙은 경우 파라미터.\n",
    "        self.sickles = sickles\n",
    "        self.knuts = knuts\n",
    "        # 참고로, __init__() 메소드에는 return문이 존재해서는 안 된다\n",
    "\n",
    "    def value(self):\n",
    "        \"\"\"이 WizCoin 객체에 포함된 모든 동전의 가치(크넛 단위)\"\"\"\n",
    "        return (self.galleons * 17 * 29) + (self.sickles * 29) + (self.knuts)\n",
    "\n",
    "    def weightInGrams(self):\n",
    "        \"\"\"그램 단위로 동전의 무게를 반환한다.\"\"\"\n",
    "        return (self.galleons * 31.103) + (self.sickles * 11.34) + (self.knuts * 5.0)"
   ]
  },
  {
   "cell_type": "markdown",
   "metadata": {},
   "source": [
    "### 메소드, `__init__()`, self\n",
    "\n",
    "- 클래스 이름을 함수로서 호출하여 객체를 만든다.\n",
    "- 새로운 객체를 만들기 때문에 이 함수를 생성자 함수(constructor)라고 부른다.\n",
    "- 생성자를 호출하면 파이썬이 새 객체를 만든 후 `__init__()` 메소드를 실행한다.\n",
    "- 클래스에 `__init__()` 메소드를 반드시 정의할 필요는 없지만 일반적으로 정의하는 경우가 대부분이다.\n",
    "- `__init__()` 메소드는 보통 속성의 초깃값을 설정하는 용도이다."
   ]
  },
  {
   "cell_type": "code",
   "execution_count": 2,
   "metadata": {},
   "outputs": [
    {
     "name": "stdout",
     "output_type": "stream",
     "text": [
      "<__main__.WizCoin object at 0x10fe2a8c0>\n",
      "G: 2 S: 5 K: 99\n",
      "Total value: 1230\n",
      "Weight: 613.906 grams\n",
      "\n"
     ]
    }
   ],
   "source": [
    "purse = WizCoin(2, 5, 99)  # WizCoin(2, 5, 99)을 호출하면, 파이썬은 새로운 WizCoin 객체를 만든 후 인수 3개를 __init__()으로 전달한다.\n",
    "print(purse)\n",
    "print('G:', purse.galleons, 'S:', purse.sickles, 'K:', purse.knuts)\n",
    "print('Total value:', purse.value())\n",
    "print('Weight:', purse.weightInGrams(), 'grams')\n",
    "print()"
   ]
  },
  {
   "cell_type": "markdown",
   "metadata": {},
   "source": [
    "### 속성\n",
    "\n",
    "- 속성은 객체와 연관된 변수\n",
    "- 점(.) 뒤에 따라오는 모든 이름\n",
    "- 객체의 속성은 딕셔너리의 키과 비슷하다 => 연관된 값을 읽고 수정하며, 객체의 새로운 속성을 대입할 수 있다."
   ]
  },
  {
   "cell_type": "code",
   "execution_count": 6,
   "metadata": {},
   "outputs": [
    {
     "name": "stdout",
     "output_type": "stream",
     "text": [
      "7\n",
      "17\n"
     ]
    }
   ],
   "source": [
    "change = WizCoin(9, 7 ,20)\n",
    "print(change.sickles)  # 7 출력\n",
    "change.sickles += 10\n",
    "print(change.sickles) # 17 출력"
   ]
  },
  {
   "cell_type": "code",
   "execution_count": 7,
   "metadata": {},
   "outputs": [
    {
     "name": "stdout",
     "output_type": "stream",
     "text": [
      "3\n",
      "새로운 속성\n"
     ]
    }
   ],
   "source": [
    "pile = WizCoin(2, 3, 31)\n",
    "print(pile.sickles)\n",
    "pile.someNewAttribute = '새로운 속성'  # 새로운 속성 정의\n",
    "print(pile.someNewAttribute)"
   ]
  },
  {
   "cell_type": "markdown",
   "metadata": {},
   "source": [
    "### 프라이빗 속성과 프라이빗 메소드\n",
    "\n",
    "- C++이나 자바 등의 언어에서는 프라이빗 접근으로 속성을 지정할 수 있지만, 파이썬에서는 모든 속성과 메소드가 사실상 퍼블릭 접근을 허용한다.\n",
    "- 즉, 클래스 외부의 코드는 해당 클래스로 생성된 모든 객체의 속성에 접근하고 해당 속성을 수정할 수 있다.\n",
    "- 파이썬에서는 private 메소드 이름에 (_)하나를 붙여 시작하는 관례를 따른다."
   ]
  },
  {
   "cell_type": "code",
   "execution_count": 14,
   "metadata": {},
   "outputs": [],
   "source": [
    "class BankAccount:\n",
    "    def __init__(self, accountHandler):\n",
    "        # self._balance에 BankAccount 메소드는 접근할 수 있지만,\n",
    "        # 이 클래스의 외부의 코드는 접근하면 안 된다.\n",
    "        self._balance = 0   # _balance 속성을 프라이빗으로 지정\n",
    "        self._name = accountHandler  # _name 속성을 프라이빗으로 지정\n",
    "        with open(self._name + 'Ledger.txt', 'w') as ledgerFile:\n",
    "            ledgerFile.write('Balance is 0\\n')\n",
    "\n",
    "    def deposit(self, amount):\n",
    "        if amount <= 0 :\n",
    "            return  # 음수 잔고를 허용하지 않음\n",
    "        self._balance += amount\n",
    "        with open(self._name + 'Ledger.txt', 'a') as ledgerFile:\n",
    "            ledgerFile.write('Deposit ' + str(amount) + '\\n')\n",
    "            ledgerFile.write('Balance is ' + str(self._balance) + '\\n')\n",
    "\n",
    "    def withdraw(self, amount):\n",
    "        if self._balance < amount or amount < 0:\n",
    "            return  # 잔고가 충분하지 않거나 인출금액이 음수다\n",
    "        self._balance -= amount\n",
    "        with open(self._name + 'Ledger.txt', 'a') as ledgerFile:\n",
    "            ledgerFile.write('Withdraw ' + str(amount) + '\\n')\n",
    "            ledgerFile.write('Balance is ' + str(self._balance) + '\\n')\n",
    "\n",
    "acct = BankAccount('Alice')  # Alice를 위한 계좌 생성\n",
    "acct.deposit(120)  # _balance는 deposit()에 의해 영향받을 수 있다.\n",
    "acct.withdraw(40)  # _balance는 withdraw()에 의해 영향받을 수 있다. \n",
    "\n",
    "# BankAccount 외부에서 _name이나 _balance를 변경하는 것은 관례에서 벗어나지만 허용된다. 하지만 버그의 원인이 될 수 있음\n",
    "\n",
    "acct._balance = 100000000\n",
    "acct.withdraw(1000)\n",
    "\n",
    "acct._name = 'Bob'\n",
    "acct.withdraw(1000)"
   ]
  },
  {
   "cell_type": "markdown",
   "metadata": {},
   "source": [
    "### type() 함수와 `__qualname__` 속성"
   ]
  },
  {
   "cell_type": "code",
   "execution_count": 15,
   "metadata": {},
   "outputs": [
    {
     "data": {
      "text/plain": [
       "int"
      ]
     },
     "execution_count": 15,
     "metadata": {},
     "output_type": "execute_result"
    }
   ],
   "source": [
    "type(42)"
   ]
  },
  {
   "cell_type": "code",
   "execution_count": 16,
   "metadata": {},
   "outputs": [
    {
     "data": {
      "text/plain": [
       "\"<class 'int'>\""
      ]
     },
     "execution_count": 16,
     "metadata": {},
     "output_type": "execute_result"
    }
   ],
   "source": [
    "str(type(42))"
   ]
  },
  {
   "cell_type": "code",
   "execution_count": 18,
   "metadata": {},
   "outputs": [
    {
     "data": {
      "text/plain": [
       "'int'"
      ]
     },
     "execution_count": 18,
     "metadata": {},
     "output_type": "execute_result"
    }
   ],
   "source": [
    "type(42).__qualname__  # __qualname__ 속성은 좀 더 깔끔한 문자열을 반환한다."
   ]
  },
  {
   "cell_type": "markdown",
   "metadata": {},
   "source": [
    "### 객체지향 vs 비 객체지향 방식의 프로그램 비교 : 틱택토 게임"
   ]
  },
  {
   "cell_type": "markdown",
   "metadata": {},
   "source": [
    "- tictactoe.py, tictactoe_oop.py 파일 참고\n",
    "- 기능적으로는 동일하지만, 함수가 길어지면 함수들이 수백개 들어 있는 프로그램보다는 클래스가 수십개 들어 있는 프로그램이 이해하기 쉽다.\n",
    "- OOP는 코드를 제대로 조직화할 수 있는 유용한 방법\n",
    "- 프로그램을 여러 개의 클래스로 쪼개서, 각각의 클래스에 개별적으로 집중 가능"
   ]
  }
 ],
 "metadata": {
  "kernelspec": {
   "display_name": "Python 3.10.7 64-bit",
   "language": "python",
   "name": "python3"
  },
  "language_info": {
   "codemirror_mode": {
    "name": "ipython",
    "version": 3
   },
   "file_extension": ".py",
   "mimetype": "text/x-python",
   "name": "python",
   "nbconvert_exporter": "python",
   "pygments_lexer": "ipython3",
   "version": "3.10.7"
  },
  "orig_nbformat": 4,
  "vscode": {
   "interpreter": {
    "hash": "aee8b7b246df8f9039afb4144a1f6fd8d2ca17a180786b69acc140d282b71a49"
   }
  }
 },
 "nbformat": 4,
 "nbformat_minor": 2
}
