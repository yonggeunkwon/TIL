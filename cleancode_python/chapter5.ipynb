{
 "cells": [
  {
   "cell_type": "markdown",
   "metadata": {},
   "source": [
    "# chapter5"
   ]
  },
  {
   "cell_type": "markdown",
   "metadata": {},
   "source": [
    "### 버그의 낌새가 느껴진다면 작업을 멈추고 확인한다."
   ]
  },
  {
   "cell_type": "markdown",
   "metadata": {},
   "source": [
    "### 중복된 코드\n",
    "\n",
    "\n",
    "> 프로그램에 다른 코드를 복사해서 붙여넣는 방식으로 만들 수 있는 모든 소스 코드\n",
    "중복된 코드는 코드 변경이 까다롭다. 예를 들어, 중복된 코드의 하나에 변경을 가하면 프로그램 내의 모든 복사본도 함께 변경해야 한다.\n",
    "코드가 한두번 반복되는 것 정도는 괜찮지만 서너번 이상 반복되는 사본이 존재한다면 중복을 없애줘야 한다.\n",
    "그렇다면 중복된 코드는 어떻게 해결해야 할까? => 중복을 없앤다.\n",
    "어떻게 없애나? => 함수나 반복문 안에 넣어서 한번만 작동하게 한다.\n"
   ]
  },
  {
   "cell_type": "code",
   "execution_count": null,
   "metadata": {},
   "outputs": [],
   "source": []
  },
  {
   "cell_type": "markdown",
   "metadata": {},
   "source": []
  }
 ],
 "metadata": {
  "kernelspec": {
   "display_name": "Python 3.10.7 64-bit",
   "language": "python",
   "name": "python3"
  },
  "language_info": {
   "codemirror_mode": {
    "name": "ipython",
    "version": 3
   },
   "file_extension": ".py",
   "mimetype": "text/x-python",
   "name": "python",
   "nbconvert_exporter": "python",
   "pygments_lexer": "ipython3",
   "version": "3.10.7"
  },
  "orig_nbformat": 4,
  "vscode": {
   "interpreter": {
    "hash": "aee8b7b246df8f9039afb4144a1f6fd8d2ca17a180786b69acc140d282b71a49"
   }
  }
 },
 "nbformat": 4,
 "nbformat_minor": 2
}
