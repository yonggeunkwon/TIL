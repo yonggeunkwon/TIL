{
 "cells": [
  {
   "cell_type": "markdown",
   "metadata": {},
   "source": [
    "# Chapter13 빅오를 활용한 알고리즘 성능 분석과 개선"
   ]
  },
  {
   "cell_type": "markdown",
   "metadata": {},
   "source": [
    "### timeit 모듈\n",
    "\n",
    "- timeit 모듈은 작은 코드 조각의 실행시간 속도를 수백만번씩 실행해서 측정해, 평균 실행시간을 계산할 수 있다.\n",
    "- 또한 timeit 모듈은 가비지컬렉터를 일시적으로 비활성화하여 더욱 일관된 실행시간을 보장한다."
   ]
  },
  {
   "cell_type": "markdown",
   "metadata": {},
   "source": [
    "### timeit 함수의 파라미터\n",
    "timeit.timeit(stmt='pass', setup='pass', timer=<default timer>, number=1000000, globals=None)\n",
    "- stmt: 실행측정할 코드 및 함수\n",
    "- setup: stmt를 실행하기 위해 사전에 필요한 코드나 함수를 선언. setup의 실행 시간은 전체 측정 실행 시간에서 제외됨\n",
    "- timer: Timer 인스턴스\n",
    "- number: 선언한 stmt의 수행 횟수. 선언하지 않으면 기본값으로 1000000번이 실행됨"
   ]
  },
  {
   "cell_type": "code",
   "execution_count": 13,
   "metadata": {},
   "outputs": [
    {
     "data": {
      "text/plain": [
       "5.720898532999854"
      ]
     },
     "execution_count": 13,
     "metadata": {},
     "output_type": "execute_result"
    }
   ],
   "source": [
    "# 1부터 100까지 무작위로 숫자 1천만 개를 생성하는 데 걸리는 시간\n",
    "import timeit\n",
    "timeit.timeit('random.randint(1, 100)', 'import random', number = 10000000)"
   ]
  },
  {
   "cell_type": "code",
   "execution_count": 6,
   "metadata": {},
   "outputs": [
    {
     "data": {
      "text/plain": [
       "0.15642371400099364"
      ]
     },
     "execution_count": 6,
     "metadata": {},
     "output_type": "execute_result"
    }
   ],
   "source": [
    "# XOR 알고리즘을 이용하여 a와 b를 바꾸는 경우 - 대략 10분의 1초가 걸렸다.\n",
    "import timeit\n",
    "timeit.timeit('a, b = 42, 101; a = a^ b; b = a ^ b; a = a ^ b')\n"
   ]
  },
  {
   "cell_type": "code",
   "execution_count": 9,
   "metadata": {},
   "outputs": [
    {
     "data": {
      "text/plain": [
       "0.04142180999770062"
      ]
     },
     "execution_count": 9,
     "metadata": {},
     "output_type": "execute_result"
    }
   ],
   "source": [
    "# 임시변수 temp를 이용하여 a와 b를 바꾸는 경우 - 가독성을 높이며 시간을 단축시켰다.\n",
    "import timeit\n",
    "timeit.timeit('a, b = 42, 101; temp = a; a = b; b = temp')"
   ]
  },
  {
   "cell_type": "code",
   "execution_count": 10,
   "metadata": {},
   "outputs": [
    {
     "data": {
      "text/plain": [
       "0.038437457998952596"
      ]
     },
     "execution_count": 10,
     "metadata": {},
     "output_type": "execute_result"
    }
   ],
   "source": [
    "# 반복가능 언패킹을 사용하여 a와 b를 바꾸는 경우 - 가독성을 높이며 시간을 단축시켰다.\n",
    "import timeit\n",
    "timeit.timeit('a, b = 42, 101; a, b = b, a')"
   ]
  },
  {
   "cell_type": "markdown",
   "metadata": {},
   "source": [
    "> 코드 작성에 참고하면 좋은 규칙 : 일단 작동부터 되게 하고 속도를 개선하라"
   ]
  },
  {
   "cell_type": "markdown",
   "metadata": {},
   "source": [
    "### cProfile 프로파일러\n",
    "\n",
    "- 작은 코드 조각은 timeit 모듈이 유용하지만, 전체 함수나 프로그램을 분석하는 데는 cProfile 모듈이 더 효과적이다.\n",
    "- 프로파일링은 프로그램의 속도, 메모리 사용 등의 여러 측면을 체계적으로 분석한다.\n",
    "- cProfile 모듈은 프로그램의 개별 함수 호출에 대한 실행시간 프로파일을 생성할 수 있을 뿐만 아니라 프로그램의 실행시간 측정도 가능하다. 코드의 세부적인 측정값을 제공한다."
   ]
  },
  {
   "cell_type": "markdown",
   "metadata": {},
   "source": []
  },
  {
   "cell_type": "code",
   "execution_count": 15,
   "metadata": {},
   "outputs": [
    {
     "name": "stdout",
     "output_type": "stream",
     "text": [
      "         4 function calls in 0.078 seconds\n",
      "\n",
      "   Ordered by: standard name\n",
      "\n",
      "   ncalls  tottime  percall  cumtime  percall filename:lineno(function)\n",
      "        1    0.078    0.078    0.078    0.078 1775512811.py:3(addUpNumbers)\n",
      "        1    0.000    0.000    0.078    0.078 <string>:1(<module>)\n",
      "        1    0.000    0.000    0.078    0.078 {built-in method builtins.exec}\n",
      "        1    0.000    0.000    0.000    0.000 {method 'disable' of '_lsprof.Profiler' objects}\n",
      "\n",
      "\n"
     ]
    }
   ],
   "source": [
    "# 1 부터 백만까지 더하는 함수\n",
    "import time, cProfile\n",
    "def addUpNumbers():\n",
    "    total = 0\n",
    "    for i in range(1, 1000001):\n",
    "        total += i\n",
    "\n",
    "cProfile.run('addUpNumbers()')"
   ]
  },
  {
   "cell_type": "markdown",
   "metadata": {},
   "source": [
    "> 각 행은 다양한 함수와 해당 함수에서 소비된 시간을 나타낸다. </br>\n",
    "> 각 열에 대한 설명\n",
    "- ncalls : 이 함수가 호출된 횟수\n",
    "- tottime : 이 함수에서 호출한 다른 함수들의 시간을 제외하고 이 함수 자체에서 소비된 총 시간\n",
    "- percall : 총 호출 시간을 누적 호출 횟수로 나눈 값\n",
    "- cumtime : 이 함수와 이 함수가 호출한 모든 다른 함수들에 소비된 누적 시간\n",
    "- percall : 누적 시간을 호출 횟수로 나눈 값\n",
    "- filename:lineno(function) : 함수가 들어 있는 파일과 행 번호"
   ]
  },
  {
   "cell_type": "markdown",
   "metadata": {},
   "source": [
    "## 빅오 알고리즘 분석"
   ]
  },
  {
   "cell_type": "markdown",
   "metadata": {},
   "source": [
    "### 빅오 차수\n",
    "\n",
    "  - 차수가 낮은 경우에는 데이터 양이 많아지더라도 코드 실행속도가 천천히 느려지고, 차수가 높은 경우에는 데이터 양이 많아지면 속도가 급격하게 느려진다.\n",
    "1. O(1) : 상수 시간(가장 낮은 차수) - 빠르다\n",
    "2. O(log n) : 로그 시간 - 빠르다\n",
    "3. O(n) : 선형 시간 - 나쁘지 않다\n",
    "4. O(n log n) : 선형 로그 시간 - 나쁘지 않다\n",
    "5. O(n^2) : 다항 시간 - 느리다\n",
    "6. O(2^n) : 지수 시간 - 느리다\n",
    "7. O(n!) : 팩토리얼 시간(가장 높은 차수) - 느리다"
   ]
  },
  {
   "cell_type": "markdown",
   "metadata": {},
   "source": [
    "### 책장 정리 사례를 이용한 빅오 차수의 이해\n",
    "\n",
    "- n은 책장에 꽂힌 책 권수\n",
    "- 빅오 차수는 책 권수가 많아짐에 따라 작업이 얼마나 더 오래 걸리는지 설명"
   ]
  },
  {
   "cell_type": "markdown",
   "metadata": {},
   "source": [
    "##### 상수 시간 O(1)\n",
    "- 책장이 비어있는가?를 알아내는 작업이 상수 시간 연산\n",
    "- 책장에 책이 몇권 꽂혀 있는지는 아무 상관이 없음(n이 등장하지 않음)\n",
    "- 책장에 책이 한권이라도 발견되는 순간 멈출 수 있음"
   ]
  },
  {
   "cell_type": "markdown",
   "metadata": {},
   "source": [
    "##### 로그 시간 O(log n)\n",
    "- 프로그래밍에서는 대체로 로그의 밑을 2로 가정하는 경우가 많음 (그냥 O(log n)이라고 사용)\n",
    "- 가나다 순으로 정렬된 책장에서 책을 찾는 작업이 로그 시간 연산\n",
    "- 책 한 권을 찾으려면 책장 정중앙에 꽂힌 책을 확인하면 됨. 만약 그 책이 내가 찾는 책이면, 작업을 멈춤. 아니라면, 가나다순으로 앞쪽인지 뒤쪽인지 판단 가능. (binary search algorithm)\n",
    "- 위의 과정에서 검색해야 하는 책의 범위를 절반으로 줄일 수 있음\n",
    "- 전체 작업량 n의 크기가 두 배로 늘어도 실행시간은 한 단계만 증가한다."
   ]
  },
  {
   "cell_type": "markdown",
   "metadata": {},
   "source": [
    "##### 선형시간 O(n)\n",
    "- 서가에 꽂힌 책을 모두 읽는 작업이 선형 시간 연산\n",
    "- 모든 책의 페이지가 같다고 가정하면 n의 크기를 두 배로 늘렸을 때 작업시간도 두 배로 늘어나게 됨\n",
    "- 즉, 실행시간은 n에 정비례해서 증가함"
   ]
  },
  {
   "cell_type": "markdown",
   "metadata": {},
   "source": [
    "##### 선형 로그 시간 O(n log n)\n",
    "\n",
    "- 일련의 책을 가나다 순으로 정렬하는 작업이 선형 로그 시간임\n",
    "- O(n) 과 O(log n)을 곱한 결과 - O(log n)이 걸리는 작업을 n번 수행하는 작업\n",
    "- 책더미를 빈 책장에 가나다순으로 정리한다고 생각할 때, 책이 꽂힐 위치를 확인하는 작업은 O(log n)이다. 이때 책이 n권 있으므로 O(n log n)\n",
    "- meregsort, quicksort, heapsort, Timsort 가 대표적인 예시"
   ]
  },
  {
   "cell_type": "markdown",
   "metadata": {},
   "source": [
    "##### 다항 시간 O(n^2)\n",
    "\n",
    "- 정렬되지 않은 책장에서 중복된 책이 있는지를 확인하는 작업이 다항 시간 연산\n",
    "- 만약 책이 100권인 경우\n",
    "  1. 첫 번째 책을 나머지 99권과 비교\n",
    "  2. 두 번째 책을 나머지 99권과 비교\n",
    "  3. 이 작업을 각 책마다 한번씩 100번씩 수행해야 함\n",
    "  4. 즉, n x n = n^2"
   ]
  },
  {
   "cell_type": "markdown",
   "metadata": {},
   "source": [
    "##### 지수 시간 O(2^n)\n",
    "\n",
    "- 책장의 사진을 찍는데, 가능한 모든 책의 조합을 담아 찍는 작업은 지수 시간 연산\n",
    "- ex) 책이 한 권이면 두 가지 경우, 책이 두 권이면 네 가지 경우, ...\n",
    "- 지수 작업의 실행시간은 매우 빠르게 증가한다."
   ]
  },
  {
   "cell_type": "markdown",
   "metadata": {},
   "source": [
    "##### 팩토리얼 시간 O(n!)\n",
    "\n",
    "- 책장 위에 있는 책들을 가능한 모든 순서대로 배치해서 사진을 찍는 작업은 팩토리얼 시간\n",
    "- 잘 알려진 O(n!) 문제 - traveling salesperson problem"
   ]
  },
  {
   "cell_type": "markdown",
   "metadata": {},
   "source": [
    "### 최악의 시나리오를 측정하는 빅오(BIG O)\n",
    "\n",
    "- 어떤 작업에서도 최악의 시나리오를 측정\n",
    "- ex) 특정 책을 찾는 경우, 한쪽 끝에서부터 시작했는데 책이 마지막 끝쪽에 있는 경우\n",
    "- n권의 책이 있다면 n권을 모두 확인해야 하는 경우"
   ]
  },
  {
   "cell_type": "markdown",
   "metadata": {},
   "source": [
    "### 최선의 경우를 설명하는 빅 오메가\n",
    "\n",
    "- 알고리즘에서 최선의 경우\n",
    "- 어떤 알고리즘의 최적 실행 경로를 거치게끔 데이터가 딱 맞게 들어오는 경우\n",
    "- ex)이미 목적지에 도착한 상황에서 목적지로 가는 주행 경로를 찾는 작업"
   ]
  },
  {
   "cell_type": "markdown",
   "metadata": {},
   "source": [
    "### Big-O가 낮은 알고리즘? Big-Ω가 낮은 알고리즘?\n",
    "\n",
    "- 가장 이상적인 경우는 Big-O와 Big-Ω가 동시에 낮은 경우이다. 최악과 최선의 상황에서 실행시간이 낮을수록 효율적이기 때문이다.\n",
    "- 하지만 대부분의 알고리즘은 Big-O와 Big-Ω이 반비례 관계에 있다.\n",
    "- 굳이 둘 중에 하나를 고르라면 Big-O가 낮은 알고리즘을 선택하는 것이 좋다. 최선보다는 최악의 상황을 마주하는 경우가 많기 때문이다."
   ]
  },
  {
   "cell_type": "markdown",
   "metadata": {},
   "source": [
    "### 코드의 빅오 차수 파악하기\n",
    "\n",
    "- 우선 n이 무엇인지 확인하기. 함수에서 n은 거의 항상 파라미터를 기준으로 함.\n",
    "- 코드의 단계를 세기. 한 코드행을 한 단계라고 생각하면 됨. 루프문은 (반복 횟수 * 코드 행 수)만큼의 단계를 거침 \n",
    "- 낮은 차수를 무시하고, 계수를 생략하기"
   ]
  },
  {
   "cell_type": "markdown",
   "metadata": {},
   "source": [
    "##### ex) readingList 함수의 빅오 차수 파악하기\n",
    "\n",
    "1. n이 무엇인지 확인하기 : readingList() 함수의 유일한 파라미터는 books이므로 books의 크기로 n이 적합함\n",
    "   \n",
    "```python\n",
    "def readingList(books): \n",
    "    print('Here are the books I will read:') # 1단계\n",
    "    numberOfBooks = 0 # 1단계\n",
    "    for book in books: # n * (루프문 안의 단계 수)\n",
    "        print(book) # 1단계\n",
    "        numberOfBooks += 1 # 1단계\n",
    "    print(numberOfBooks, 'books total') # 1단계\n",
    "```\n",
    "2. 코드의 단계 세기 : for 루프문 행을 제외한 각 코드 행을 한 단계로 취급하고, for 루프문은 books의 각 아이템에 대해 한 번씩 실행되므로 books의 크기인 n단계를 실행한다. 또한, 루프문 내부의 모든 단계를 n회 실행한다.\n",
    "\n",
    "```python\n",
    "def readingList(books): \n",
    "    print('Here are the books I will read:') # 1단계\n",
    "    numberOfBooks = 0 # 1단계\n",
    "    for book in books: # n * 2단계\n",
    "        print(book) # (이미 계산됨)\n",
    "        numberOfBooks += 1 # (이미 계산됨)\n",
    "    print(numberOfBooks, 'books total') # 1단계\n",
    "```\n",
    "\n",
    "3. 총 단계 수 계산하기\n",
    "   \n",
    "    1 + 1 + (n x 2) + 1 = 2n + 3\n",
    "    - 이때, 빅오는 세부사항을 나타내지 않는 일반적인 지표이기 때문에 계산에서 낮은 차수들은 생략한다. 따라서, 2n만 남는다.\n",
    "    - 다음은 차수에서 계수를 생략한다. 따라서, n만 남게 된다.\n",
    "    - **결과적으로 readingList() 함수의 최종 빅오 값은 O(n), 즉 선형 시간 복잡도라는 사실을 알 수 있다.**"
   ]
  },
  {
   "cell_type": "markdown",
   "metadata": {},
   "source": [
    "### 낮은 차수와 계수를 우리가 무시하는 이유"
   ]
  },
  {
   "cell_type": "markdown",
   "metadata": {},
   "source": [
    "- 낮은 차수를 무시하는 이유\n",
    "  - n의 크기가 충분히 커지면 낮은 차수는 거의 중요하지 않아진다.\n",
    "  - ex) n이 10 에서 10,000,000,000으로 늘어난다면 단계수는 23에서 20,000,000,003으로 늘어나는데, 3단계는 거의 중요하지 않다.\n",
    "\n",
    "- 계수를 무시하는 이유\n",
    "  - 데이터의 양이 증가하면 계수보다는 차수가 훨씬 빠르게 증가한다.\n",
    "  - ex)데이터의 양이 증가하면 3n^2이 1000n 보다 훨씬 빠르게 증가한다."
   ]
  },
  {
   "cell_type": "markdown",
   "metadata": {},
   "source": [
    "### 빅오 분석 예제\n",
    "\n",
    "- 예제로 책 제목 문자열 리스트인 books 파라미터를 사용한다."
   ]
  },
  {
   "cell_type": "markdown",
   "metadata": {},
   "source": [
    "##### 예제 1\n",
    "```python\n",
    "def countBookPoints(books):\n",
    "    points = 0         # 1단계\n",
    "    for book in books: # n * (루프문 안의 단계 수)\n",
    "        points += 1    # 1단계\n",
    "\n",
    "    for book in books:               # n * (루프문 안의 단계 수)\n",
    "        if 'by Al Sweigart' in book: # 1단계\n",
    "            points += 1              # 1단계\n",
    "    return points                    # 1단계\n",
    "```\n",
    "\n",
    "- 1 + (n x 1) + (n x 2) + 1 = 3n + 2\n",
    "- O(n)"
   ]
  },
  {
   "cell_type": "markdown",
   "metadata": {},
   "source": [
    "##### 예제 2\n",
    "```python\n",
    "def iLoveBooks(books):\n",
    "    for i in range(10):             # 10 * (루프문 안의 단계 수)\n",
    "        print('I Love Books!!!')    # 1단계\n",
    "        print('BOOKS ARE GREAT!!!') # 1단계\n",
    "```\n",
    "- books 리스트를 반복하지 않으며, books의 크기에 무관하게 20단계를 수행한다.\n",
    "- 따라서 20(1) => O(1)\n",
    "- books 리스트의 크기 n이 무엇이든 상관없이 실행에 동일한 시간이 걸린다."
   ]
  },
  {
   "cell_type": "markdown",
   "metadata": {},
   "source": [
    "##### 예제 3\n",
    "\n",
    "```python\n",
    "def cheerForFavoriteBook(books, favorite):         \n",
    "    for book in books:                             # n * (루프문 안의 단계 수)\n",
    "        print(book)                                # 1단계\n",
    "        if book == favorite:                       # 1단계\n",
    "            for i in range(100):                   # 100 * (루프문 안의 단계 수)\n",
    "                print('This IS A GREAT BOOK!!!')   # 1단계\n",
    "```\n",
    "\n",
    "- (n x 102) = 102n\n",
    "- O(n)"
   ]
  },
  {
   "cell_type": "markdown",
   "metadata": {},
   "source": [
    "##### 예제 4\n",
    "\n",
    "```python\n",
    "def findDuplicateBooks(books):                  \n",
    "    for i in range(books):                      # n단계\n",
    "        for j in range(i + 1, books):           # n단계\n",
    "            if books[i] == books[j]:            # 1단계\n",
    "                print('Duplicate:', books[i])   # 1단계\n",
    "```\n",
    "- n * (n + 2) = n^2 + 2n\n",
    "- O(n^2)"
   ]
  },
  {
   "cell_type": "markdown",
   "metadata": {},
   "source": [
    "##### 예제 5\n",
    "\n",
    "```python\n",
    "def binarySearch(needle, haystack):             \n",
    "    if not len(haystack):                       # 1단계\n",
    "        return None                             # 1단계\n",
    "    startIndex = 0                              # 1단계\n",
    "    endIndex = len(haystack) - 1                # 1단계\n",
    "\n",
    "    haystack.sort()                             # ???단계\n",
    "\n",
    "    while startIndex <= endIndex:               # ???단계\n",
    "        midIndex = (startIndex + endIndex) // 2 # 1단계\n",
    "        if haystack[midIndex] == needle:        # 1단계\n",
    "            return midIndex                     # 1단계\n",
    "        elif needle < haystack[midIndex]:       # 1단계\n",
    "            endIndex = midIndex - 1             # 1단계\n",
    "        elif needle > haystack[midIndex]:       # 1단계\n",
    "            startIndex = midIndex + 1           # 1단계\n",
    "```\n",
    "\n",
    "- sort() 메소드 호출의 빅오 차수는 O(n log n)이다.\n",
    "- while 루프문의 빅오 차수는 O(log n)이다. 절반으로 계속 나누기 때문\n",
    "- O(n log n)의 차수가 O(log n)의 차수보다 높기 때문에 낮은 차수인 O(log n) 을 생략해도 된다.\n",
    "- 따라서 O(n log n) "
   ]
  },
  {
   "cell_type": "code",
   "execution_count": null,
   "metadata": {},
   "outputs": [],
   "source": []
  }
 ],
 "metadata": {
  "kernelspec": {
   "display_name": "Python 3.10.7 64-bit",
   "language": "python",
   "name": "python3"
  },
  "language_info": {
   "codemirror_mode": {
    "name": "ipython",
    "version": 3
   },
   "file_extension": ".py",
   "mimetype": "text/x-python",
   "name": "python",
   "nbconvert_exporter": "python",
   "pygments_lexer": "ipython3",
   "version": "3.10.7"
  },
  "orig_nbformat": 4,
  "vscode": {
   "interpreter": {
    "hash": "aee8b7b246df8f9039afb4144a1f6fd8d2ca17a180786b69acc140d282b71a49"
   }
  }
 },
 "nbformat": 4,
 "nbformat_minor": 2
}
