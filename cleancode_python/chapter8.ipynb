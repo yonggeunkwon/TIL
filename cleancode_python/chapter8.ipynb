{
 "cells": [
  {
   "cell_type": "markdown",
   "metadata": {},
   "source": [
    "# Chapter8 파이썬에서 빠지기 쉬운 함정들"
   ]
  },
  {
   "cell_type": "markdown",
   "metadata": {},
   "source": [
    "### 루프문 진행 중에는 리스트에서 아이템을 추가/삭제하지 말자"
   ]
  },
  {
   "cell_type": "code",
   "execution_count": 6,
   "metadata": {},
   "outputs": [
    {
     "name": "stdout",
     "output_type": "stream",
     "text": [
      "skirt\n",
      "red sock\n"
     ]
    }
   ],
   "source": [
    "# 새로운 red sock이 리스트에 계속 추가되므로 무한루프에 빠짐\n",
    "clothes = ['skirt', 'red sock']\n",
    "for clothing in clothes:\n",
    "    print(clothing)\n",
    "    # if 'sock' in clothing:\n",
    "        # clothes.append(clothing)\n",
    "        # print('Added a sock :' clothing)"
   ]
  },
  {
   "cell_type": "code",
   "execution_count": 5,
   "metadata": {},
   "outputs": [
    {
     "name": "stdout",
     "output_type": "stream",
     "text": [
      "skirt\n",
      "red sock\n",
      "Appending: red sock\n",
      "['red sock']\n",
      "blue sock\n",
      "Appending: blue sock\n",
      "['red sock', 'blue sock']\n"
     ]
    }
   ],
   "source": [
    "# 수정된 새 리스트를 구분해서 사용. clothes 리스트에는 영향이 없으므로 무한 루프 X\n",
    "\n",
    "clothes = ['skirt', 'red sock', 'blue sock']\n",
    "newClothes = []\n",
    "for clothing in clothes:\n",
    "    print(clothing)\n",
    "    if 'sock' in clothing:\n",
    "        print('Appending:', clothing)\n",
    "        newClothes.append(clothing)\n",
    "        print(newClothes)\n"
   ]
  },
  {
   "cell_type": "code",
   "execution_count": 2,
   "metadata": {},
   "outputs": [
    {
     "name": "stdout",
     "output_type": "stream",
     "text": [
      "0 hello\n",
      "1 hello\n",
      "2 mello\n",
      "['hello', 'hello', 'yello', 'hello']\n",
      "3 hello\n",
      "['hello', 'hello', 'yello', 'hello']\n"
     ]
    }
   ],
   "source": [
    "# mello가 삭제되면서 한칸씩 당겨져 yello가 남아있음\n",
    "\n",
    "greetings = ['hello', 'hello', 'mello', 'yello', 'hello']\n",
    "for i, word in enumerate(greetings):\n",
    "    print(i, word)\n",
    "    if word != 'hello':\n",
    "        del greetings[i]\n",
    "        print(greetings)\n",
    "\n",
    "print(greetings)"
   ]
  },
  {
   "cell_type": "code",
   "execution_count": 3,
   "metadata": {},
   "outputs": [
    {
     "name": "stdout",
     "output_type": "stream",
     "text": [
      "['hello']\n",
      "['hello', 'hello']\n",
      "['hello', 'hello', 'hello']\n",
      "result =  ['hello', 'hello', 'hello']\n"
     ]
    }
   ],
   "source": [
    "# newGreetings 라는 새로운 리스트를 생성함\n",
    "\n",
    "greetings = ['hello', 'hello', 'mello', 'yello', 'hello']\n",
    "newGreetings = []\n",
    "for word in greetings:\n",
    "    if word == 'hello':\n",
    "        newGreetings.append(word)\n",
    "        print(newGreetings)\n",
    "\n",
    "greetings = newGreetings\n",
    "print(\"result = \", greetings)"
   ]
  },
  {
   "cell_type": "code",
   "execution_count": 41,
   "metadata": {},
   "outputs": [
    {
     "name": "stdout",
     "output_type": "stream",
     "text": [
      "0 [1, 7, 4, 5]\n",
      "1 [1, 7, 4, 5]\n",
      "2 [1, 7, 4, 5]\n",
      "3 [1, 7, 5]\n"
     ]
    },
    {
     "ename": "IndexError",
     "evalue": "list index out of range",
     "output_type": "error",
     "traceback": [
      "\u001b[0;31m---------------------------------------------------------------------------\u001b[0m",
      "\u001b[0;31mIndexError\u001b[0m                                Traceback (most recent call last)",
      "Cell \u001b[0;32mIn [41], line 6\u001b[0m\n\u001b[1;32m      4\u001b[0m \u001b[39mfor\u001b[39;00m i \u001b[39min\u001b[39;00m \u001b[39mrange\u001b[39m(\u001b[39mlen\u001b[39m(someInts)):\n\u001b[1;32m      5\u001b[0m     \u001b[39mprint\u001b[39m(i, someInts)\n\u001b[0;32m----> 6\u001b[0m     \u001b[39mif\u001b[39;00m someInts[i] \u001b[39m%\u001b[39m \u001b[39m2\u001b[39m \u001b[39m==\u001b[39m \u001b[39m0\u001b[39m:\n\u001b[1;32m      7\u001b[0m         \u001b[39mdel\u001b[39;00m someInts[i]\n\u001b[1;32m      8\u001b[0m         \u001b[39m# print(someInts)\u001b[39;00m\n",
      "\u001b[0;31mIndexError\u001b[0m: list index out of range"
     ]
    }
   ],
   "source": [
    "# 4가 삭제되면서 리스트의 4번째 값이 없어짐\n",
    "\n",
    "someInts = [1, 7, 4, 5]\n",
    "for i in range(len(someInts)):\n",
    "    print(i, someInts)\n",
    "    if someInts[i] % 2 == 0:\n",
    "        del someInts[i]\n",
    "        # print(someInts)"
   ]
  },
  {
   "cell_type": "markdown",
   "metadata": {},
   "source": [
    "##### 반복문을 뒤로 반복해서 리스트에서 안전하게 값 추가/제거"
   ]
  },
  {
   "cell_type": "code",
   "execution_count": 45,
   "metadata": {},
   "outputs": [
    {
     "name": "stdout",
     "output_type": "stream",
     "text": [
      "3 [1, 7, 4, 5]\n",
      "2 [1, 7, 4, 5]\n",
      "1 [1, 7, 5]\n",
      "0 [1, 7, 5]\n"
     ]
    },
    {
     "data": {
      "text/plain": [
       "[1, 7, 5]"
      ]
     },
     "execution_count": 45,
     "metadata": {},
     "output_type": "execute_result"
    }
   ],
   "source": [
    "# 뒤로 반복해서 안전하게 리스트에서 값 제거\n",
    "\n",
    "someInts = [1, 7, 4, 5]\n",
    "for i in range(len(someInts)-1, -1, -1):\n",
    "    print(i, someInts)\n",
    "    if someInts[i] % 2 == 0:\n",
    "        del someInts[i]\n",
    "\n",
    "someInts\n"
   ]
  },
  {
   "cell_type": "code",
   "execution_count": 46,
   "metadata": {},
   "outputs": [
    {
     "name": "stdout",
     "output_type": "stream",
     "text": [
      "3 [1, 7, 4, 5]\n",
      "2 [1, 7, 4, 5]\n",
      "1 [1, 7, 4, 5, 4]\n",
      "0 [1, 7, 4, 5, 4]\n"
     ]
    },
    {
     "data": {
      "text/plain": [
       "[1, 7, 4, 5, 4]"
      ]
     },
     "execution_count": 46,
     "metadata": {},
     "output_type": "execute_result"
    }
   ],
   "source": [
    "# 뒤로 반복해서 안전하게 리스트에서 값 추가\n",
    "\n",
    "someInts = [1, 7, 4, 5]\n",
    "for i in range(len(someInts)-1, -1, -1):\n",
    "    print(i, someInts)\n",
    "    if someInts[i] % 2 == 0:\n",
    "        someInts.append(someInts[i])\n",
    "\n",
    "someInts"
   ]
  },
  {
   "cell_type": "markdown",
   "metadata": {},
   "source": [
    "> 하지만 위의 방법은 조금만 바꿔도 버그가 발생하므로 그냥 새로운 리스트를 생성하는 것이 편하다."
   ]
  },
  {
   "cell_type": "markdown",
   "metadata": {},
   "source": [
    "##### 반복문 안에서 리스트의 내용은 변경 가능"
   ]
  },
  {
   "cell_type": "code",
   "execution_count": 4,
   "metadata": {},
   "outputs": [
    {
     "name": "stdout",
     "output_type": "stream",
     "text": [
      "1\n",
      "<class 'str'>\n",
      "2\n",
      "<class 'str'>\n",
      "3\n",
      "<class 'str'>\n",
      "4\n",
      "<class 'str'>\n",
      "5\n",
      "<class 'str'>\n",
      "[1, 2, 3, 4, 5]\n",
      "<class 'int'>\n"
     ]
    }
   ],
   "source": [
    "numbers = ['1','2','3','4','5']\n",
    "for i, number in enumerate(numbers):\n",
    "    print(number)\n",
    "    print(type(number))\n",
    "    numbers[i] = int(number)\n",
    "print(numbers)\n",
    "print(type(numbers[0]))"
   ]
  },
  {
   "cell_type": "markdown",
   "metadata": {},
   "source": [
    "### copy.copy()나 copy.deepcopy() 없이 가변 값을 복사하지 말자"
   ]
  },
  {
   "cell_type": "markdown",
   "metadata": {},
   "source": [
    "**파이썬에서 할당문은 절대 객체를 복사하지 않는다. 객체에 대한 참조를 복사할 뿐이다.**"
   ]
  },
  {
   "cell_type": "markdown",
   "metadata": {},
   "source": [
    "##### 얕은 복사와 깊은 복사"
   ]
  },
  {
   "cell_type": "markdown",
   "metadata": {},
   "source": [
    "| class | 설명 | 구분 |\n",
    "| :--: | :--: | :--: |\n",
    "| list | mutable 한 순서가 있는 객체 집합 | mutable |\n",
    "| set | mutable 한 순서가 없는 고유한 객체 집합 | mutable | \n",
    "| dict | key와 value가 맵핑된 객체, 순서 없음 | mutable |\n",
    "| bool | 참, 거짓 | immutable |\n",
    "| int | 정수 | immutable |\n",
    "| float | 실수 | immutable |\n",
    "| tuple | immutable한 순서가 있는 객체 집합 | immutable | \n",
    "| str | 문자열 | immutable | \n",
    "| frozenset | immutable한 set | immutable | "
   ]
  },
  {
   "cell_type": "markdown",
   "metadata": {},
   "source": [
    "##### immutable한 객체"
   ]
  },
  {
   "cell_type": "markdown",
   "metadata": {},
   "source": [
    "1. 'python2'라는 문자열 객체가 메모리의 4415000816 번지에 할당되고 해당 객체를 a라는 변수가 바인딩.\n",
    "2. 'python3'라는 문자열 객체가 메모리의 4415000880 번지에 할당되고 해당 객체를 a라는 변수가 바인딩. \n",
    "3. 'python2'라는 문자열 객체는 아무도 자신을 참조하지 않기 때문에 가비지 컬렉터에 의해 자동으로 메모리에서 소멸. \n"
   ]
  },
  {
   "cell_type": "code",
   "execution_count": 65,
   "metadata": {},
   "outputs": [
    {
     "data": {
      "text/plain": [
       "4415000816"
      ]
     },
     "execution_count": 65,
     "metadata": {},
     "output_type": "execute_result"
    }
   ],
   "source": [
    "a = \"python2\"\n",
    "id(a)"
   ]
  },
  {
   "cell_type": "code",
   "execution_count": 66,
   "metadata": {},
   "outputs": [
    {
     "data": {
      "text/plain": [
       "4415000880"
      ]
     },
     "execution_count": 66,
     "metadata": {},
     "output_type": "execute_result"
    }
   ],
   "source": [
    "a = \"python3\"\n",
    "id(a)"
   ]
  },
  {
   "cell_type": "markdown",
   "metadata": {},
   "source": [
    "##### mutable한 객체"
   ]
  },
  {
   "cell_type": "markdown",
   "metadata": {},
   "source": [
    "**리스트 객체는 [0]번, [1]번, [2]번이 리스트의 원소인 문자열 객체를 다시 바인딩하는 구조이기 때문에, 리스트에 원소를 추가하거나 삭제해도 리스트 객체의 시작 주소는 변하지 않는다.**"
   ]
  },
  {
   "cell_type": "code",
   "execution_count": 67,
   "metadata": {},
   "outputs": [
    {
     "data": {
      "text/plain": [
       "4452372864"
      ]
     },
     "execution_count": 67,
     "metadata": {},
     "output_type": "execute_result"
    }
   ],
   "source": [
    "a = [\"python2\", \"python3\"]\n",
    "id(a)"
   ]
  },
  {
   "cell_type": "code",
   "execution_count": 69,
   "metadata": {},
   "outputs": [
    {
     "data": {
      "text/plain": [
       "4452372864"
      ]
     },
     "execution_count": 69,
     "metadata": {},
     "output_type": "execute_result"
    }
   ],
   "source": [
    "a.append(\"python4\")\n",
    "id(a)"
   ]
  },
  {
   "cell_type": "code",
   "execution_count": 70,
   "metadata": {},
   "outputs": [
    {
     "data": {
      "text/plain": [
       "4415000816"
      ]
     },
     "execution_count": 70,
     "metadata": {},
     "output_type": "execute_result"
    }
   ],
   "source": [
    "id(a[0])"
   ]
  },
  {
   "cell_type": "code",
   "execution_count": 71,
   "metadata": {},
   "outputs": [
    {
     "data": {
      "text/plain": [
       "4415000880"
      ]
     },
     "execution_count": 71,
     "metadata": {},
     "output_type": "execute_result"
    }
   ],
   "source": [
    "id(a[1])"
   ]
  },
  {
   "cell_type": "code",
   "execution_count": 72,
   "metadata": {},
   "outputs": [
    {
     "data": {
      "text/plain": [
       "4452799472"
      ]
     },
     "execution_count": 72,
     "metadata": {},
     "output_type": "execute_result"
    }
   ],
   "source": [
    "id(a[2])"
   ]
  },
  {
   "cell_type": "markdown",
   "metadata": {},
   "source": [
    "##### copy.copy메소드를 이용하여 리스트 객체의 복사본 만들기"
   ]
  },
  {
   "cell_type": "code",
   "execution_count": 89,
   "metadata": {},
   "outputs": [
    {
     "data": {
      "text/plain": [
       "(4452829056, 4452464000)"
      ]
     },
     "execution_count": 89,
     "metadata": {},
     "output_type": "execute_result"
    }
   ],
   "source": [
    "import copy\n",
    "bacon = [2, 4, 8, 16]\n",
    "ham = copy.copy(bacon) # ham 변수는 bacon이 참조하는 원본 리스트 객체가 아닌 복사된 리스트 객체를 참조한다.\n",
    "id(bacon), id(ham)"
   ]
  },
  {
   "cell_type": "code",
   "execution_count": 74,
   "metadata": {},
   "outputs": [
    {
     "data": {
      "text/plain": [
       "['CHANGED', 4, 8, 16]"
      ]
     },
     "execution_count": 74,
     "metadata": {},
     "output_type": "execute_result"
    }
   ],
   "source": [
    "bacon[0] = 'CHANGED'\n",
    "bacon"
   ]
  },
  {
   "cell_type": "code",
   "execution_count": 75,
   "metadata": {},
   "outputs": [
    {
     "data": {
      "text/plain": [
       "[2, 4, 8, 16]"
      ]
     },
     "execution_count": 75,
     "metadata": {},
     "output_type": "execute_result"
    }
   ],
   "source": [
    "ham"
   ]
  },
  {
   "cell_type": "code",
   "execution_count": 90,
   "metadata": {},
   "outputs": [
    {
     "data": {
      "text/plain": [
       "(4452829056, 4452464000)"
      ]
     },
     "execution_count": 90,
     "metadata": {},
     "output_type": "execute_result"
    }
   ],
   "source": [
    "id(bacon), id(ham)"
   ]
  },
  {
   "cell_type": "code",
   "execution_count": 83,
   "metadata": {},
   "outputs": [
    {
     "data": {
      "text/plain": [
       "(4452832448, 4452418496)"
      ]
     },
     "execution_count": 83,
     "metadata": {},
     "output_type": "execute_result"
    }
   ],
   "source": [
    "import copy\n",
    "bacon = [[1, 2], [3, 4]]\n",
    "ham = copy.copy(bacon)\n",
    "id(bacon), id(ham)"
   ]
  },
  {
   "cell_type": "code",
   "execution_count": 84,
   "metadata": {},
   "outputs": [
    {
     "data": {
      "text/plain": [
       "[[1, 2], [3, 4], 'appended']"
      ]
     },
     "execution_count": 84,
     "metadata": {},
     "output_type": "execute_result"
    }
   ],
   "source": [
    "bacon.append(\"appended\")\n",
    "bacon"
   ]
  },
  {
   "cell_type": "code",
   "execution_count": 85,
   "metadata": {},
   "outputs": [
    {
     "data": {
      "text/plain": [
       "[[1, 2], [3, 4]]"
      ]
     },
     "execution_count": 85,
     "metadata": {},
     "output_type": "execute_result"
    }
   ],
   "source": [
    "ham"
   ]
  },
  {
   "cell_type": "code",
   "execution_count": 88,
   "metadata": {},
   "outputs": [
    {
     "data": {
      "text/plain": [
       "[['Changed', 2], [3, 4], 'appended']"
      ]
     },
     "execution_count": 88,
     "metadata": {},
     "output_type": "execute_result"
    }
   ],
   "source": [
    "# copy.copy를 사용했음에도 두 변수 모두에 반영된다\n",
    "bacon[0][0] = 'Changed'\n",
    "bacon"
   ]
  },
  {
   "cell_type": "code",
   "execution_count": 87,
   "metadata": {},
   "outputs": [
    {
     "data": {
      "text/plain": [
       "[['Changed', 2], [3, 4]]"
      ]
     },
     "execution_count": 87,
     "metadata": {},
     "output_type": "execute_result"
    }
   ],
   "source": [
    "ham"
   ]
  },
  {
   "cell_type": "markdown",
   "metadata": {},
   "source": [
    "##### deepcopy 이용해서 리스트 내의 모든 리스트 객체를 복사"
   ]
  },
  {
   "cell_type": "code",
   "execution_count": 91,
   "metadata": {},
   "outputs": [
    {
     "data": {
      "text/plain": [
       "(4452804736, 4452642240)"
      ]
     },
     "execution_count": 91,
     "metadata": {},
     "output_type": "execute_result"
    }
   ],
   "source": [
    "import copy\n",
    "bacon = [[1, 2], [3, 4]]\n",
    "ham = copy.deepcopy(bacon)\n",
    "id(bacon[0]), id(ham[0])"
   ]
  },
  {
   "cell_type": "code",
   "execution_count": 92,
   "metadata": {},
   "outputs": [
    {
     "data": {
      "text/plain": [
       "[['Changed', 2], [3, 4]]"
      ]
     },
     "execution_count": 92,
     "metadata": {},
     "output_type": "execute_result"
    }
   ],
   "source": [
    "bacon[0][0] = 'Changed'\n",
    "bacon"
   ]
  },
  {
   "cell_type": "code",
   "execution_count": 93,
   "metadata": {},
   "outputs": [
    {
     "data": {
      "text/plain": [
       "[[1, 2], [3, 4]]"
      ]
     },
     "execution_count": 93,
     "metadata": {},
     "output_type": "execute_result"
    }
   ],
   "source": [
    "ham"
   ]
  },
  {
   "cell_type": "markdown",
   "metadata": {},
   "source": [
    "### 기본 인수에 가변 객체는 사용하지 말자"
   ]
  },
  {
   "cell_type": "code",
   "execution_count": 96,
   "metadata": {},
   "outputs": [
    {
     "data": {
      "text/plain": [
       "True"
      ]
     },
     "execution_count": 96,
     "metadata": {},
     "output_type": "execute_result"
    }
   ],
   "source": [
    "# None이 기본 인수 \n",
    "'cat dog'.split() == 'cat dog'.split(None)"
   ]
  },
  {
   "cell_type": "code",
   "execution_count": 97,
   "metadata": {},
   "outputs": [],
   "source": [
    "def addIngredient(ingredient, sandwich = ['bread', 'bread']):\n",
    "    sandwich.insert(1, ingredient)\n",
    "    return sandwich"
   ]
  },
  {
   "cell_type": "code",
   "execution_count": 98,
   "metadata": {},
   "outputs": [
    {
     "data": {
      "text/plain": [
       "['bread', 'avocado', 'bread']"
      ]
     },
     "execution_count": 98,
     "metadata": {},
     "output_type": "execute_result"
    }
   ],
   "source": [
    "mySandwich = addIngredient('avocado')\n",
    "mySandwich"
   ]
  },
  {
   "cell_type": "code",
   "execution_count": 100,
   "metadata": {},
   "outputs": [
    {
     "data": {
      "text/plain": [
       "['bread', 'lettuce', 'avocado', 'bread']"
      ]
     },
     "execution_count": 100,
     "metadata": {},
     "output_type": "execute_result"
    }
   ],
   "source": [
    "# 리스트는 가변 객체이기 때문에 호출할 때마다 리스트를 재사용한다\n",
    "anotherSandwich = addIngredient('lettuce')\n",
    "anotherSandwich"
   ]
  },
  {
   "cell_type": "code",
   "execution_count": 104,
   "metadata": {},
   "outputs": [],
   "source": [
    "# 기본 인수를 None으로 설정해서 해결\n",
    "def addIngredient(ingredient, sandwich = None):\n",
    "    if sandwich == None:\n",
    "        sandwich = ['bread', 'bread']\n",
    "    sandwich.insert(1, ingredient)\n",
    "    return sandwich"
   ]
  },
  {
   "cell_type": "code",
   "execution_count": 102,
   "metadata": {},
   "outputs": [
    {
     "data": {
      "text/plain": [
       "['bread', 'cranberries', 'bread']"
      ]
     },
     "execution_count": 102,
     "metadata": {},
     "output_type": "execute_result"
    }
   ],
   "source": [
    "firstSandwich = addIngredient('cranberries')\n",
    "firstSandwich"
   ]
  },
  {
   "cell_type": "code",
   "execution_count": 103,
   "metadata": {},
   "outputs": [
    {
     "data": {
      "text/plain": [
       "['bread', 'lettuce', 'bread']"
      ]
     },
     "execution_count": 103,
     "metadata": {},
     "output_type": "execute_result"
    }
   ],
   "source": [
    "secondSandwich = addIngredient('lettuce')\n",
    "secondSandwich"
   ]
  },
  {
   "cell_type": "markdown",
   "metadata": {},
   "source": [
    "### 문자열을 문자열 연결로 생성하지 말자"
   ]
  },
  {
   "cell_type": "markdown",
   "metadata": {},
   "source": [
    "**문자열은 불변 객체 : 문자열 값이 변경될 수 없으므로 문자열을 수정하는 것 처럼 보여도 새로운 문자열 객체를 생성한다.**"
   ]
  },
  {
   "cell_type": "code",
   "execution_count": 105,
   "metadata": {},
   "outputs": [
    {
     "data": {
      "text/plain": [
       "(4452174704, 'Hello')"
      ]
     },
     "execution_count": 105,
     "metadata": {},
     "output_type": "execute_result"
    }
   ],
   "source": [
    "spam = 'Hello'\n",
    "id(spam), spam"
   ]
  },
  {
   "cell_type": "code",
   "execution_count": 107,
   "metadata": {},
   "outputs": [
    {
     "data": {
      "text/plain": [
       "(4452628464, 'HelloWorldWorld')"
      ]
     },
     "execution_count": 107,
     "metadata": {},
     "output_type": "execute_result"
    }
   ],
   "source": [
    "# 새로운 문자열 객체 생성\n",
    "spam = spam + 'World'\n",
    "id(spam), spam"
   ]
  },
  {
   "cell_type": "code",
   "execution_count": 108,
   "metadata": {},
   "outputs": [
    {
     "data": {
      "text/plain": [
       "(4452247216, 'HELLOWORLDWORLD')"
      ]
     },
     "execution_count": 108,
     "metadata": {},
     "output_type": "execute_result"
    }
   ],
   "source": [
    "spam = spam.upper()\n",
    "id(spam), spam"
   ]
  },
  {
   "cell_type": "code",
   "execution_count": 109,
   "metadata": {},
   "outputs": [
    {
     "data": {
      "text/plain": [
       "(4452210544, 'Hi')"
      ]
     },
     "execution_count": 109,
     "metadata": {},
     "output_type": "execute_result"
    }
   ],
   "source": [
    "spam = 'Hi'\n",
    "id(spam), spam"
   ]
  },
  {
   "cell_type": "code",
   "execution_count": 110,
   "metadata": {},
   "outputs": [
    {
     "data": {
      "text/plain": [
       "(4452370480, 'Hi world!')"
      ]
     },
     "execution_count": 110,
     "metadata": {},
     "output_type": "execute_result"
    }
   ],
   "source": [
    "spam = f'{spam} world!'\n",
    "id(spam), spam"
   ]
  },
  {
   "cell_type": "code",
   "execution_count": 118,
   "metadata": {},
   "outputs": [
    {
     "data": {
      "text/plain": [
       "'spam spam spam spam spam spam spam spam spam spam '"
      ]
     },
     "execution_count": 118,
     "metadata": {},
     "output_type": "execute_result"
    }
   ],
   "source": [
    "# 문자열을 만드는 파이썬답지 않은 방법. 중간 문자열 값을 만들었다가 저장 후에 바로 버려야 하기 때문에 메모리 낭비가 심하다.\n",
    "finalString = ''\n",
    "for i in range(10):\n",
    "    finalString += 'spam '\n",
    "\n",
    "finalString"
   ]
  },
  {
   "cell_type": "code",
   "execution_count": 117,
   "metadata": {},
   "outputs": [
    {
     "data": {
      "text/plain": [
       "'spam spam spam spam spam spam spam spam spam spam '"
      ]
     },
     "execution_count": 117,
     "metadata": {},
     "output_type": "execute_result"
    }
   ],
   "source": [
    "# 문자열을 만드는 파이썬 다운 방법. 이 방법이 훨씬 더 빠르다.\n",
    "finalString = []\n",
    "for i in range(10):\n",
    "    finalString.append('spam ')\n",
    "finalString = ''.join(finalString)\n",
    "finalString"
   ]
  },
  {
   "cell_type": "markdown",
   "metadata": {},
   "source": [
    "### sort()가 알파벳 순으로 정렬하리라 기대하지는 말자"
   ]
  },
  {
   "cell_type": "code",
   "execution_count": 5,
   "metadata": {},
   "outputs": [
    {
     "data": {
      "text/plain": [
       "['A', 'Z', 'a', 'z']"
      ]
     },
     "execution_count": 5,
     "metadata": {},
     "output_type": "execute_result"
    }
   ],
   "source": [
    "# sort()는 알파벳 정렬이 아닌 아스키 정렬을 사용하기 때문에 나타나는 결과\n",
    "letters = ['z', 'A', 'a', 'Z']\n",
    "letters.sort()\n",
    "letters"
   ]
  },
  {
   "cell_type": "markdown",
   "metadata": {},
   "source": [
    "### 부동소수가 완벽히 정확할 것이라고 가정하지 말자"
   ]
  },
  {
   "cell_type": "code",
   "execution_count": 124,
   "metadata": {},
   "outputs": [
    {
     "data": {
      "text/plain": [
       "0.30000000000000004"
      ]
     },
     "execution_count": 124,
     "metadata": {},
     "output_type": "execute_result"
    }
   ],
   "source": [
    "# 반올림 에러의 결과물\n",
    "0.1 + 0.1 + 0.1"
   ]
  },
  {
   "cell_type": "code",
   "execution_count": 123,
   "metadata": {},
   "outputs": [
    {
     "data": {
      "text/plain": [
       "False"
      ]
     },
     "execution_count": 123,
     "metadata": {},
     "output_type": "execute_result"
    }
   ],
   "source": [
    "0.3 == 0.1 + 0.1 + 0.1"
   ]
  },
  {
   "cell_type": "markdown",
   "metadata": {},
   "source": [
    "**거의 문제가 될 일이 없지만, 꼭 필요한 경우에는 decimal모듈을 사용하면 정확하다**"
   ]
  },
  {
   "cell_type": "code",
   "execution_count": 127,
   "metadata": {},
   "outputs": [
    {
     "data": {
      "text/plain": [
       "Decimal('0.1000000000000000055511151231257827021181583404541015625')"
      ]
     },
     "execution_count": 127,
     "metadata": {},
     "output_type": "execute_result"
    }
   ],
   "source": [
    "# 정확하지 않은 값\n",
    "import decimal\n",
    "d = decimal.Decimal(0.1)\n",
    "d"
   ]
  },
  {
   "cell_type": "code",
   "execution_count": 128,
   "metadata": {},
   "outputs": [
    {
     "data": {
      "text/plain": [
       "Decimal('0.1')"
      ]
     },
     "execution_count": 128,
     "metadata": {},
     "output_type": "execute_result"
    }
   ],
   "source": [
    "# decimal 모듈을 사용할 때는 문자열을 소수로 decimal.Decimal에 전달한다.\n",
    "import decimal\n",
    "d = decimal.Decimal('0.1')\n",
    "d"
   ]
  },
  {
   "cell_type": "code",
   "execution_count": 130,
   "metadata": {},
   "outputs": [
    {
     "data": {
      "text/plain": [
       "Decimal('0.3333333333333333333333333333')"
      ]
     },
     "execution_count": 130,
     "metadata": {},
     "output_type": "execute_result"
    }
   ],
   "source": [
    "# Decimal 객체도 완전히 정밀하지는 않음\n",
    "import decimal\n",
    "d = decimal.Decimal(1)/3\n",
    "d"
   ]
  },
  {
   "cell_type": "code",
   "execution_count": 131,
   "metadata": {},
   "outputs": [
    {
     "data": {
      "text/plain": [
       "Decimal('0.9999999999999999999999999999')"
      ]
     },
     "execution_count": 131,
     "metadata": {},
     "output_type": "execute_result"
    }
   ],
   "source": [
    "d*3"
   ]
  },
  {
   "cell_type": "markdown",
   "metadata": {},
   "source": [
    "### 부등 연산자 !=를 연달아 쓰지 말자"
   ]
  },
  {
   "cell_type": "code",
   "execution_count": 133,
   "metadata": {},
   "outputs": [
    {
     "data": {
      "text/plain": [
       "True"
      ]
     },
     "execution_count": 133,
     "metadata": {},
     "output_type": "execute_result"
    }
   ],
   "source": [
    "# (a != b) and (b != c)를 의미하므로 a 와 c 가 다름에도 True를 반환한다.\n",
    "a = 1\n",
    "b = 2\n",
    "c = 3\n",
    "a != b != c"
   ]
  },
  {
   "cell_type": "markdown",
   "metadata": {},
   "source": [
    "### 단일 아이템 튜플에서는 쉼표를 잊지 말자"
   ]
  },
  {
   "cell_type": "code",
   "execution_count": 134,
   "metadata": {},
   "outputs": [
    {
     "data": {
      "text/plain": [
       "'cat'"
      ]
     },
     "execution_count": 134,
     "metadata": {},
     "output_type": "execute_result"
    }
   ],
   "source": [
    "spam = ('cat', 'dog', 'moose')\n",
    "spam[0]"
   ]
  },
  {
   "cell_type": "code",
   "execution_count": 137,
   "metadata": {},
   "outputs": [
    {
     "data": {
      "text/plain": [
       "'c'"
      ]
     },
     "execution_count": 137,
     "metadata": {},
     "output_type": "execute_result"
    }
   ],
   "source": [
    "# 튜플에 쉼표가 없으면, 문자열로 평가되어 첫 글자인 c가 출력된다\n",
    "spam = ('cat')\n",
    "spam[0]"
   ]
  },
  {
   "cell_type": "code",
   "execution_count": 136,
   "metadata": {},
   "outputs": [
    {
     "data": {
      "text/plain": [
       "'cat'"
      ]
     },
     "execution_count": 136,
     "metadata": {},
     "output_type": "execute_result"
    }
   ],
   "source": [
    "spam = ('cat',)\n",
    "spam[0]"
   ]
  },
  {
   "cell_type": "code",
   "execution_count": null,
   "metadata": {},
   "outputs": [],
   "source": []
  }
 ],
 "metadata": {
  "kernelspec": {
   "display_name": "Python 3.10.7 64-bit",
   "language": "python",
   "name": "python3"
  },
  "language_info": {
   "codemirror_mode": {
    "name": "ipython",
    "version": 3
   },
   "file_extension": ".py",
   "mimetype": "text/x-python",
   "name": "python",
   "nbconvert_exporter": "python",
   "pygments_lexer": "ipython3",
   "version": "3.10.7"
  },
  "orig_nbformat": 4,
  "vscode": {
   "interpreter": {
    "hash": "aee8b7b246df8f9039afb4144a1f6fd8d2ca17a180786b69acc140d282b71a49"
   }
  }
 },
 "nbformat": 4,
 "nbformat_minor": 2
}
