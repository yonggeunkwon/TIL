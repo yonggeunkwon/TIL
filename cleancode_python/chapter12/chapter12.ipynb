{
 "cells": [
  {
   "cell_type": "markdown",
   "metadata": {},
   "source": [
    "# 12장 깃을 이용한 코드 관리 기법"
   ]
  },
  {
   "cell_type": "markdown",
   "metadata": {},
   "source": [
    "### 가장 인기 있는 버전 관리 도구 깃"
   ]
  },
  {
   "cell_type": "markdown",
   "metadata": {},
   "source": [
    "> 버전 관리 도구를 이용하면 파일 추적에 용이하다"
   ]
  },
  {
   "cell_type": "markdown",
   "metadata": {},
   "source": [
    "### 깃 커밋과 리포"
   ]
  },
  {
   "cell_type": "markdown",
   "metadata": {},
   "source": [
    "- 깃을 이용하면, 파일을 변경할 때 커밋으로 파일의 상태를 저장할 수 있다. 필요한 경우, 이전 커밋으로 되돌릴 수 있다.\n",
    "- 다른 프로그래머들의 작업을 로컬로 끌어올 수 있다.\n",
    "- 프로그래머는 각 프로젝트마다 각각의 리포를 개별적으로 유지한다."
   ]
  },
  {
   "cell_type": "markdown",
   "metadata": {},
   "source": [
    "### 쿠키커터 패키지를 이용한 새로운 파이썬 프로젝트 생성"
   ]
  },
  {
   "cell_type": "markdown",
   "metadata": {},
   "source": []
  },
  {
   "cell_type": "markdown",
   "metadata": {},
   "source": [
    "### 깃이 파일 상태를 관리하는 방식"
   ]
  },
  {
   "cell_type": "markdown",
   "metadata": {},
   "source": [
    "##### 관리대상 파일\n",
    "\n",
    "- 커밋된 상태 : 작업 사본에 있는 파일이 리포의 가장 최근 커밋과 동일한 상황\n",
    "- 수정된 상태 : 작업 사본에 있는 파일이 리포의 가장 최근 커밋과 다른 상황\n",
    "- 스테이징 상태 : 파일을 수정하여 다음 커밋에 포함되도록 표시한 상태"
   ]
  },
  {
   "cell_type": "markdown",
   "metadata": {},
   "source": [
    "  "
   ]
  },
  {
   "cell_type": "markdown",
   "metadata": {},
   "source": [
    "### 리포의 특정 파일 무시하기"
   ]
  },
  {
   "cell_type": "markdown",
   "metadata": {},
   "source": [
    "##### 일부 파일은 본의 아니게 관리대상에 포함되는 일이 없도록 해당 파일을 버전 관리에서 제외시키고 싶은 경우\n",
    "\n",
    "- 프로젝트 폴더의 임시 파일\n",
    "- 파이썬 인터프리터가 .py 프로그램을 실행할 때 생성되는 .pyc, .pyo, .pyd파일\n",
    "- 다양한 소프트웨어 개발 도구가 생성한 docs/_build, .tox, htmlcov 등의 파일들\n",
    "- 컴파일러나 문서화 도구 등의 프로그램으로 다시 생성이 가능한 파일\n",
    "- 데이터베이스 비밀번호, 인증 토큰, 신용카드 번호 등 기타 민감한 정보들이 담긴 소스 코드 파일\n",
    "\n",
    "=> .gitignore라는 텍스트 파일을 생성한다. git은 여기에 있는 파일들을 자동으로 git add 나 git commit 명령에서 제외하고, git status를 실행해도 목록이 표시되지 않는다."
   ]
  },
  {
   "cell_type": "markdown",
   "metadata": {},
   "source": [
    "### 변경사항 커밋\n",
    "\n",
    "- git add .를 실행하여 수정된 파일들을 모두 스테이징 하고, git commit -m \"<커밋 메시지>\" 로 스테이징된 모든 파일들을 커밋할 수 있다.\n",
    "- git add .를 실행하여 수정된 파일들을 모두 스테이징 하고, git commit -am \"<커밋 메시지>\" 로 단일 명령어를 내릴 수 있다.\n",
    "- git commit -m \"<커밋 메시지>\"file1.py file2.py 처럼, 커밋 메시지 다음에 커밋 대상 파일들을 지정할 수 있다.\n",
    "- 커밋 메시지를 작성하다가 오타가 발생한 경우, git commit --amend -m \"<새 커밋 메시지>\" 를 사용해서 새 커밋 메시지를 작성하면 된다."
   ]
  },
  {
   "cell_type": "markdown",
   "metadata": {},
   "source": [
    "### 스테이징된 파일을 스테이징 상태에서 해제하기\n",
    "\n",
    "- git restore --staged<파일명> 을 실행하면 된다."
   ]
  },
  {
   "cell_type": "markdown",
   "metadata": {},
   "source": [
    "### 커밋 메시지의 중요성\n",
    "\n",
    "- 커밋 메시지를 자세하게 써둔다면 시간이 지난 뒤에 이전 버전의 코드로 롤백해야 할 때 얼마나 롤백을 해야 하는지에 대한 고민을 덜어준다."
   ]
  },
  {
   "cell_type": "markdown",
   "metadata": {},
   "source": [
    "### 커밋을 해야하는 단위\n",
    "\n",
    "- 기능 추가, 클래스 구현, 버그 수정 같은 단위 작업을 완료했다면 코드를 커밋해야 한다.\n",
    "- 에러가 있거나 깨진 코드를 커밋해서는 안 된다. 이전 커밋으로 되돌아갔을 때 온전히 동작해야 한다."
   ]
  },
  {
   "cell_type": "markdown",
   "metadata": {},
   "source": [
    "### 리포에서 파일 삭제하기\n",
    "\n",
    "- 파일 삭제를 윈도으의 del 명령어나 mac os의 rm 명령어로 해서는 안 된다.\n",
    "- git rm 명령어로 파일을 삭제하고 스테이징으로 이동시킨다.\n",
    "- git rm 명령어도 git add 명령어와 마찬가지로 파일을 스테이징으로 이동시킨다. 따라서, 파일 삭제를 커밋할 필요가 있다."
   ]
  },
  {
   "cell_type": "markdown",
   "metadata": {},
   "source": [
    "### 리포에서 파일 이름 변경과 이동\n",
    "\n",
    "- 파일 삭제와 마찬가지로, 깃을 사용하지 않고 직접 리포에서 파일의 이름을 바꾸거나 이동해서는 안 된다.\n",
    "- git mv를 실행한 다음, git commit 명령어를 실행한다.\n",
    "- 깃을 이용해 파일 이름 변경 ex)\n",
    "    - git mv README.md README.txt 로 파일 이름 변경\n",
    "    - git commit -m\"깃에서 파일 이름 변경 테스트\"\n",
    "- 깃을 이용해 파일을 다른 폴더로 이동 ex)\n",
    "    - mkdir movetest 로 폴더 생성\n",
    "    - git mv README.txt movetest/README.txt 로 폴더 이동\n",
    "    - git commit -m \"깃에서 파일 이동 테스트\""
   ]
  },
  {
   "cell_type": "markdown",
   "metadata": {},
   "source": [
    "### 커밋 로그 보기"
   ]
  },
  {
   "cell_type": "markdown",
   "metadata": {},
   "source": [
    "> git log 명령어로 모든 커밋의 목록을 출력할 수 있다.\n",
    "\n",
    "- 로그가 터미널 창 한 페이지를 넘어갈 경우에는 위/아래 화살표 키를 이용해서 위 또는 아래로 스크롤해서 보면 된다.\n",
    "- q키로 종료할 수 있다."
   ]
  },
  {
   "cell_type": "markdown",
   "metadata": {},
   "source": [
    "### 기존 변경 내역으로 복구하기\n",
    "\n",
    "- 이전 버전의 소스 코드로 작업하기를 원하거나, 롤백 작업을 할 때\n",
    "  1. git log 명령 입력 후, 위 아래 방향키로 원하는 버전 커밋 찾기\n",
    "  2. 'commit'문구 뒤의 해시코드 앞에서 4자리 이상 복사\n",
    "  3. git checkout 복사한 4자리 이상 해시코드 </br>\n",
    "  => 현재 소스가 해당 버전으로 돌아간다.\n",
    "  4. git checkout 브랜치 이름 </br>\n",
    "  => 해당 브랜치의 최신 커밋으로 돌리기"
   ]
  },
  {
   "cell_type": "markdown",
   "metadata": {},
   "source": [
    "### 커밋되지 않은 로컬 변경사항 취소하기\n",
    "\n",
    "- 파일을 변경한 다음에 커밋하지 않았는데 마지막 커밋에서 버전을 복구하고 싶은 경우\n",
    "  - git restore<파일명> 을 실행하면 된다."
   ]
  }
 ],
 "metadata": {
  "kernelspec": {
   "display_name": "Python 3.10.7 64-bit",
   "language": "python",
   "name": "python3"
  },
  "language_info": {
   "name": "python",
   "version": "3.10.7"
  },
  "orig_nbformat": 4,
  "vscode": {
   "interpreter": {
    "hash": "aee8b7b246df8f9039afb4144a1f6fd8d2ca17a180786b69acc140d282b71a49"
   }
  }
 },
 "nbformat": 4,
 "nbformat_minor": 2
}
