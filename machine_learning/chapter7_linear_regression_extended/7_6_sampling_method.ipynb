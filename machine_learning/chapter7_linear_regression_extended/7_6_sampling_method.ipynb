{
 "cells": [
  {
   "attachments": {},
   "cell_type": "markdown",
   "metadata": {},
   "source": [
    "## Training - Validation - Test\n",
    "\n",
    "- Training Set은 모델 building에 사용\n",
    "- Test Set은 모델 평가에 사용 \n",
    "- Validation Set은 모델이 제대로 만들어지고 있는지 중간중간 체크\n",
    "- 일반적으로 6 : 2 : 2 비율로 사용"
   ]
  },
  {
   "attachments": {},
   "cell_type": "markdown",
   "metadata": {},
   "source": [
    "## Validation Set\n",
    "\n",
    "- Test Set은 Model이 생성될 때 절대 Training Set에 포함되지 않아야 함\n",
    "- Test Set과 달리 Model 생성시 Model의 성능을 평가하기 위해 사용\n",
    "- Hyper Parameter Tuning시 성능 평가를 통해 Overfitting 방지\n",
    "- Training 중간에 Model의 성능을 점검"
   ]
  },
  {
   "attachments": {},
   "cell_type": "markdown",
   "metadata": {},
   "source": [
    "## K-fold cross validation\n",
    "\n",
    "- 학습 데이터를 K번 나눠서 Test와 Train을 실시 -> Test의 평균값을 사용\n",
    "- 모델의 Parameter 튜닝, 간단한 모델의 최종 성능 측정 등 사용"
   ]
  },
  {
   "cell_type": "code",
   "execution_count": 1,
   "metadata": {},
   "outputs": [],
   "source": [
    "import numpy as np\n",
    "import pandas as pd\n",
    "import matplotlib.pyplot as plt"
   ]
  },
  {
   "cell_type": "code",
   "execution_count": 2,
   "metadata": {},
   "outputs": [
    {
     "name": "stderr",
     "output_type": "stream",
     "text": [
      "/Users/kwon-yong-geun/miniconda3/envs/ml/lib/python3.8/site-packages/sklearn/datasets/_openml.py:292: UserWarning: Multiple active versions of the dataset matching the name boston exist. Versions may be fundamentally different, returning version 1.\n",
      "  warn(\n",
      "/Users/kwon-yong-geun/miniconda3/envs/ml/lib/python3.8/site-packages/sklearn/datasets/_openml.py:932: FutureWarning: The default value of `parser` will change from `'liac-arff'` to `'auto'` in 1.4. You can set `parser='auto'` to silence this warning. Therefore, an `ImportError` will be raised from 1.4 if the dataset is dense and pandas is not installed. Note that the pandas parser may return different data types. See the Notes Section in fetch_openml's API doc for details.\n",
      "  warn(\n"
     ]
    }
   ],
   "source": [
    "from sklearn import datasets\n",
    "X, y = datasets.fetch_openml('boston', return_X_y=True)"
   ]
  },
  {
   "cell_type": "code",
   "execution_count": 17,
   "metadata": {},
   "outputs": [],
   "source": [
    "X = np.array(X)\n",
    "y = np.array(y)"
   ]
  },
  {
   "cell_type": "code",
   "execution_count": 18,
   "metadata": {},
   "outputs": [
    {
     "name": "stdout",
     "output_type": "stream",
     "text": [
      "TRAIN -  455\n",
      "TEST -  51\n",
      "TRAIN -  455\n",
      "TEST -  51\n",
      "TRAIN -  455\n",
      "TEST -  51\n",
      "TRAIN -  455\n",
      "TEST -  51\n",
      "TRAIN -  455\n",
      "TEST -  51\n",
      "TRAIN -  455\n",
      "TEST -  51\n",
      "TRAIN -  456\n",
      "TEST -  50\n",
      "TRAIN -  456\n",
      "TEST -  50\n",
      "TRAIN -  456\n",
      "TEST -  50\n",
      "TRAIN -  456\n",
      "TEST -  50\n"
     ]
    }
   ],
   "source": [
    "from sklearn.model_selection import KFold\n",
    "\n",
    "kf = KFold(n_splits=10, shuffle=True)\n",
    "\n",
    "for train_index, test_index in kf.split(X):\n",
    "    print(\"TRAIN - \", len(train_index))\n",
    "    print(\"TEST - \",  len(test_index))"
   ]
  },
  {
   "cell_type": "code",
   "execution_count": 20,
   "metadata": {},
   "outputs": [
    {
     "data": {
      "text/plain": [
       "(34.46408458830231, 34.078246209259284)"
      ]
     },
     "execution_count": 20,
     "metadata": {},
     "output_type": "execute_result"
    }
   ],
   "source": [
    "from sklearn.linear_model import Lasso, Ridge\n",
    "from sklearn.metrics import mean_squared_error\n",
    "kf = KFold(n_splits=10)\n",
    "lasso_regressor = Lasso()\n",
    "ridge_regressor = Ridge()\n",
    "\n",
    "lasso_mse = []\n",
    "ridge_mse = []\n",
    "\n",
    "for train_index, test_index in kf.split(X):  # 일반적으로 index값을 찍음\n",
    "    lasso_regressor.fit(X[train_index], y[train_index])\n",
    "    ridge_regressor.fit(X[train_index], y[train_index])\n",
    "    \n",
    "    lasso_mse.append(mean_squared_error(y[test_index], lasso_regressor.predict(X[test_index])))\n",
    "    ridge_mse.append(mean_squared_error(y[test_index], ridge_regressor.predict(X[test_index])))\n",
    "    \n",
    "sum(lasso_mse) / 10, sum(ridge_mse) / 10"
   ]
  },
  {
   "attachments": {},
   "cell_type": "markdown",
   "metadata": {},
   "source": [
    "## K-fold Cross Validation\n",
    "\n",
    "- cross_val_score 함수로, 한번에 해결 가능\n",
    "- sklearn은 pipeline 등을 위해 High is better로 처리함 -> MSE를 Negative로 변환\n",
    "- 이로 인해 RMSE를 지원하지 않음"
   ]
  },
  {
   "attachments": {},
   "cell_type": "markdown",
   "metadata": {},
   "source": [
    "- 주로 cross_val_score 사용함."
   ]
  },
  {
   "cell_type": "code",
   "execution_count": 21,
   "metadata": {},
   "outputs": [
    {
     "data": {
      "text/plain": [
       "(-34.46408458830231, -34.078246209259284)"
      ]
     },
     "execution_count": 21,
     "metadata": {},
     "output_type": "execute_result"
    }
   ],
   "source": [
    "from sklearn.model_selection import cross_val_score\n",
    "import numpy as np \n",
    "\n",
    "lasso_regressor = Lasso(warm_start=False)\n",
    "ridge_regressor = Ridge()\n",
    "\n",
    "lasso_scores = cross_val_score(lasso_regressor, X, y, cv=10, scoring='neg_mean_squared_error')\n",
    "ridge_scores= cross_val_score(ridge_regressor, X, y, cv=10, scoring='neg_mean_squared_error')\n",
    "np.mean(lasso_scores), np.mean(ridge_scores)"
   ]
  },
  {
   "cell_type": "code",
   "execution_count": 23,
   "metadata": {},
   "outputs": [
    {
     "data": {
      "text/plain": [
       "{'fit_time': array([0.00771308, 0.00414896, 0.00329781, 0.00377703, 0.00230289,\n",
       "        0.001724  , 0.00209284, 0.00196981, 0.00358677, 0.00202084]),\n",
       " 'score_time': array([0.00912404, 0.00213194, 0.00284624, 0.00166106, 0.00106215,\n",
       "        0.00167918, 0.00101113, 0.00157619, 0.00177813, 0.00212312]),\n",
       " 'test_neg_mean_squared_error': array([ -11.75904887,  -17.87218543,  -10.52504673,  -60.79224355,\n",
       "         -46.77806854,  -40.75196077,  -17.30562005, -102.67754279,\n",
       "         -22.8731834 ,  -13.30594575]),\n",
       " 'test_r2': array([ 0.66289033,  0.33452353, -0.50043664,  0.38035161,  0.33638098,\n",
       "         0.4584511 , -0.0816218 ,  0.31138236, -0.21362102,  0.29459703])}"
      ]
     },
     "execution_count": 23,
     "metadata": {},
     "output_type": "execute_result"
    }
   ],
   "source": [
    "from sklearn.model_selection import cross_validate\n",
    "import numpy as np \n",
    "\n",
    "lasso_regressor = Lasso(warm_start=False)\n",
    "ridge_regressor = Ridge()\n",
    "\n",
    "scoring = ['neg_mean_squared_error', 'r2']\n",
    "\n",
    "lasso_scores = cross_validate(lasso_regressor, X, y, cv=10, scoring=scoring)\n",
    "ridge_scores= cross_validate(ridge_regressor, X, y, cv=10, scoring='neg_mean_squared_error')\n",
    "lasso_scores"
   ]
  },
  {
   "attachments": {},
   "cell_type": "markdown",
   "metadata": {},
   "source": [
    "## Leave One Out (LOO)\n",
    "\n",
    "- Simple cross validation -> k = data size\n",
    "- 한번에 한 개의 데이터만 Test set으로 사용함 -> 총 k번의 iteration\n",
    "- 거의 사용하지는 않음"
   ]
  },
  {
   "cell_type": "code",
   "execution_count": 26,
   "metadata": {},
   "outputs": [
    {
     "name": "stdout",
     "output_type": "stream",
     "text": [
      "[1 2 3] [0]\n",
      "[0 2 3] [1]\n",
      "[0 1 3] [2]\n",
      "[0 1 2] [3]\n"
     ]
    }
   ],
   "source": [
    "from sklearn.model_selection import LeaveOneOut\n",
    "\n",
    "test = [1,2,3,4]\n",
    "loo = LeaveOneOut()\n",
    "for train, test in loo.split(test):\n",
    "    print('%s %s' % (train, test))"
   ]
  },
  {
   "cell_type": "code",
   "execution_count": 27,
   "metadata": {},
   "outputs": [
    {
     "data": {
      "text/plain": [
       "(-28.409266762049338, -23.86283631720997)"
      ]
     },
     "execution_count": 27,
     "metadata": {},
     "output_type": "execute_result"
    }
   ],
   "source": [
    "loo = LeaveOneOut()\n",
    "    \n",
    "lasso_scores = cross_val_score(lasso_regressor, X, y, cv=loo, scoring='neg_mean_squared_error')\n",
    "ridge_scores= cross_val_score(ridge_regressor, X, y, cv=loo, scoring='neg_mean_squared_error')\n",
    "np.mean(lasso_scores), np.mean(ridge_scores)"
   ]
  },
  {
   "attachments": {},
   "cell_type": "markdown",
   "metadata": {},
   "source": [
    "## Check variation of cross validation"
   ]
  },
  {
   "cell_type": "code",
   "execution_count": 28,
   "metadata": {},
   "outputs": [],
   "source": [
    "lasso_scores = cross_val_score(\n",
    "    lasso_regressor, X, y, cv=kf, scoring='neg_mean_squared_error')\n",
    "ridge_scores= cross_val_score(\n",
    "    ridge_regressor, X, y, cv=kf, scoring='neg_mean_squared_error')"
   ]
  },
  {
   "cell_type": "code",
   "execution_count": 29,
   "metadata": {},
   "outputs": [
    {
     "data": {
      "image/png": "[encoded data removed]",
      "text/plain": [
       "<Figure size 640x480 with 1 Axes>"
      ]
     },
     "metadata": {},
     "output_type": "display_data"
    }
   ],
   "source": [
    "import matplotlib.pyplot as plt\n",
    "labels=[\"LASSO\", \"RIDGE\"]\n",
    "plt.boxplot((lasso_scores, ridge_scores), labels=labels)\n",
    "plt.grid(linestyle=\"--\")\n",
    "plt.show()"
   ]
  },
  {
   "attachments": {},
   "cell_type": "markdown",
   "metadata": {},
   "source": [
    "- 높을수록 성능이 좋은 것이기 때문에, Ridge와 LASSO의 성능에는 큰 차이가 없어보인다.\n",
    "- 하지만 LASSO가 Ridge에 비해 퍼져있다. (variation이 크다) -> 정확한 값을 낼 필요가 있는 경우 (성능보다는 정확한 값이 필요할 때) Ridge를 선택하는 것이 좋음"
   ]
  },
  {
   "attachments": {},
   "cell_type": "markdown",
   "metadata": {},
   "source": [
    "## Validation set for parameter tuning\n",
    "\n",
    "- Validation set의 많은 이유중 하나가 Hyper parameter tuning임\n",
    "- Number of iterations (SGD), Number of branch (Tree- based) etc..\n",
    "- Validation set의 성능으로 최적의 parameter을 찾음\n",
    "- Validation set 결과와 Training set 결과의 차이가 벌어지면 Overfitting임"
   ]
  },
  {
   "cell_type": "code",
   "execution_count": 30,
   "metadata": {},
   "outputs": [],
   "source": [
    "def rmse(predictions, targets):\n",
    "    return np.sqrt(((predictions - targets) ** 2).mean())"
   ]
  },
  {
   "cell_type": "code",
   "execution_count": 102,
   "metadata": {},
   "outputs": [],
   "source": [
    "from sklearn.linear_model import SGDRegressor\n",
    "from sklearn.preprocessing import StandardScaler\n",
    "\n",
    "std = StandardScaler()\n",
    "std.fit(X)\n",
    "X_scaled = std.transform(X)\n",
    "\n",
    "eta0 = 0.0000001 \n",
    "max_iter = 10000"
   ]
  },
  {
   "cell_type": "code",
   "execution_count": 103,
   "metadata": {},
   "outputs": [],
   "source": [
    "from sklearn.model_selection import train_test_split\n",
    "\n",
    "\n",
    "X_train_dataset, X_test, y_train_dataset, y_test = train_test_split(\n",
    "            X,y, test_size=0.2, random_state=42)\n",
    "\n",
    "sgd_regressor = SGDRegressor(\n",
    "    eta0=eta0, max_iter=max_iter, warm_start=True, learning_rate=\"constant\")  # warm_start - 이전에 학습했던 값을 기반으로 학습함, learning_rate = 'constant' - learning_rate를 변화하지 않음 (거의 사용 X)\n",
    "\n",
    "rmse_val_score = []\n",
    "rmse_train_score = []\n",
    "model_list = []\n",
    "\n",
    "X_train, X_val, y_train, y_val = train_test_split(\n",
    "    X_train_dataset,y_train_dataset, test_size=0.2, random_state=42)\n",
    "sgd_regressor.fit(X_train,y_train)\n",
    "\n",
    "# kf = KFold(n_splits=100, shuffle=True)\n",
    "# for train_index, test_index in kf.split(X_train_dataset):\n",
    "\n",
    "for i in range(300):\n",
    "\n",
    "    y_pred = sgd_regressor.predict(X_train)\n",
    "    y_true = y_train\n",
    "    rmse_train_score.append(rmse(y_pred, y_true))\n",
    "\n",
    "    y_pred = sgd_regressor.predict(X_val)\n",
    "    y_true = y_val\n",
    "    rmse_val_score.append(rmse(y_pred, y_true))\n",
    "    model_list.append(sgd_regressor)\n",
    "\n",
    "    coef = sgd_regressor.coef_.copy()\n",
    "    intercept = sgd_regressor.intercept_.copy()\n",
    "\n",
    "    sgd_regressor = SGDRegressor(\n",
    "        eta0=eta0, max_iter=max_iter, warm_start=True, learning_rate=\"constant\")\n",
    "    \n",
    "    sgd_regressor.fit(X_train,y_train, coef_init=coef, intercept_init=intercept)    "
   ]
  },
  {
   "cell_type": "code",
   "execution_count": 104,
   "metadata": {},
   "outputs": [
    {
     "data": {
      "image/png": "[encoded data removed]",
      "text/plain": [
       "<Figure size 640x480 with 1 Axes>"
      ]
     },
     "metadata": {},
     "output_type": "display_data"
    }
   ],
   "source": [
    "plt.plot(range(len(rmse_val_score)), rmse_val_score,  c=\"g\", label=\"VAL\")\n",
    "plt.plot(range(len(rmse_train_score)), rmse_train_score,  c=\"r\", label=\"TRAINING\")\n",
    "plt.scatter(99, rmse(y_test,sgd_regressor.predict(X_test)), s=1, label=\"TEST\")\n",
    "plt.legend()\n",
    "plt.show()"
   ]
  },
  {
   "cell_type": "code",
   "execution_count": 105,
   "metadata": {},
   "outputs": [
    {
     "data": {
      "text/plain": [
       "array([299, 285, 291, 271, 286, 294, 263, 289, 269, 287, 248, 256, 254,\n",
       "       295, 296, 259, 270, 280, 288, 276, 243, 266, 268, 255, 249, 242,\n",
       "       230, 272, 234, 246, 298, 226, 253, 210, 237, 228, 258, 278, 218,\n",
       "       240, 275, 219, 206, 205, 297, 279, 231, 208, 236, 223, 265, 217,\n",
       "       216, 213, 202, 211, 190, 204, 284, 199, 252, 257, 244, 186, 245,\n",
       "       196, 251, 232, 181, 195, 194, 197, 238, 239, 182, 180, 167, 207,\n",
       "       170, 169, 250, 163, 227, 168, 262, 183, 241, 152, 171, 156, 229,\n",
       "       155, 142, 273, 264, 173, 184, 293, 172, 201, 187, 214, 136, 292,\n",
       "       225, 222, 140, 277, 178, 185, 135, 159, 224, 146, 161, 162, 281,\n",
       "       125, 179, 221, 158, 267, 193, 124, 122, 126, 283, 215, 148, 116,\n",
       "       129, 189, 212, 120, 118, 115, 153, 139, 113, 117, 192, 141, 131,\n",
       "       233, 132, 149, 174, 108, 107, 112, 128, 177, 111, 105, 121, 114,\n",
       "       103, 127,  99, 160, 260, 144, 138, 119,  94, 123, 157, 134, 198,\n",
       "       104,  90, 209,  98, 164, 143, 261, 101,  92, 154, 137, 130,  91,\n",
       "       200,  88,  87, 109,  83,  96,  97,  84, 147, 176, 165, 290,  95,\n",
       "       100, 151,  86,  80,  78,  89,  79,  93,  82, 203, 110, 166, 145,\n",
       "       188, 220, 133,  72, 191,  73,  69,  68, 235,  71, 102, 274,  81,\n",
       "       247,  70,  67,  62,  61,  74,  64,  85,  65, 150,  63,  59,  77,\n",
       "        60, 106,  54,  66,  53,  52,  76,  57,  50,  49, 175, 282,  56,\n",
       "        75,  55,  46,  48,  41,  47,  45,  43,  39,  38,  40,  58,  42,\n",
       "        36,  34,  35,  37,  32,  51,  30,  27,  26,  29,  23,  24,  20,\n",
       "        22,  33,  19,  28,  18,  16,  25,  44,  12,  21,  11,  15,  31,\n",
       "        14,   8,   9,   6,  10,   7,   2,   5,   3,   1,  17,   4,  13,\n",
       "         0])"
      ]
     },
     "execution_count": 105,
     "metadata": {},
     "output_type": "execute_result"
    }
   ],
   "source": [
    "# 299번째 coef가 가장 좋은 coef임\n",
    "np.argsort(rmse_val_score)"
   ]
  },
  {
   "cell_type": "code",
   "execution_count": 106,
   "metadata": {},
   "outputs": [
    {
     "data": {
      "text/plain": [
       "array([26.92968767, 28.39719775, 21.73108202, 19.20442261, 21.92471032,\n",
       "       22.6728819 , 18.5649624 , 15.44080224, 25.93183368, 22.37226236,\n",
       "       19.59007695, 20.49175445, -9.40285211, 19.90744875, 23.31487215,\n",
       "       23.39695151, 18.73098164,  9.43701259, 32.68490233, 21.96599477,\n",
       "       21.38209072, 25.00815479, 16.17704534, 24.67807693, 21.15159374,\n",
       "       19.7488738 , 20.35411021,  8.18404882, 20.72165016, 21.17626696,\n",
       "       22.33108387, 24.69789275, 25.1715351 , 27.98372078, 17.01606306,\n",
       "       16.698802  , 28.16908508, 21.46517404, 18.01812526, 16.91490599,\n",
       "       15.32355198, 30.06880084, 33.84441126, 18.51007062, 24.75514609,\n",
       "       22.5106611 , 19.81161857, 17.99164426, 22.0957661 , 29.31417349,\n",
       "       23.63692719, 25.54726031, 20.55870065, 27.77031604, 28.59485721,\n",
       "       22.37400072, 23.86107149, 32.22622522, 21.7758452 , 19.37388938,\n",
       "       24.41490284, 31.29397537, 22.37631916, 14.89527115, 29.62103578,\n",
       "       16.64808968, 22.88746143, 24.62681896, 29.82435554,  7.35480751,\n",
       "       15.11050585, 28.09083715, 11.08627777, 29.62471452, 20.48238449,\n",
       "        7.66087705, 25.97191244, 33.2089789 , 18.91835893, 14.81829862,\n",
       "       21.77485529, 12.02930698, 25.11873801, 14.41164862, 25.34920929,\n",
       "       24.50191627, 18.35563018, 23.89211309, 23.56300605, 24.5349637 ,\n",
       "       20.63282948,  1.95846166, 26.33407863, 19.14977361, 27.38626835,\n",
       "       27.05483766, 28.3617964 , -5.84089661,  8.55082218,  7.19915605,\n",
       "       18.38325184, 21.46662381])"
      ]
     },
     "execution_count": 106,
     "metadata": {},
     "output_type": "execute_result"
    }
   ],
   "source": [
    "# 가장 잘 예측한 값\n",
    "model_list[299].predict(X_test)"
   ]
  },
  {
   "cell_type": "code",
   "execution_count": 107,
   "metadata": {},
   "outputs": [
    {
     "data": {
      "text/plain": [
       "6.744454269941224"
      ]
     },
     "execution_count": 107,
     "metadata": {},
     "output_type": "execute_result"
    }
   ],
   "source": [
    "rmse(y_test,sgd_regressor.predict(X_test))"
   ]
  },
  {
   "cell_type": "code",
   "execution_count": 109,
   "metadata": {},
   "outputs": [
    {
     "data": {
      "text/plain": [
       "6.709700490095028"
      ]
     },
     "execution_count": 109,
     "metadata": {},
     "output_type": "execute_result"
    }
   ],
   "source": [
    "# 더 좋은 rmse\n",
    "rmse(y_test,model_list[299].predict(X_test))"
   ]
  },
  {
   "cell_type": "code",
   "execution_count": 111,
   "metadata": {},
   "outputs": [],
   "source": [
    "from sklearn.linear_model import SGDRegressor\n",
    "from sklearn.preprocessing import StandardScaler\n",
    "\n",
    "std = StandardScaler()\n",
    "std.fit(X)\n",
    "X_scaled = std.transform(X)\n",
    "\n",
    "eta0 = 0.001 \n",
    "max_iter = 100"
   ]
  },
  {
   "cell_type": "code",
   "execution_count": 112,
   "metadata": {},
   "outputs": [],
   "source": [
    "from sklearn.model_selection import train_test_split\n",
    "\n",
    "\n",
    "X_train_dataset, X_test, y_train_dataset, y_test = train_test_split(\n",
    "            X_scaled,y, test_size=0.2, random_state=42)\n",
    "\n",
    "sgd_regressor = SGDRegressor(\n",
    "    eta0=eta0, max_iter=max_iter, warm_start=True, learning_rate=\"constant\")  # warm_start - 이전에 학습했던 값을 기반으로 학습함, learning_rate = 'constant' - learning_rate를 변화하지 않음 (거의 사용 X)\n",
    "\n",
    "rmse_val_score = []\n",
    "rmse_train_score = []\n",
    "model_list = []\n",
    "\n",
    "X_train, X_val, y_train, y_val = train_test_split(\n",
    "    X_train_dataset,y_train_dataset, test_size=0.2, random_state=42)\n",
    "sgd_regressor.fit(X_train,y_train)\n",
    "\n",
    "# kf = KFold(n_splits=100, shuffle=True)\n",
    "# for train_index, test_index in kf.split(X_train_dataset):\n",
    "\n",
    "for i in range(300):\n",
    "\n",
    "    y_pred = sgd_regressor.predict(X_train)\n",
    "    y_true = y_train\n",
    "    rmse_train_score.append(rmse(y_pred, y_true))\n",
    "\n",
    "    y_pred = sgd_regressor.predict(X_val)\n",
    "    y_true = y_val\n",
    "    rmse_val_score.append(rmse(y_pred, y_true))\n",
    "    model_list.append(sgd_regressor)\n",
    "\n",
    "    coef = sgd_regressor.coef_.copy()\n",
    "    intercept = sgd_regressor.intercept_.copy()\n",
    "\n",
    "    sgd_regressor = SGDRegressor(\n",
    "        eta0=eta0, max_iter=max_iter, warm_start=True, learning_rate=\"constant\")\n",
    "    \n",
    "    sgd_regressor.fit(X_train,y_train, coef_init=coef, intercept_init=intercept)  "
   ]
  },
  {
   "cell_type": "code",
   "execution_count": 113,
   "metadata": {},
   "outputs": [
    {
     "data": {
      "image/png": "[encoded data removed]",
      "text/plain": [
       "<Figure size 640x480 with 1 Axes>"
      ]
     },
     "metadata": {},
     "output_type": "display_data"
    }
   ],
   "source": [
    "plt.plot(range(len(rmse_val_score)), rmse_val_score,  c=\"g\", label=\"VAL\")\n",
    "plt.plot(range(len(rmse_train_score)), rmse_train_score,  c=\"r\", label=\"TRAINING\")\n",
    "plt.scatter(99, rmse(y_test,sgd_regressor.predict(X_test)), s=1, label=\"TEST\")\n",
    "plt.legend()\n",
    "plt.show()"
   ]
  },
  {
   "attachments": {},
   "cell_type": "markdown",
   "metadata": {},
   "source": [
    "- scaled data에서 전체적으로 더 낮은 rmse"
   ]
  },
  {
   "attachments": {},
   "cell_type": "markdown",
   "metadata": {},
   "source": [
    "## Etc\n",
    "\n",
    "- Repeated-K-Fold : 중복이 포함된 K-Fold 생성\n",
    "- LeavePOut : 한번에 P개를 뽑은 (Not LOO for one data)\n",
    "- ShuffleSplit : 독립적인 (중복되는 ) 데이터 Sampling\n",
    "- Stratified-K-Fold : y값 비율에 맞춰서 뽑음 (중요)\n",
    "- Group-K-Fold - 그룹별로 데이터를 Sampling"
   ]
  },
  {
   "cell_type": "code",
   "execution_count": null,
   "metadata": {},
   "outputs": [],
   "source": []
  }
 ],
 "metadata": {
  "kernelspec": {
   "display_name": "ml",
   "language": "python",
   "name": "python3"
  },
  "language_info": {
   "codemirror_mode": {
    "name": "ipython",
    "version": 3
   },
   "file_extension": ".py",
   "mimetype": "text/x-python",
   "name": "python",
   "nbconvert_exporter": "python",
   "pygments_lexer": "ipython3",
   "version": "3.8.16"
  },
  "orig_nbformat": 4
 },
 "nbformat": 4,
 "nbformat_minor": 2
}
