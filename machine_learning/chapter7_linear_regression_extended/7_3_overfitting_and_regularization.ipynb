{
 "cells": [
  {
   "attachments": {},
   "cell_type": "markdown",
   "metadata": {},
   "source": [
    "## Overfitting\n",
    "\n",
    "- Train data가 과도하게 최적화 되어 새로운 데이터에 대한 예측이 떨어지는 것"
   ]
  },
  {
   "attachments": {},
   "cell_type": "markdown",
   "metadata": {},
   "source": [
    "## Bias - Variance tradeoff\n",
    "\n",
    "#### High bias\n",
    "- 원래 모델에 많이 떨어짐\n",
    "- 잘못된 데이터만 계속 학습함 -> 잘못된 Weight만 Update함\n",
    "\n",
    "#### High variance\n",
    "- 모든 데이터에 민감하게 학습함\n",
    "- Error를 고려하지 않음 -> 모든 Weight가 Update됨"
   ]
  },
  {
   "attachments": {},
   "cell_type": "markdown",
   "metadata": {},
   "source": [
    "## Overfitting 극복 방법\n",
    "\n",
    "- 더 많은 데이터를 활용한다\n",
    "- Feature의 개수를 줄인다\n",
    "- 적절한 Parameter를 선정한다\n",
    "- Regularization"
   ]
  },
  {
   "attachments": {},
   "cell_type": "markdown",
   "metadata": {},
   "source": [
    "## L2 regularization\n",
    "\n",
    "- 기존 Cost function L2(norm) penalty term을 추가\n",
    "- 여기서 norm은 벡터의 길이/크기를 측정하는 방법"
   ]
  },
  {
   "attachments": {},
   "cell_type": "markdown",
   "metadata": {},
   "source": [
    "$J(\\theta) = {1\\over2m}\\sum_{i=1}^{m}{(h_{\\theta}(x^{(i)})-y^{(i)})^2} + \\frac{\\lambda}{2}\\sum_{j=1}^{m}{{\\theta_j}^2}$"
   ]
  },
  {
   "attachments": {},
   "cell_type": "markdown",
   "metadata": {},
   "source": [
    "## L1 regularization\n",
    "\n",
    "- 기존 Cost function L1(norm) penalty term을 추가\n",
    "- 여기서 norm은 벡터의 길이/크기를 측정하는 방법"
   ]
  },
  {
   "attachments": {},
   "cell_type": "markdown",
   "metadata": {},
   "source": [
    "$J(\\theta) = {1\\over2m}\\sum_{i=1}^{m}{(h_{\\theta}(x^{(i)})-y^{(i)})^2} + \\frac{\\lambda}{2}\\sum_{j=1}^{m}{|\\theta_j|}$"
   ]
  },
  {
   "attachments": {},
   "cell_type": "markdown",
   "metadata": {},
   "source": [
    "### L1 vs L2\n",
    "| L1 | L2 |\n",
    "|---|---|\n",
    "| Unstable solution | Stable solution |,\n",
    "| One or More solution | Only one solution |\n",
    "| Sparse solution | Non-sparse solution |\n",
    "| Feature selection |  |\n",
    "\n",
    "- L2 가 L1보다 stable함. 수렴하기 쉽고, 미분하기도 쉬움.\n",
    "- L2는 항상 하나의 solution, L1은 두 개 이상이 나올 수 있음.\n",
    "- 보통 L2를 더 많이 사용함."
   ]
  },
  {
   "cell_type": "markdown",
   "metadata": {},
   "source": []
  }
 ],
 "metadata": {
  "language_info": {
   "name": "python"
  },
  "orig_nbformat": 4
 },
 "nbformat": 4,
 "nbformat_minor": 2
}
