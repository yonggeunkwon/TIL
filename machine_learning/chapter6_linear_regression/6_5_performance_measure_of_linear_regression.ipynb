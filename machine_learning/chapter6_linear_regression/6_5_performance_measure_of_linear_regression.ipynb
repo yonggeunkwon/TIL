{
 "cells": [
  {
   "attachments": {},
   "cell_type": "markdown",
   "metadata": {},
   "source": [
    "## 만들어진 모델의 성능은 어떻게 평가할 것인가?"
   ]
  },
  {
   "attachments": {},
   "cell_type": "markdown",
   "metadata": {},
   "source": [
    "- 평가할 수 있는 측정지표가 있어야 한다."
   ]
  },
  {
   "attachments": {},
   "cell_type": "markdown",
   "metadata": {},
   "source": [
    "### 대표적인 측정지표들"
   ]
  },
  {
   "attachments": {},
   "cell_type": "markdown",
   "metadata": {},
   "source": [
    "#### 1. Mean Absolute Error (MAE)\n",
    "- 잔차의 절댓값의 Sum\n",
    "- 작을수록 좋음"
   ]
  },
  {
   "attachments": {},
   "cell_type": "markdown",
   "metadata": {},
   "source": [
    "$MAE = \\frac{1}{n}\\sum_{i=1}^{m}{|y_i - \\hat{y_i}|} = \\frac{1}{n}\\sum_{i=1}^{m}{|e_i|}$"
   ]
  },
  {
   "cell_type": "code",
   "execution_count": 2,
   "metadata": {},
   "outputs": [
    {
     "data": {
      "text/plain": [
       "0.5"
      ]
     },
     "execution_count": 2,
     "metadata": {},
     "output_type": "execute_result"
    }
   ],
   "source": [
    "from sklearn.metrics import mean_absolute_error\n",
    "y_true = [3, -0.5, 2, 7]\n",
    "y_pred = [2.5, 0.0, 2, 8]\n",
    "mean_absolute_error(y_true, y_pred)"
   ]
  },
  {
   "attachments": {},
   "cell_type": "markdown",
   "metadata": {},
   "source": [
    "#### 2. Rooted Mean Squared Error (RMSE)\n",
    "- 잔차 제곱의 Sum의 제곱근\n",
    "- 작을수록 좋음"
   ]
  },
  {
   "attachments": {},
   "cell_type": "markdown",
   "metadata": {},
   "source": [
    "$RMSE = \\sqrt{\\frac{1}{n}\\sum_{i=1}^{m}{(y_i - \\hat{y_i})^2}}$"
   ]
  },
  {
   "cell_type": "code",
   "execution_count": 5,
   "metadata": {},
   "outputs": [
    {
     "data": {
      "text/plain": [
       "0.375"
      ]
     },
     "execution_count": 5,
     "metadata": {},
     "output_type": "execute_result"
    }
   ],
   "source": [
    "# 루트는 안 씌워진 상태. MSE만 구해줌.\n",
    "from sklearn.metrics import mean_squared_error\n",
    "y_true = [3, -0.5, 2, 7]\n",
    "y_pred = [2.5, 0.0, 2, 8]\n",
    "mean_squared_error(y_true, y_pred)"
   ]
  },
  {
   "attachments": {},
   "cell_type": "markdown",
   "metadata": {},
   "source": [
    "#### 3. R Squared\n",
    "\n",
    "- 0 과 1 사이 숫자로 크면 클수록 높은 적합도를 지님\n",
    "- 단위가 없음. 절대적인 지표임"
   ]
  },
  {
   "attachments": {},
   "cell_type": "markdown",
   "metadata": {},
   "source": [
    "$R^2 = 1 - \\frac{\\sum_{i}{(y_i-\\hat{y}_i)^2}}{\\sum_{i}{(y_i-\\mu)^2}}$"
   ]
  },
  {
   "cell_type": "code",
   "execution_count": 6,
   "metadata": {},
   "outputs": [
    {
     "data": {
      "text/plain": [
       "0.9486081370449679"
      ]
     },
     "execution_count": 6,
     "metadata": {},
     "output_type": "execute_result"
    }
   ],
   "source": [
    "from sklearn.metrics import r2_score\n",
    "y_true = [3, -0.5, 2, 7]\n",
    "y_pred = [2.5, 0.0, 2, 8]\n",
    "r2_score(y_true, y_pred)"
   ]
  },
  {
   "attachments": {},
   "cell_type": "markdown",
   "metadata": {},
   "source": [
    "### 모델을 만드는 데이터와 평가받는 데이터를 나눠야 함\n",
    "\n",
    "- Training한 데이터로 다시 Test를 할 경우, Training data에 Overfitting이 발생할 수 있음\n",
    "- 새로운 데이터가 출현했을 때, 기존 모델과의 차이가 발생함\n",
    "- 모델은 새로운 데이터를 처리할 수 있도록 일반화 능력이 좋아야 함\n",
    "- 이를 위해 Training Set과 Test Set을 분리함\n",
    "- Training Data로 모델을 만들고, Test Data로 측정을 함. (Test Data에서 잘 돌아가는 모델을 만드는 것이 목적)"
   ]
  },
  {
   "attachments": {},
   "cell_type": "markdown",
   "metadata": {},
   "source": [
    "## 데이터를 나누는 대표적인 방법 : Hold-out Method(Sampling)\n",
    "\n",
    "- 데이터를 Training과 Test로 나눠서 모델을 생성하고 테스트하는 기법\n",
    "- 가장 일반적인 모델 생성을 위한 데이터 랜덤 샘플링 기법\n",
    "- Training과 Test를 나누는 비율은 데이터의 크기에 따라 다름\n",
    "- 일반적으로 Training Data 2/3, Test Data 1/3을 활용함"
   ]
  },
  {
   "cell_type": "code",
   "execution_count": 9,
   "metadata": {},
   "outputs": [],
   "source": [
    "# Hold-out Method code\n",
    "import numpy as np\n",
    "from sklearn.model_selection import train_test_split\n",
    "\n",
    "X, y = np.arange(10).reshape((5, 2)), range(5)\n",
    "\n",
    "# random_state는 임의의 숫자를 넣어 섞어주는 것\n",
    "X_train, X_test, y_train, y_test = train_test_split(X, y, test_size=0.33, random_state=42)"
   ]
  },
  {
   "cell_type": "code",
   "execution_count": 10,
   "metadata": {},
   "outputs": [
    {
     "data": {
      "text/plain": [
       "(array([[4, 5],\n",
       "        [0, 1],\n",
       "        [6, 7]]),\n",
       " array([[2, 3],\n",
       "        [8, 9]]),\n",
       " [2, 0, 3],\n",
       " [1, 4])"
      ]
     },
     "execution_count": 10,
     "metadata": {},
     "output_type": "execute_result"
    }
   ],
   "source": [
    "X_train, X_test, y_train, y_test"
   ]
  },
  {
   "cell_type": "code",
   "execution_count": null,
   "metadata": {},
   "outputs": [],
   "source": []
  }
 ],
 "metadata": {
  "kernelspec": {
   "display_name": "ml",
   "language": "python",
   "name": "python3"
  },
  "language_info": {
   "codemirror_mode": {
    "name": "ipython",
    "version": 3
   },
   "file_extension": ".py",
   "mimetype": "text/x-python",
   "name": "python",
   "nbconvert_exporter": "python",
   "pygments_lexer": "ipython3",
   "version": "3.8.16"
  },
  "orig_nbformat": 4
 },
 "nbformat": 4,
 "nbformat_minor": 2
}
