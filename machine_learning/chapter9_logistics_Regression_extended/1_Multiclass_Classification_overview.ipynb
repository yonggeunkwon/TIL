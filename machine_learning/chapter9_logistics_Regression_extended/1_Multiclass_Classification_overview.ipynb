{
 "cells": [
  {
   "attachments": {},
   "cell_type": "markdown",
   "metadata": {},
   "source": [
    "## Multiclass Classification\n",
    "\n",
    "#### 3개 이상의 분류를 하는 방법"
   ]
  },
  {
   "attachments": {},
   "cell_type": "markdown",
   "metadata": {},
   "source": [
    "### Multiclass classification\n",
    "\n",
    "- 두 개 이상의 클래스를 가진 분류 작업\n",
    "- 오렌지, 사과 또는 배\n",
    "- 중복 선택 불가 -> [1,0,0] 가능하지만 [1,1,0]은 불가"
   ]
  },
  {
   "attachments": {},
   "cell_type": "markdown",
   "metadata": {},
   "source": [
    "### Multilabel classification\n",
    "\n",
    "- 상호 배타적이지 않은 속성을 예측\n",
    "- 중복 선택 가능한 분류 -> [1, 1, 0] 가능\n",
    "- 신문기사 분류: 야구선수 - 연예인 결혼 -> 스포츠/연예"
   ]
  },
  {
   "attachments": {},
   "cell_type": "markdown",
   "metadata": {},
   "source": [
    "### One-vs-All\n",
    "- m개의 클래스가 존재할 때, 클래스마다 classifier 생성"
   ]
  },
  {
   "attachments": {},
   "cell_type": "markdown",
   "metadata": {},
   "source": [
    "### One-vs-One\n",
    "- 2 쌍씩의 클래스마다 Classifier을 생성, 최종 선택시 Classifier 선택의 투표를 통해 결정\n",
    "- 총 m(m-1) / 2 개 만큼의 Classifier 생성\n",
    "- 정확도는 높지만 만들어야 하는 Classifier가 많아짐 -> 속도 하락"
   ]
  },
  {
   "cell_type": "markdown",
   "metadata": {},
   "source": []
  }
 ],
 "metadata": {
  "language_info": {
   "name": "python"
  },
  "orig_nbformat": 4
 },
 "nbformat": 4,
 "nbformat_minor": 2
}
