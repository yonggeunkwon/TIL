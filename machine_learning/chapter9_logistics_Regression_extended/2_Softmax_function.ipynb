{
 "cells": [
  {
   "attachments": {},
   "cell_type": "markdown",
   "metadata": {},
   "source": [
    "## Softmax Function"
   ]
  },
  {
   "attachments": {},
   "cell_type": "markdown",
   "metadata": {},
   "source": [
    "#### 다중 클래스 분류 문제에서, 기존의 sigmoid function을 쓰면 발생하는 문제점\n",
    "\n",
    "1. 모델의 복잡성과 계산 비용이 증가한다.\n",
    "- 여러개의 클래스들을 독립적으로 처리해야 함.\n",
    "2. 확률의 불일치\n",
    "- Sigmoid 함수는 개별적으로 이진 분류 문제를 처리하므로, 각 클래스에 대한 확률을 독립적으로 계산함. 예를 들어, A 클래스를 예측하는 분류기의 출력이 0.7, B 클래스를 예측하는 분류기의 출력이 0.6, C 클래스를 예측하는 분류기의 출력이 0.8일 경우, 이들을 합쳐서 확률로 해석할 수 없음.\n",
    "\n",
    "=> 따라서, Multiclass Classification에서는 보통 Sigmoid function을 사용함"
   ]
  },
  {
   "attachments": {},
   "cell_type": "markdown",
   "metadata": {},
   "source": [
    "### Softmax function for multiclass\n",
    "\n",
    "$$\\sigma(z)_j = P_j = \\frac{e^{z_j}}{\\sum_{k=1}^{K}{e^{z_k}}}$$ \n",
    "$$\\sum_{j=1}^{K}{\\sigma(z)_j} = \\displaystyle\\sum_{j=1}^{K}{P_j} = 1$$\n",
    "- ex) 개인지, 고양이인지, 사자인지 분류하는 문제에서, 각각의 확률이 [0.2, 0.3, 0.5] 라고 가정하면, 이 확률값들의 합은 1\n",
    "- 모든 class의 확률을 1로 Generalize 함"
   ]
  },
  {
   "attachments": {},
   "cell_type": "markdown",
   "metadata": {},
   "source": [
    "## Softmax Function의 학습\n",
    "\n",
    "- 각각의 클래스마다 $\\theta$ 값을 구해줘야 한다.\n",
    "- 확률을 최대화할 $\\theta$를 찾아야 한다."
   ]
  },
  {
   "cell_type": "markdown",
   "metadata": {},
   "source": []
  }
 ],
 "metadata": {
  "language_info": {
   "name": "python"
  },
  "orig_nbformat": 4
 },
 "nbformat": 4,
 "nbformat_minor": 2
}
