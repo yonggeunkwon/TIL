{
 "cells": [
  {
   "attachments": {},
   "cell_type": "markdown",
   "metadata": {},
   "source": [
    "## Time shifting\n",
    "\n",
    "- 시간의 차 (Time Lag) 분석 필요\n",
    "  - ex) 30일 전에 비해 주가는 상승세인가?\n",
    "\n",
    "- Pandas내 Time shifting 기능으로 time window를 기준으로 기간간 차이 분석"
   ]
  },
  {
   "attachments": {},
   "cell_type": "markdown",
   "metadata": {},
   "source": [
    "### data 불러오기"
   ]
  },
  {
   "cell_type": "code",
   "execution_count": 2,
   "metadata": {},
   "outputs": [],
   "source": [
    "import pandas as pd\n",
    "import os"
   ]
  },
  {
   "cell_type": "code",
   "execution_count": 3,
   "metadata": {},
   "outputs": [],
   "source": [
    "DATA_DIR = '../datas/'\n",
    "TRAIN_PATH = os.path.join(DATA_DIR, 'train.csv')"
   ]
  },
  {
   "cell_type": "code",
   "execution_count": 16,
   "metadata": {},
   "outputs": [
    {
     "data": {
      "text/html": [
       "<div>\n",
       "<style scoped>\n",
       "    .dataframe tbody tr th:only-of-type {\n",
       "        vertical-align: middle;\n",
       "    }\n",
       "\n",
       "    .dataframe tbody tr th {\n",
       "        vertical-align: top;\n",
       "    }\n",
       "\n",
       "    .dataframe thead th {\n",
       "        text-align: right;\n",
       "    }\n",
       "</style>\n",
       "<table border=\"1\" class=\"dataframe\">\n",
       "  <thead>\n",
       "    <tr style=\"text-align: right;\">\n",
       "      <th></th>\n",
       "      <th>datetime</th>\n",
       "      <th>season</th>\n",
       "      <th>holiday</th>\n",
       "      <th>workingday</th>\n",
       "      <th>weather</th>\n",
       "      <th>temp</th>\n",
       "      <th>atemp</th>\n",
       "      <th>humidity</th>\n",
       "      <th>windspeed</th>\n",
       "      <th>casual</th>\n",
       "      <th>registered</th>\n",
       "      <th>count</th>\n",
       "    </tr>\n",
       "  </thead>\n",
       "  <tbody>\n",
       "    <tr>\n",
       "      <th>0</th>\n",
       "      <td>2011-01-01 00:00:00</td>\n",
       "      <td>1</td>\n",
       "      <td>0</td>\n",
       "      <td>0</td>\n",
       "      <td>1</td>\n",
       "      <td>9.84</td>\n",
       "      <td>14.395</td>\n",
       "      <td>81</td>\n",
       "      <td>0.0</td>\n",
       "      <td>3</td>\n",
       "      <td>13</td>\n",
       "      <td>16</td>\n",
       "    </tr>\n",
       "    <tr>\n",
       "      <th>1</th>\n",
       "      <td>2011-01-01 01:00:00</td>\n",
       "      <td>1</td>\n",
       "      <td>0</td>\n",
       "      <td>0</td>\n",
       "      <td>1</td>\n",
       "      <td>9.02</td>\n",
       "      <td>13.635</td>\n",
       "      <td>80</td>\n",
       "      <td>0.0</td>\n",
       "      <td>8</td>\n",
       "      <td>32</td>\n",
       "      <td>40</td>\n",
       "    </tr>\n",
       "    <tr>\n",
       "      <th>2</th>\n",
       "      <td>2011-01-01 02:00:00</td>\n",
       "      <td>1</td>\n",
       "      <td>0</td>\n",
       "      <td>0</td>\n",
       "      <td>1</td>\n",
       "      <td>9.02</td>\n",
       "      <td>13.635</td>\n",
       "      <td>80</td>\n",
       "      <td>0.0</td>\n",
       "      <td>5</td>\n",
       "      <td>27</td>\n",
       "      <td>32</td>\n",
       "    </tr>\n",
       "    <tr>\n",
       "      <th>3</th>\n",
       "      <td>2011-01-01 03:00:00</td>\n",
       "      <td>1</td>\n",
       "      <td>0</td>\n",
       "      <td>0</td>\n",
       "      <td>1</td>\n",
       "      <td>9.84</td>\n",
       "      <td>14.395</td>\n",
       "      <td>75</td>\n",
       "      <td>0.0</td>\n",
       "      <td>3</td>\n",
       "      <td>10</td>\n",
       "      <td>13</td>\n",
       "    </tr>\n",
       "    <tr>\n",
       "      <th>4</th>\n",
       "      <td>2011-01-01 04:00:00</td>\n",
       "      <td>1</td>\n",
       "      <td>0</td>\n",
       "      <td>0</td>\n",
       "      <td>1</td>\n",
       "      <td>9.84</td>\n",
       "      <td>14.395</td>\n",
       "      <td>75</td>\n",
       "      <td>0.0</td>\n",
       "      <td>0</td>\n",
       "      <td>1</td>\n",
       "      <td>1</td>\n",
       "    </tr>\n",
       "  </tbody>\n",
       "</table>\n",
       "</div>"
      ],
      "text/plain": [
       "              datetime  season  holiday  workingday  weather  temp   atemp  \\\n",
       "0  2011-01-01 00:00:00       1        0           0        1  9.84  14.395   \n",
       "1  2011-01-01 01:00:00       1        0           0        1  9.02  13.635   \n",
       "2  2011-01-01 02:00:00       1        0           0        1  9.02  13.635   \n",
       "3  2011-01-01 03:00:00       1        0           0        1  9.84  14.395   \n",
       "4  2011-01-01 04:00:00       1        0           0        1  9.84  14.395   \n",
       "\n",
       "   humidity  windspeed  casual  registered  count  \n",
       "0        81        0.0       3          13     16  \n",
       "1        80        0.0       8          32     40  \n",
       "2        80        0.0       5          27     32  \n",
       "3        75        0.0       3          10     13  \n",
       "4        75        0.0       0           1      1  "
      ]
     },
     "execution_count": 16,
     "metadata": {},
     "output_type": "execute_result"
    }
   ],
   "source": [
    "df = pd.read_csv(TRAIN_PATH)\n",
    "df.head()"
   ]
  },
  {
   "cell_type": "code",
   "execution_count": 17,
   "metadata": {},
   "outputs": [
    {
     "data": {
      "text/plain": [
       "datetime      datetime64[ns]\n",
       "season                 int64\n",
       "holiday                int64\n",
       "workingday             int64\n",
       "weather                int64\n",
       "temp                 float64\n",
       "atemp                float64\n",
       "humidity               int64\n",
       "windspeed            float64\n",
       "casual                 int64\n",
       "registered             int64\n",
       "count                  int64\n",
       "dtype: object"
      ]
     },
     "execution_count": 17,
     "metadata": {},
     "output_type": "execute_result"
    }
   ],
   "source": [
    "df['datetime'] = pd.to_datetime(df['datetime'])\n",
    "df.dtypes"
   ]
  },
  {
   "cell_type": "code",
   "execution_count": 20,
   "metadata": {},
   "outputs": [
    {
     "data": {
      "text/html": [
       "<div>\n",
       "<style scoped>\n",
       "    .dataframe tbody tr th:only-of-type {\n",
       "        vertical-align: middle;\n",
       "    }\n",
       "\n",
       "    .dataframe tbody tr th {\n",
       "        vertical-align: top;\n",
       "    }\n",
       "\n",
       "    .dataframe thead th {\n",
       "        text-align: right;\n",
       "    }\n",
       "</style>\n",
       "<table border=\"1\" class=\"dataframe\">\n",
       "  <thead>\n",
       "    <tr style=\"text-align: right;\">\n",
       "      <th></th>\n",
       "      <th>season</th>\n",
       "      <th>holiday</th>\n",
       "      <th>workingday</th>\n",
       "      <th>weather</th>\n",
       "      <th>temp</th>\n",
       "      <th>atemp</th>\n",
       "      <th>humidity</th>\n",
       "      <th>windspeed</th>\n",
       "      <th>casual</th>\n",
       "      <th>registered</th>\n",
       "      <th>count</th>\n",
       "    </tr>\n",
       "    <tr>\n",
       "      <th>datetime</th>\n",
       "      <th></th>\n",
       "      <th></th>\n",
       "      <th></th>\n",
       "      <th></th>\n",
       "      <th></th>\n",
       "      <th></th>\n",
       "      <th></th>\n",
       "      <th></th>\n",
       "      <th></th>\n",
       "      <th></th>\n",
       "      <th></th>\n",
       "    </tr>\n",
       "  </thead>\n",
       "  <tbody>\n",
       "    <tr>\n",
       "      <th>2011-01-01 00:00:00</th>\n",
       "      <td>1</td>\n",
       "      <td>0</td>\n",
       "      <td>0</td>\n",
       "      <td>1</td>\n",
       "      <td>9.84</td>\n",
       "      <td>14.395</td>\n",
       "      <td>81</td>\n",
       "      <td>0.0</td>\n",
       "      <td>3</td>\n",
       "      <td>13</td>\n",
       "      <td>16</td>\n",
       "    </tr>\n",
       "    <tr>\n",
       "      <th>2011-01-01 01:00:00</th>\n",
       "      <td>1</td>\n",
       "      <td>0</td>\n",
       "      <td>0</td>\n",
       "      <td>1</td>\n",
       "      <td>9.02</td>\n",
       "      <td>13.635</td>\n",
       "      <td>80</td>\n",
       "      <td>0.0</td>\n",
       "      <td>8</td>\n",
       "      <td>32</td>\n",
       "      <td>40</td>\n",
       "    </tr>\n",
       "    <tr>\n",
       "      <th>2011-01-01 02:00:00</th>\n",
       "      <td>1</td>\n",
       "      <td>0</td>\n",
       "      <td>0</td>\n",
       "      <td>1</td>\n",
       "      <td>9.02</td>\n",
       "      <td>13.635</td>\n",
       "      <td>80</td>\n",
       "      <td>0.0</td>\n",
       "      <td>5</td>\n",
       "      <td>27</td>\n",
       "      <td>32</td>\n",
       "    </tr>\n",
       "    <tr>\n",
       "      <th>2011-01-01 03:00:00</th>\n",
       "      <td>1</td>\n",
       "      <td>0</td>\n",
       "      <td>0</td>\n",
       "      <td>1</td>\n",
       "      <td>9.84</td>\n",
       "      <td>14.395</td>\n",
       "      <td>75</td>\n",
       "      <td>0.0</td>\n",
       "      <td>3</td>\n",
       "      <td>10</td>\n",
       "      <td>13</td>\n",
       "    </tr>\n",
       "    <tr>\n",
       "      <th>2011-01-01 04:00:00</th>\n",
       "      <td>1</td>\n",
       "      <td>0</td>\n",
       "      <td>0</td>\n",
       "      <td>1</td>\n",
       "      <td>9.84</td>\n",
       "      <td>14.395</td>\n",
       "      <td>75</td>\n",
       "      <td>0.0</td>\n",
       "      <td>0</td>\n",
       "      <td>1</td>\n",
       "      <td>1</td>\n",
       "    </tr>\n",
       "  </tbody>\n",
       "</table>\n",
       "</div>"
      ],
      "text/plain": [
       "                     season  holiday  workingday  weather  temp   atemp  \\\n",
       "datetime                                                                  \n",
       "2011-01-01 00:00:00       1        0           0        1  9.84  14.395   \n",
       "2011-01-01 01:00:00       1        0           0        1  9.02  13.635   \n",
       "2011-01-01 02:00:00       1        0           0        1  9.02  13.635   \n",
       "2011-01-01 03:00:00       1        0           0        1  9.84  14.395   \n",
       "2011-01-01 04:00:00       1        0           0        1  9.84  14.395   \n",
       "\n",
       "                     humidity  windspeed  casual  registered  count  \n",
       "datetime                                                             \n",
       "2011-01-01 00:00:00        81        0.0       3          13     16  \n",
       "2011-01-01 01:00:00        80        0.0       8          32     40  \n",
       "2011-01-01 02:00:00        80        0.0       5          27     32  \n",
       "2011-01-01 03:00:00        75        0.0       3          10     13  \n",
       "2011-01-01 04:00:00        75        0.0       0           1      1  "
      ]
     },
     "execution_count": 20,
     "metadata": {},
     "output_type": "execute_result"
    }
   ],
   "source": [
    "df = df.set_index('datetime')\n",
    "df.head()"
   ]
  },
  {
   "cell_type": "code",
   "execution_count": 25,
   "metadata": {},
   "outputs": [],
   "source": [
    "df['month'] = df.index.month\n",
    "df['year'] = df.index.year\n",
    "df['dayofweek'] = df.index.dayofweek"
   ]
  },
  {
   "cell_type": "code",
   "execution_count": 31,
   "metadata": {},
   "outputs": [
    {
     "data": {
      "text/html": [
       "<div>\n",
       "<style scoped>\n",
       "    .dataframe tbody tr th:only-of-type {\n",
       "        vertical-align: middle;\n",
       "    }\n",
       "\n",
       "    .dataframe tbody tr th {\n",
       "        vertical-align: top;\n",
       "    }\n",
       "\n",
       "    .dataframe thead th {\n",
       "        text-align: right;\n",
       "    }\n",
       "</style>\n",
       "<table border=\"1\" class=\"dataframe\">\n",
       "  <thead>\n",
       "    <tr style=\"text-align: right;\">\n",
       "      <th></th>\n",
       "      <th>season</th>\n",
       "      <th>holiday</th>\n",
       "      <th>workingday</th>\n",
       "      <th>weather</th>\n",
       "      <th>temp</th>\n",
       "      <th>atemp</th>\n",
       "      <th>humidity</th>\n",
       "      <th>windspeed</th>\n",
       "      <th>casual</th>\n",
       "      <th>registered</th>\n",
       "      <th>count</th>\n",
       "      <th>month</th>\n",
       "      <th>year</th>\n",
       "      <th>dayofweek</th>\n",
       "    </tr>\n",
       "    <tr>\n",
       "      <th>datetime</th>\n",
       "      <th></th>\n",
       "      <th></th>\n",
       "      <th></th>\n",
       "      <th></th>\n",
       "      <th></th>\n",
       "      <th></th>\n",
       "      <th></th>\n",
       "      <th></th>\n",
       "      <th></th>\n",
       "      <th></th>\n",
       "      <th></th>\n",
       "      <th></th>\n",
       "      <th></th>\n",
       "      <th></th>\n",
       "    </tr>\n",
       "  </thead>\n",
       "  <tbody>\n",
       "    <tr>\n",
       "      <th>2011-01-01 00:00:00</th>\n",
       "      <td>1</td>\n",
       "      <td>0</td>\n",
       "      <td>0</td>\n",
       "      <td>1</td>\n",
       "      <td>9.84</td>\n",
       "      <td>14.395</td>\n",
       "      <td>81</td>\n",
       "      <td>0.0</td>\n",
       "      <td>3</td>\n",
       "      <td>13</td>\n",
       "      <td>16</td>\n",
       "      <td>1</td>\n",
       "      <td>2011</td>\n",
       "      <td>5</td>\n",
       "    </tr>\n",
       "    <tr>\n",
       "      <th>2011-01-01 01:00:00</th>\n",
       "      <td>1</td>\n",
       "      <td>0</td>\n",
       "      <td>0</td>\n",
       "      <td>1</td>\n",
       "      <td>9.02</td>\n",
       "      <td>13.635</td>\n",
       "      <td>80</td>\n",
       "      <td>0.0</td>\n",
       "      <td>8</td>\n",
       "      <td>32</td>\n",
       "      <td>40</td>\n",
       "      <td>1</td>\n",
       "      <td>2011</td>\n",
       "      <td>5</td>\n",
       "    </tr>\n",
       "    <tr>\n",
       "      <th>2011-01-01 02:00:00</th>\n",
       "      <td>1</td>\n",
       "      <td>0</td>\n",
       "      <td>0</td>\n",
       "      <td>1</td>\n",
       "      <td>9.02</td>\n",
       "      <td>13.635</td>\n",
       "      <td>80</td>\n",
       "      <td>0.0</td>\n",
       "      <td>5</td>\n",
       "      <td>27</td>\n",
       "      <td>32</td>\n",
       "      <td>1</td>\n",
       "      <td>2011</td>\n",
       "      <td>5</td>\n",
       "    </tr>\n",
       "    <tr>\n",
       "      <th>2011-01-01 03:00:00</th>\n",
       "      <td>1</td>\n",
       "      <td>0</td>\n",
       "      <td>0</td>\n",
       "      <td>1</td>\n",
       "      <td>9.84</td>\n",
       "      <td>14.395</td>\n",
       "      <td>75</td>\n",
       "      <td>0.0</td>\n",
       "      <td>3</td>\n",
       "      <td>10</td>\n",
       "      <td>13</td>\n",
       "      <td>1</td>\n",
       "      <td>2011</td>\n",
       "      <td>5</td>\n",
       "    </tr>\n",
       "    <tr>\n",
       "      <th>2011-01-01 04:00:00</th>\n",
       "      <td>1</td>\n",
       "      <td>0</td>\n",
       "      <td>0</td>\n",
       "      <td>1</td>\n",
       "      <td>9.84</td>\n",
       "      <td>14.395</td>\n",
       "      <td>75</td>\n",
       "      <td>0.0</td>\n",
       "      <td>0</td>\n",
       "      <td>1</td>\n",
       "      <td>1</td>\n",
       "      <td>1</td>\n",
       "      <td>2011</td>\n",
       "      <td>5</td>\n",
       "    </tr>\n",
       "  </tbody>\n",
       "</table>\n",
       "</div>"
      ],
      "text/plain": [
       "                     season  holiday  workingday  weather  temp   atemp  \\\n",
       "datetime                                                                  \n",
       "2011-01-01 00:00:00       1        0           0        1  9.84  14.395   \n",
       "2011-01-01 01:00:00       1        0           0        1  9.02  13.635   \n",
       "2011-01-01 02:00:00       1        0           0        1  9.02  13.635   \n",
       "2011-01-01 03:00:00       1        0           0        1  9.84  14.395   \n",
       "2011-01-01 04:00:00       1        0           0        1  9.84  14.395   \n",
       "\n",
       "                     humidity  windspeed  casual  registered  count  month  \\\n",
       "datetime                                                                     \n",
       "2011-01-01 00:00:00        81        0.0       3          13     16      1   \n",
       "2011-01-01 01:00:00        80        0.0       8          32     40      1   \n",
       "2011-01-01 02:00:00        80        0.0       5          27     32      1   \n",
       "2011-01-01 03:00:00        75        0.0       3          10     13      1   \n",
       "2011-01-01 04:00:00        75        0.0       0           1      1      1   \n",
       "\n",
       "                     year  dayofweek  \n",
       "datetime                              \n",
       "2011-01-01 00:00:00  2011          5  \n",
       "2011-01-01 01:00:00  2011          5  \n",
       "2011-01-01 02:00:00  2011          5  \n",
       "2011-01-01 03:00:00  2011          5  \n",
       "2011-01-01 04:00:00  2011          5  "
      ]
     },
     "execution_count": 31,
     "metadata": {},
     "output_type": "execute_result"
    }
   ],
   "source": [
    "df.head()"
   ]
  },
  {
   "cell_type": "code",
   "execution_count": 33,
   "metadata": {},
   "outputs": [],
   "source": [
    "period = pd.date_range(start='2011-01-01', end='2012-01-30', freq='M')"
   ]
  },
  {
   "cell_type": "code",
   "execution_count": 35,
   "metadata": {},
   "outputs": [
    {
     "data": {
      "text/plain": [
       "2011-01-31    23552\n",
       "2011-02-28    32844\n",
       "2011-03-31    38735\n",
       "2011-04-30    50517\n",
       "2011-05-31    79713\n",
       "2011-06-30    89776\n",
       "2011-07-31    92848\n",
       "2011-08-31    83296\n",
       "2011-09-30    79104\n",
       "2011-10-31    79522\n",
       "2011-11-30    70889\n",
       "2011-12-31    61183\n",
       "Freq: M, Name: count, dtype: int64"
      ]
     },
     "execution_count": 35,
     "metadata": {},
     "output_type": "execute_result"
    }
   ],
   "source": [
    "df['count'].resample('M').sum()[period]"
   ]
  },
  {
   "cell_type": "code",
   "execution_count": 36,
   "metadata": {},
   "outputs": [
    {
     "data": {
      "text/plain": [
       "2011-01-31     54.645012\n",
       "2011-02-28     73.641256\n",
       "2011-03-31     86.849776\n",
       "2011-04-30    111.026374\n",
       "2011-05-31    174.809211\n",
       "2011-06-30    196.877193\n",
       "2011-07-31    203.614035\n",
       "2011-08-31    182.666667\n",
       "2011-09-30    174.622517\n",
       "2011-10-31    174.773626\n",
       "2011-11-30    155.458333\n",
       "2011-12-31    134.173246\n",
       "Freq: M, Name: count, dtype: float64"
      ]
     },
     "execution_count": 36,
     "metadata": {},
     "output_type": "execute_result"
    }
   ],
   "source": [
    "df['count'].resample('M').mean()[period]"
   ]
  },
  {
   "attachments": {},
   "cell_type": "markdown",
   "metadata": {},
   "source": [
    "## Time shift"
   ]
  },
  {
   "cell_type": "code",
   "execution_count": 38,
   "metadata": {},
   "outputs": [
    {
     "data": {
      "text/plain": [
       "datetime\n",
       "2011-01-31     54.645012\n",
       "2011-02-28     73.641256\n",
       "2011-03-31     86.849776\n",
       "2011-04-30    111.026374\n",
       "2011-05-31    174.809211\n",
       "2011-06-30    196.877193\n",
       "2011-07-31    203.614035\n",
       "2011-08-31    182.666667\n",
       "2011-09-30    174.622517\n",
       "2011-10-31    174.773626\n",
       "2011-11-30    155.458333\n",
       "2011-12-31    134.173246\n",
       "2012-01-31    124.353201\n",
       "2012-02-29    145.646154\n",
       "2012-03-31    208.276923\n",
       "2012-04-30    257.455947\n",
       "2012-05-31    264.109649\n",
       "2012-06-30    287.186404\n",
       "2012-07-31    267.037281\n",
       "2012-08-31    285.570175\n",
       "2012-09-30    292.598684\n",
       "2012-10-31    280.508772\n",
       "2012-11-30    231.980220\n",
       "2012-12-31    217.054825\n",
       "Freq: M, Name: count, dtype: float64"
      ]
     },
     "execution_count": 38,
     "metadata": {},
     "output_type": "execute_result"
    }
   ],
   "source": [
    "# 월별 자전거 대여량 평균\n",
    "monthly_avg = df['count'].resample('M').mean()\n",
    "monthly_avg"
   ]
  },
  {
   "cell_type": "code",
   "execution_count": 40,
   "metadata": {},
   "outputs": [
    {
     "data": {
      "text/plain": [
       "datetime\n",
       "2011-01-31      0.000000\n",
       "2011-02-28      0.000000\n",
       "2011-03-31     54.645012\n",
       "2011-04-30     73.641256\n",
       "2011-05-31     86.849776\n",
       "2011-06-30    111.026374\n",
       "2011-07-31    174.809211\n",
       "2011-08-31    196.877193\n",
       "2011-09-30    203.614035\n",
       "2011-10-31    182.666667\n",
       "2011-11-30    174.622517\n",
       "2011-12-31    174.773626\n",
       "2012-01-31    155.458333\n",
       "2012-02-29    134.173246\n",
       "2012-03-31    124.353201\n",
       "2012-04-30    145.646154\n",
       "2012-05-31    208.276923\n",
       "2012-06-30    257.455947\n",
       "2012-07-31    264.109649\n",
       "2012-08-31    287.186404\n",
       "2012-09-30    267.037281\n",
       "2012-10-31    285.570175\n",
       "2012-11-30    292.598684\n",
       "2012-12-31    280.508772\n",
       "Freq: M, Name: count, dtype: float64"
      ]
     },
     "execution_count": 40,
     "metadata": {},
     "output_type": "execute_result"
    }
   ],
   "source": [
    "# 두달씩 밀려남\n",
    "monthly_avg.shift(periods=2, fill_value=0)"
   ]
  },
  {
   "attachments": {},
   "cell_type": "markdown",
   "metadata": {},
   "source": [
    "#### time shifting을 이용한 일반적인 분석 방법\n",
    "- for loop을 사용해서 list에 append\n",
    "- list를 concat"
   ]
  },
  {
   "cell_type": "code",
   "execution_count": 47,
   "metadata": {},
   "outputs": [],
   "source": [
    "result = []\n",
    "result.append(monthly_avg)\n",
    "for period in range(1, 6):\n",
    "    temp_avg = monthly_avg.shift(periods=period, fill_value=0)\n",
    "    temp_avg = temp_avg.rename(\"{}_monthly_shift\".format(period))\n",
    "    result.append(temp_avg)"
   ]
  },
  {
   "cell_type": "code",
   "execution_count": 48,
   "metadata": {},
   "outputs": [
    {
     "data": {
      "text/html": [
       "<div>\n",
       "<style scoped>\n",
       "    .dataframe tbody tr th:only-of-type {\n",
       "        vertical-align: middle;\n",
       "    }\n",
       "\n",
       "    .dataframe tbody tr th {\n",
       "        vertical-align: top;\n",
       "    }\n",
       "\n",
       "    .dataframe thead th {\n",
       "        text-align: right;\n",
       "    }\n",
       "</style>\n",
       "<table border=\"1\" class=\"dataframe\">\n",
       "  <thead>\n",
       "    <tr style=\"text-align: right;\">\n",
       "      <th></th>\n",
       "      <th>count</th>\n",
       "      <th>1_monthly_shift</th>\n",
       "      <th>2_monthly_shift</th>\n",
       "      <th>3_monthly_shift</th>\n",
       "      <th>4_monthly_shift</th>\n",
       "      <th>5_monthly_shift</th>\n",
       "    </tr>\n",
       "    <tr>\n",
       "      <th>datetime</th>\n",
       "      <th></th>\n",
       "      <th></th>\n",
       "      <th></th>\n",
       "      <th></th>\n",
       "      <th></th>\n",
       "      <th></th>\n",
       "    </tr>\n",
       "  </thead>\n",
       "  <tbody>\n",
       "    <tr>\n",
       "      <th>2011-01-31</th>\n",
       "      <td>54.645012</td>\n",
       "      <td>0.000000</td>\n",
       "      <td>0.000000</td>\n",
       "      <td>0.000000</td>\n",
       "      <td>0.000000</td>\n",
       "      <td>0.000000</td>\n",
       "    </tr>\n",
       "    <tr>\n",
       "      <th>2011-02-28</th>\n",
       "      <td>73.641256</td>\n",
       "      <td>54.645012</td>\n",
       "      <td>0.000000</td>\n",
       "      <td>0.000000</td>\n",
       "      <td>0.000000</td>\n",
       "      <td>0.000000</td>\n",
       "    </tr>\n",
       "    <tr>\n",
       "      <th>2011-03-31</th>\n",
       "      <td>86.849776</td>\n",
       "      <td>73.641256</td>\n",
       "      <td>54.645012</td>\n",
       "      <td>0.000000</td>\n",
       "      <td>0.000000</td>\n",
       "      <td>0.000000</td>\n",
       "    </tr>\n",
       "    <tr>\n",
       "      <th>2011-04-30</th>\n",
       "      <td>111.026374</td>\n",
       "      <td>86.849776</td>\n",
       "      <td>73.641256</td>\n",
       "      <td>54.645012</td>\n",
       "      <td>0.000000</td>\n",
       "      <td>0.000000</td>\n",
       "    </tr>\n",
       "    <tr>\n",
       "      <th>2011-05-31</th>\n",
       "      <td>174.809211</td>\n",
       "      <td>111.026374</td>\n",
       "      <td>86.849776</td>\n",
       "      <td>73.641256</td>\n",
       "      <td>54.645012</td>\n",
       "      <td>0.000000</td>\n",
       "    </tr>\n",
       "    <tr>\n",
       "      <th>2011-06-30</th>\n",
       "      <td>196.877193</td>\n",
       "      <td>174.809211</td>\n",
       "      <td>111.026374</td>\n",
       "      <td>86.849776</td>\n",
       "      <td>73.641256</td>\n",
       "      <td>54.645012</td>\n",
       "    </tr>\n",
       "    <tr>\n",
       "      <th>2011-07-31</th>\n",
       "      <td>203.614035</td>\n",
       "      <td>196.877193</td>\n",
       "      <td>174.809211</td>\n",
       "      <td>111.026374</td>\n",
       "      <td>86.849776</td>\n",
       "      <td>73.641256</td>\n",
       "    </tr>\n",
       "    <tr>\n",
       "      <th>2011-08-31</th>\n",
       "      <td>182.666667</td>\n",
       "      <td>203.614035</td>\n",
       "      <td>196.877193</td>\n",
       "      <td>174.809211</td>\n",
       "      <td>111.026374</td>\n",
       "      <td>86.849776</td>\n",
       "    </tr>\n",
       "    <tr>\n",
       "      <th>2011-09-30</th>\n",
       "      <td>174.622517</td>\n",
       "      <td>182.666667</td>\n",
       "      <td>203.614035</td>\n",
       "      <td>196.877193</td>\n",
       "      <td>174.809211</td>\n",
       "      <td>111.026374</td>\n",
       "    </tr>\n",
       "    <tr>\n",
       "      <th>2011-10-31</th>\n",
       "      <td>174.773626</td>\n",
       "      <td>174.622517</td>\n",
       "      <td>182.666667</td>\n",
       "      <td>203.614035</td>\n",
       "      <td>196.877193</td>\n",
       "      <td>174.809211</td>\n",
       "    </tr>\n",
       "    <tr>\n",
       "      <th>2011-11-30</th>\n",
       "      <td>155.458333</td>\n",
       "      <td>174.773626</td>\n",
       "      <td>174.622517</td>\n",
       "      <td>182.666667</td>\n",
       "      <td>203.614035</td>\n",
       "      <td>196.877193</td>\n",
       "    </tr>\n",
       "    <tr>\n",
       "      <th>2011-12-31</th>\n",
       "      <td>134.173246</td>\n",
       "      <td>155.458333</td>\n",
       "      <td>174.773626</td>\n",
       "      <td>174.622517</td>\n",
       "      <td>182.666667</td>\n",
       "      <td>203.614035</td>\n",
       "    </tr>\n",
       "    <tr>\n",
       "      <th>2012-01-31</th>\n",
       "      <td>124.353201</td>\n",
       "      <td>134.173246</td>\n",
       "      <td>155.458333</td>\n",
       "      <td>174.773626</td>\n",
       "      <td>174.622517</td>\n",
       "      <td>182.666667</td>\n",
       "    </tr>\n",
       "    <tr>\n",
       "      <th>2012-02-29</th>\n",
       "      <td>145.646154</td>\n",
       "      <td>124.353201</td>\n",
       "      <td>134.173246</td>\n",
       "      <td>155.458333</td>\n",
       "      <td>174.773626</td>\n",
       "      <td>174.622517</td>\n",
       "    </tr>\n",
       "    <tr>\n",
       "      <th>2012-03-31</th>\n",
       "      <td>208.276923</td>\n",
       "      <td>145.646154</td>\n",
       "      <td>124.353201</td>\n",
       "      <td>134.173246</td>\n",
       "      <td>155.458333</td>\n",
       "      <td>174.773626</td>\n",
       "    </tr>\n",
       "    <tr>\n",
       "      <th>2012-04-30</th>\n",
       "      <td>257.455947</td>\n",
       "      <td>208.276923</td>\n",
       "      <td>145.646154</td>\n",
       "      <td>124.353201</td>\n",
       "      <td>134.173246</td>\n",
       "      <td>155.458333</td>\n",
       "    </tr>\n",
       "    <tr>\n",
       "      <th>2012-05-31</th>\n",
       "      <td>264.109649</td>\n",
       "      <td>257.455947</td>\n",
       "      <td>208.276923</td>\n",
       "      <td>145.646154</td>\n",
       "      <td>124.353201</td>\n",
       "      <td>134.173246</td>\n",
       "    </tr>\n",
       "    <tr>\n",
       "      <th>2012-06-30</th>\n",
       "      <td>287.186404</td>\n",
       "      <td>264.109649</td>\n",
       "      <td>257.455947</td>\n",
       "      <td>208.276923</td>\n",
       "      <td>145.646154</td>\n",
       "      <td>124.353201</td>\n",
       "    </tr>\n",
       "    <tr>\n",
       "      <th>2012-07-31</th>\n",
       "      <td>267.037281</td>\n",
       "      <td>287.186404</td>\n",
       "      <td>264.109649</td>\n",
       "      <td>257.455947</td>\n",
       "      <td>208.276923</td>\n",
       "      <td>145.646154</td>\n",
       "    </tr>\n",
       "    <tr>\n",
       "      <th>2012-08-31</th>\n",
       "      <td>285.570175</td>\n",
       "      <td>267.037281</td>\n",
       "      <td>287.186404</td>\n",
       "      <td>264.109649</td>\n",
       "      <td>257.455947</td>\n",
       "      <td>208.276923</td>\n",
       "    </tr>\n",
       "    <tr>\n",
       "      <th>2012-09-30</th>\n",
       "      <td>292.598684</td>\n",
       "      <td>285.570175</td>\n",
       "      <td>267.037281</td>\n",
       "      <td>287.186404</td>\n",
       "      <td>264.109649</td>\n",
       "      <td>257.455947</td>\n",
       "    </tr>\n",
       "    <tr>\n",
       "      <th>2012-10-31</th>\n",
       "      <td>280.508772</td>\n",
       "      <td>292.598684</td>\n",
       "      <td>285.570175</td>\n",
       "      <td>267.037281</td>\n",
       "      <td>287.186404</td>\n",
       "      <td>264.109649</td>\n",
       "    </tr>\n",
       "    <tr>\n",
       "      <th>2012-11-30</th>\n",
       "      <td>231.980220</td>\n",
       "      <td>280.508772</td>\n",
       "      <td>292.598684</td>\n",
       "      <td>285.570175</td>\n",
       "      <td>267.037281</td>\n",
       "      <td>287.186404</td>\n",
       "    </tr>\n",
       "    <tr>\n",
       "      <th>2012-12-31</th>\n",
       "      <td>217.054825</td>\n",
       "      <td>231.980220</td>\n",
       "      <td>280.508772</td>\n",
       "      <td>292.598684</td>\n",
       "      <td>285.570175</td>\n",
       "      <td>267.037281</td>\n",
       "    </tr>\n",
       "  </tbody>\n",
       "</table>\n",
       "</div>"
      ],
      "text/plain": [
       "                 count  1_monthly_shift  2_monthly_shift  3_monthly_shift  \\\n",
       "datetime                                                                    \n",
       "2011-01-31   54.645012         0.000000         0.000000         0.000000   \n",
       "2011-02-28   73.641256        54.645012         0.000000         0.000000   \n",
       "2011-03-31   86.849776        73.641256        54.645012         0.000000   \n",
       "2011-04-30  111.026374        86.849776        73.641256        54.645012   \n",
       "2011-05-31  174.809211       111.026374        86.849776        73.641256   \n",
       "2011-06-30  196.877193       174.809211       111.026374        86.849776   \n",
       "2011-07-31  203.614035       196.877193       174.809211       111.026374   \n",
       "2011-08-31  182.666667       203.614035       196.877193       174.809211   \n",
       "2011-09-30  174.622517       182.666667       203.614035       196.877193   \n",
       "2011-10-31  174.773626       174.622517       182.666667       203.614035   \n",
       "2011-11-30  155.458333       174.773626       174.622517       182.666667   \n",
       "2011-12-31  134.173246       155.458333       174.773626       174.622517   \n",
       "2012-01-31  124.353201       134.173246       155.458333       174.773626   \n",
       "2012-02-29  145.646154       124.353201       134.173246       155.458333   \n",
       "2012-03-31  208.276923       145.646154       124.353201       134.173246   \n",
       "2012-04-30  257.455947       208.276923       145.646154       124.353201   \n",
       "2012-05-31  264.109649       257.455947       208.276923       145.646154   \n",
       "2012-06-30  287.186404       264.109649       257.455947       208.276923   \n",
       "2012-07-31  267.037281       287.186404       264.109649       257.455947   \n",
       "2012-08-31  285.570175       267.037281       287.186404       264.109649   \n",
       "2012-09-30  292.598684       285.570175       267.037281       287.186404   \n",
       "2012-10-31  280.508772       292.598684       285.570175       267.037281   \n",
       "2012-11-30  231.980220       280.508772       292.598684       285.570175   \n",
       "2012-12-31  217.054825       231.980220       280.508772       292.598684   \n",
       "\n",
       "            4_monthly_shift  5_monthly_shift  \n",
       "datetime                                      \n",
       "2011-01-31         0.000000         0.000000  \n",
       "2011-02-28         0.000000         0.000000  \n",
       "2011-03-31         0.000000         0.000000  \n",
       "2011-04-30         0.000000         0.000000  \n",
       "2011-05-31        54.645012         0.000000  \n",
       "2011-06-30        73.641256        54.645012  \n",
       "2011-07-31        86.849776        73.641256  \n",
       "2011-08-31       111.026374        86.849776  \n",
       "2011-09-30       174.809211       111.026374  \n",
       "2011-10-31       196.877193       174.809211  \n",
       "2011-11-30       203.614035       196.877193  \n",
       "2011-12-31       182.666667       203.614035  \n",
       "2012-01-31       174.622517       182.666667  \n",
       "2012-02-29       174.773626       174.622517  \n",
       "2012-03-31       155.458333       174.773626  \n",
       "2012-04-30       134.173246       155.458333  \n",
       "2012-05-31       124.353201       134.173246  \n",
       "2012-06-30       145.646154       124.353201  \n",
       "2012-07-31       208.276923       145.646154  \n",
       "2012-08-31       257.455947       208.276923  \n",
       "2012-09-30       264.109649       257.455947  \n",
       "2012-10-31       287.186404       264.109649  \n",
       "2012-11-30       267.037281       287.186404  \n",
       "2012-12-31       285.570175       267.037281  "
      ]
     },
     "execution_count": 48,
     "metadata": {},
     "output_type": "execute_result"
    }
   ],
   "source": [
    "pd.concat(result, axis=1)"
   ]
  },
  {
   "attachments": {},
   "cell_type": "markdown",
   "metadata": {},
   "source": [
    "## Moving Agerage\n",
    "\n",
    "- 시계열 데이터는 노이즈 발생\n",
    "\n",
    "-> 노이즈를 줄이면서 추세보기, 이동평균법"
   ]
  },
  {
   "cell_type": "code",
   "execution_count": 56,
   "metadata": {},
   "outputs": [
    {
     "data": {
      "text/plain": [
       "<Axes: xlabel='datetime'>"
      ]
     },
     "execution_count": 56,
     "metadata": {},
     "output_type": "execute_result"
    },
    {
     "data": {
      "image/png": "[encoded data removed]",
      "text/plain": [
       "<Figure size 640x480 with 1 Axes>"
      ]
     },
     "metadata": {},
     "output_type": "display_data"
    }
   ],
   "source": [
    "day_avg = df['count'].resample(\"D\").mean().fillna(0)\n",
    "day_avg.plot()\n"
   ]
  },
  {
   "cell_type": "code",
   "execution_count": 67,
   "metadata": {},
   "outputs": [
    {
     "data": {
      "text/plain": [
       "<Axes: xlabel='datetime'>"
      ]
     },
     "execution_count": 67,
     "metadata": {},
     "output_type": "execute_result"
    },
    {
     "data": {
      "image/png": "[encoded data removed]",
      "text/plain": [
       "<Figure size 640x480 with 1 Axes>"
      ]
     },
     "metadata": {},
     "output_type": "display_data"
    }
   ],
   "source": [
    "day_avg.rolling(window=30).mean().fillna(0).plot()"
   ]
  },
  {
   "cell_type": "code",
   "execution_count": 68,
   "metadata": {},
   "outputs": [
    {
     "data": {
      "text/plain": [
       "<Axes: xlabel='datetime'>"
      ]
     },
     "execution_count": 68,
     "metadata": {},
     "output_type": "execute_result"
    },
    {
     "data": {
      "image/png": "[encoded data removed]",
      "text/plain": [
       "<Figure size 640x480 with 1 Axes>"
      ]
     },
     "metadata": {},
     "output_type": "display_data"
    }
   ],
   "source": [
    "day_avg.plot()\n",
    "day_avg.rolling(window=30).mean().fillna(0).plot()"
   ]
  },
  {
   "attachments": {},
   "cell_type": "markdown",
   "metadata": {},
   "source": [
    "#### rolling example\n",
    "\n",
    "- rolling.mean()은 이동평균을 구해줌.\n",
    "- 창의 크기보다 데이터가 적다면 NaN 값을 반환"
   ]
  },
  {
   "cell_type": "code",
   "execution_count": 63,
   "metadata": {},
   "outputs": [],
   "source": [
    "df_mean = pd.DataFrame({'value': [1, 2, 3, 4, 5, 6, 7, 8, 9, 10]})"
   ]
  },
  {
   "cell_type": "code",
   "execution_count": 64,
   "metadata": {},
   "outputs": [
    {
     "data": {
      "text/html": [
       "<div>\n",
       "<style scoped>\n",
       "    .dataframe tbody tr th:only-of-type {\n",
       "        vertical-align: middle;\n",
       "    }\n",
       "\n",
       "    .dataframe tbody tr th {\n",
       "        vertical-align: top;\n",
       "    }\n",
       "\n",
       "    .dataframe thead th {\n",
       "        text-align: right;\n",
       "    }\n",
       "</style>\n",
       "<table border=\"1\" class=\"dataframe\">\n",
       "  <thead>\n",
       "    <tr style=\"text-align: right;\">\n",
       "      <th></th>\n",
       "      <th>value</th>\n",
       "    </tr>\n",
       "  </thead>\n",
       "  <tbody>\n",
       "    <tr>\n",
       "      <th>0</th>\n",
       "      <td>1</td>\n",
       "    </tr>\n",
       "    <tr>\n",
       "      <th>1</th>\n",
       "      <td>2</td>\n",
       "    </tr>\n",
       "    <tr>\n",
       "      <th>2</th>\n",
       "      <td>3</td>\n",
       "    </tr>\n",
       "    <tr>\n",
       "      <th>3</th>\n",
       "      <td>4</td>\n",
       "    </tr>\n",
       "    <tr>\n",
       "      <th>4</th>\n",
       "      <td>5</td>\n",
       "    </tr>\n",
       "    <tr>\n",
       "      <th>5</th>\n",
       "      <td>6</td>\n",
       "    </tr>\n",
       "    <tr>\n",
       "      <th>6</th>\n",
       "      <td>7</td>\n",
       "    </tr>\n",
       "    <tr>\n",
       "      <th>7</th>\n",
       "      <td>8</td>\n",
       "    </tr>\n",
       "    <tr>\n",
       "      <th>8</th>\n",
       "      <td>9</td>\n",
       "    </tr>\n",
       "    <tr>\n",
       "      <th>9</th>\n",
       "      <td>10</td>\n",
       "    </tr>\n",
       "  </tbody>\n",
       "</table>\n",
       "</div>"
      ],
      "text/plain": [
       "   value\n",
       "0      1\n",
       "1      2\n",
       "2      3\n",
       "3      4\n",
       "4      5\n",
       "5      6\n",
       "6      7\n",
       "7      8\n",
       "8      9\n",
       "9     10"
      ]
     },
     "execution_count": 64,
     "metadata": {},
     "output_type": "execute_result"
    }
   ],
   "source": [
    "df_mean"
   ]
  },
  {
   "cell_type": "code",
   "execution_count": 69,
   "metadata": {},
   "outputs": [
    {
     "data": {
      "text/html": [
       "<div>\n",
       "<style scoped>\n",
       "    .dataframe tbody tr th:only-of-type {\n",
       "        vertical-align: middle;\n",
       "    }\n",
       "\n",
       "    .dataframe tbody tr th {\n",
       "        vertical-align: top;\n",
       "    }\n",
       "\n",
       "    .dataframe thead th {\n",
       "        text-align: right;\n",
       "    }\n",
       "</style>\n",
       "<table border=\"1\" class=\"dataframe\">\n",
       "  <thead>\n",
       "    <tr style=\"text-align: right;\">\n",
       "      <th></th>\n",
       "      <th>value</th>\n",
       "    </tr>\n",
       "  </thead>\n",
       "  <tbody>\n",
       "    <tr>\n",
       "      <th>0</th>\n",
       "      <td>NaN</td>\n",
       "    </tr>\n",
       "    <tr>\n",
       "      <th>1</th>\n",
       "      <td>NaN</td>\n",
       "    </tr>\n",
       "    <tr>\n",
       "      <th>2</th>\n",
       "      <td>NaN</td>\n",
       "    </tr>\n",
       "    <tr>\n",
       "      <th>3</th>\n",
       "      <td>NaN</td>\n",
       "    </tr>\n",
       "    <tr>\n",
       "      <th>4</th>\n",
       "      <td>3.0</td>\n",
       "    </tr>\n",
       "    <tr>\n",
       "      <th>5</th>\n",
       "      <td>4.0</td>\n",
       "    </tr>\n",
       "    <tr>\n",
       "      <th>6</th>\n",
       "      <td>5.0</td>\n",
       "    </tr>\n",
       "    <tr>\n",
       "      <th>7</th>\n",
       "      <td>6.0</td>\n",
       "    </tr>\n",
       "    <tr>\n",
       "      <th>8</th>\n",
       "      <td>7.0</td>\n",
       "    </tr>\n",
       "    <tr>\n",
       "      <th>9</th>\n",
       "      <td>8.0</td>\n",
       "    </tr>\n",
       "  </tbody>\n",
       "</table>\n",
       "</div>"
      ],
      "text/plain": [
       "   value\n",
       "0    NaN\n",
       "1    NaN\n",
       "2    NaN\n",
       "3    NaN\n",
       "4    3.0\n",
       "5    4.0\n",
       "6    5.0\n",
       "7    6.0\n",
       "8    7.0\n",
       "9    8.0"
      ]
     },
     "execution_count": 69,
     "metadata": {},
     "output_type": "execute_result"
    }
   ],
   "source": [
    "# 3번 인덱스까지는 데이터의 수가 모자라 NaN값을 반환\n",
    "# 4번 인덱스는 1,2,3,4,5의 평균인 3을 반환\n",
    "df_mean.rolling(window=5).mean()"
   ]
  },
  {
   "attachments": {},
   "cell_type": "markdown",
   "metadata": {},
   "source": [
    "## Cumsum\n",
    "\n",
    "- 시계열 데이터를 window 마다 합침\n",
    "- rolling(window = 10).sum()과 다름"
   ]
  },
  {
   "cell_type": "code",
   "execution_count": 72,
   "metadata": {},
   "outputs": [],
   "source": [
    "monthly_avg = df['count'].resample('M').mean()\n",
    "cumsum_avg = df['count'].resample('M').mean().cumsum()"
   ]
  },
  {
   "cell_type": "code",
   "execution_count": 76,
   "metadata": {},
   "outputs": [
    {
     "data": {
      "text/plain": [
       "<Axes: xlabel='datetime'>"
      ]
     },
     "execution_count": 76,
     "metadata": {},
     "output_type": "execute_result"
    },
    {
     "data": {
      "image/png": "[encoded data removed]",
      "text/plain": [
       "<Figure size 640x480 with 1 Axes>"
      ]
     },
     "metadata": {},
     "output_type": "display_data"
    }
   ],
   "source": [
    "monthly_avg.plot()\n",
    "cumsum_avg.plot()"
   ]
  },
  {
   "attachments": {},
   "cell_type": "markdown",
   "metadata": {},
   "source": [
    "- 위의 그래프처럼 한번에 나타내는 방법도 있지만, 하나의 데이터는 너무 크고 하나는 너무 작은 문제가 발생"
   ]
  },
  {
   "cell_type": "code",
   "execution_count": 81,
   "metadata": {},
   "outputs": [
    {
     "data": {
      "text/html": [
       "<div>\n",
       "<style scoped>\n",
       "    .dataframe tbody tr th:only-of-type {\n",
       "        vertical-align: middle;\n",
       "    }\n",
       "\n",
       "    .dataframe tbody tr th {\n",
       "        vertical-align: top;\n",
       "    }\n",
       "\n",
       "    .dataframe thead th {\n",
       "        text-align: right;\n",
       "    }\n",
       "</style>\n",
       "<table border=\"1\" class=\"dataframe\">\n",
       "  <thead>\n",
       "    <tr style=\"text-align: right;\">\n",
       "      <th></th>\n",
       "      <th>Monthly_average</th>\n",
       "      <th>Cumsom_average</th>\n",
       "    </tr>\n",
       "    <tr>\n",
       "      <th>datetime</th>\n",
       "      <th></th>\n",
       "      <th></th>\n",
       "    </tr>\n",
       "  </thead>\n",
       "  <tbody>\n",
       "    <tr>\n",
       "      <th>2011-01-31</th>\n",
       "      <td>54.645012</td>\n",
       "      <td>54.645012</td>\n",
       "    </tr>\n",
       "    <tr>\n",
       "      <th>2011-02-28</th>\n",
       "      <td>73.641256</td>\n",
       "      <td>128.286267</td>\n",
       "    </tr>\n",
       "    <tr>\n",
       "      <th>2011-03-31</th>\n",
       "      <td>86.849776</td>\n",
       "      <td>215.136043</td>\n",
       "    </tr>\n",
       "    <tr>\n",
       "      <th>2011-04-30</th>\n",
       "      <td>111.026374</td>\n",
       "      <td>326.162417</td>\n",
       "    </tr>\n",
       "    <tr>\n",
       "      <th>2011-05-31</th>\n",
       "      <td>174.809211</td>\n",
       "      <td>500.971627</td>\n",
       "    </tr>\n",
       "  </tbody>\n",
       "</table>\n",
       "</div>"
      ],
      "text/plain": [
       "            Monthly_average  Cumsom_average\n",
       "datetime                                   \n",
       "2011-01-31        54.645012       54.645012\n",
       "2011-02-28        73.641256      128.286267\n",
       "2011-03-31        86.849776      215.136043\n",
       "2011-04-30       111.026374      326.162417\n",
       "2011-05-31       174.809211      500.971627"
      ]
     },
     "execution_count": 81,
     "metadata": {},
     "output_type": "execute_result"
    }
   ],
   "source": [
    "monthly_avg.rename(\"Monthly_average\", inplace=True)\n",
    "cumsum_avg.rename(\"Cumsom_average\", inplace=True)\n",
    "df_monthly = pd.concat([monthly_avg, cumsum_avg], axis=1)\n",
    "df_monthly.head()"
   ]
  },
  {
   "attachments": {},
   "cell_type": "markdown",
   "metadata": {},
   "source": [
    "#### 하나의 그래프에서 월별 평균값과 누적 평균값 동시에 확인하기\n",
    "\n",
    "- df_monthly.plot(y='Monthly_average', use_index=True)는 df_monthly 데이터프레임에서 Monthly_average 열의 값을 y축으로 사용하여 선 그래프를 만듦. use_index=True 옵션은 데이터프레임의 인덱스를 x축으로 사용한다는 의미.\n",
    "\n",
    "- df_monthly.plot(y='Cumsom_average', secondary_y=True, ax=ax)는 Cumsom_average 열의 값을 y축으로 사용하여 선 그래프를 만듦. secondary_y=True 옵션은 이 그래프를 오른쪽 y축에 배치한다는 의미. ax=ax 옵션으로 첫번째 그래프와 같은 축을 사용함."
   ]
  },
  {
   "cell_type": "code",
   "execution_count": 85,
   "metadata": {},
   "outputs": [
    {
     "data": {
      "text/plain": [
       "<Axes: >"
      ]
     },
     "execution_count": 85,
     "metadata": {},
     "output_type": "execute_result"
    },
    {
     "data": {
      "image/png": "[encoded data removed]",
      "text/plain": [
       "<Figure size 640x480 with 2 Axes>"
      ]
     },
     "metadata": {},
     "output_type": "display_data"
    }
   ],
   "source": [
    "ax = df_monthly.plot(y='Monthly_average', use_index=True)\n",
    "df_monthly.plot(y='Cumsom_average', secondary_y=True, ax=ax)"
   ]
  },
  {
   "cell_type": "code",
   "execution_count": null,
   "metadata": {},
   "outputs": [],
   "source": []
  }
 ],
 "metadata": {
  "kernelspec": {
   "display_name": "Python 3",
   "language": "python",
   "name": "python3"
  },
  "language_info": {
   "codemirror_mode": {
    "name": "ipython",
    "version": 3
   },
   "file_extension": ".py",
   "mimetype": "text/x-python",
   "name": "python",
   "nbconvert_exporter": "python",
   "pygments_lexer": "ipython3",
   "version": "3.10.7"
  },
  "orig_nbformat": 4,
  "vscode": {
   "interpreter": {
    "hash": "aee8b7b246df8f9039afb4144a1f6fd8d2ca17a180786b69acc140d282b71a49"
   }
  }
 },
 "nbformat": 4,
 "nbformat_minor": 2
}
