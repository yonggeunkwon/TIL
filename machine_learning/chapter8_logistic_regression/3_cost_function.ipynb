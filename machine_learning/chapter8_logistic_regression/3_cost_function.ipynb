{
 "cells": [
  {
   "attachments": {},
   "cell_type": "markdown",
   "metadata": {},
   "source": [
    "## Logistic Regression에서 Weight 학습하기\n",
    "\n",
    "- 실제값과 예측치의 차이를 최소화하는 cost function을 구해야 함"
   ]
  },
  {
   "attachments": {},
   "cell_type": "markdown",
   "metadata": {},
   "source": [
    "- Hypothesis function : $h_{\\theta}(x)$ : $\\frac{1}{1+e^{-z}}$ = $\\frac{1}{1+e^{-\\theta^Tx}}$\n",
    "- $z = w_0x_0 + w_1x_1 + ... + w_nx_n$\n",
    "- z는 weight값과 x값의 linear combination이고, $h_{\\theta}(x)$(hypothesis function) 은 0과 1사이의 확률값으로 나타난다."
   ]
  },
  {
   "attachments": {},
   "cell_type": "markdown",
   "metadata": {},
   "source": [
    "#### Training ${\\theta}$\n",
    "\n",
    "- $h_{\\theta}(x)$ = $\\frac{1}{1+e^{-\\theta^Tx}}$ 에서 ${\\theta}$를 학습시켜야 함\n",
    "- ${\\theta}^T * X$ = $w_0x_0 + w_1x_1 + ... + w_nx_n$\n",
    "- 위의 식을 바로 미분하고 최소화할 수 없음"
   ]
  },
  {
   "attachments": {},
   "cell_type": "markdown",
   "metadata": {},
   "source": [
    "#### Cost Function\n",
    "\n",
    "- y = 1 인 경우 $Cost(h_{\\theta}(x), y)$ = $-log(h_{\\theta}(x))$\n",
    "  - $h_{\\theta}(x)$ 값은 0과 1사이의 확률값이므로, $h_{\\theta}(x)$ 가 크다는 것은 일어날 확률이 높다는 것을 의미함\n",
    "  - Cost Function = $y - h_{\\theta}(x)$ 이므로 일어날 확률이 높을수록 $h_{\\theta}(x)$가 커지면 Cost function은 그만큼 감소하게 됨\n",
    "  - 따라서, y = 1인 경우, $h_{\\theta}(x)$ 가 커질수록 Cost Function은 작은 값을 가지게 됨\n",
    "\n",
    "- y = 0 인 경우 $Cost(h_{\\theta}(x), y)$ = $-log( 1 - h_{\\theta}(x))$\n",
    "  - $1 - h_{\\theta}(x)$ 가 크다는 것은 $h_{\\theta}(x)$가 작은 경우이므로, 일어날 확률이 낮다는 것을 의미함\n",
    "  - Cost Function = $y - (1 - h_{\\theta}(x))$ 이고, y = 0 이므로 $(1 - h_{\\theta}(x))$가 작아질수록 Cost function은 그만큼 감소하게 됨\n",
    "  - 따라서, y = 0인 경우, $(1 - h_{\\theta}(x))$가 작아질수록 Cost function을 감소시킬 수 있음"
   ]
  },
  {
   "attachments": {},
   "cell_type": "markdown",
   "metadata": {},
   "source": [
    "- Cost function = $J(\\theta) = -\\frac{1}{m}\\sum_{i=1}^{m}[y^{(i)}\\log{h_\\theta(x^{(i)})} + (1 - y^{(i)})\\log(1-h_\\theta(x^{(i)}))]$\n",
    "- y = 1 인 경우에는 앞쪽만, y = 0 인 경우에는 뒤쪽만 남게됨\n",
    "- Cost function을 최소화 할 수 있는 ${\\theta}$를 찾아야하고, 찾기 위해서는 미분을 해야함."
   ]
  },
  {
   "cell_type": "markdown",
   "metadata": {},
   "source": []
  }
 ],
 "metadata": {
  "language_info": {
   "name": "python"
  },
  "orig_nbformat": 4
 },
 "nbformat": 4,
 "nbformat_minor": 2
}
