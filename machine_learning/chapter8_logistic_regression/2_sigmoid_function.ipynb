{
 "cells": [
  {
   "attachments": {},
   "cell_type": "markdown",
   "metadata": {},
   "source": [
    "## Logistic Regression의 기본적인 접근\n",
    "\n",
    "- 분류의 가능성을 확률로 얘기하기"
   ]
  },
  {
   "attachments": {},
   "cell_type": "markdown",
   "metadata": {},
   "source": [
    "#### Odds Ratio\n",
    "\n",
    "- 일어날 확률 $P_(X)$\n",
    "- 일어나지 않을 확률 $1- P_(X)$\n",
    "- $ Odds Ratio = P_(X) / 1 - P_(X)$\n",
    "- 해당 사건이 일어날 확률과 일어나지 않을 확률의 비율\n",
    "- P(X)가 커지면, Odds Ratio는 증가한다 "
   ]
  },
  {
   "attachments": {},
   "cell_type": "markdown",
   "metadata": {},
   "source": [
    "#### Logit function\n",
    "\n",
    "- $-\\log_{e}{(\\frac{1}{p}-1)}$\n",
    "- Odds function에 밑이 e인 자연로그를 씌운 형태임"
   ]
  },
  {
   "attachments": {},
   "cell_type": "markdown",
   "metadata": {},
   "source": [
    "#### Sigmoid(Logistic) Function\n",
    "\n",
    "- Logit 함수의 역함수로 z에 관한 확률을 산출\n",
    "- $y = \\frac{1}{1+e^{-z}}$\n",
    "- z라는 input 값을 받아서 y라는 확률값을 나타냄\n",
    "- 미분가능한 연속구간으로 변환됨\n",
    "- 0과 1사이의 확률값\n",
    "- z값을 찾으면 확률값을 찾을 수 있다"
   ]
  },
  {
   "cell_type": "markdown",
   "metadata": {},
   "source": []
  }
 ],
 "metadata": {
  "language_info": {
   "name": "python"
  },
  "orig_nbformat": 4
 },
 "nbformat": 4,
 "nbformat_minor": 2
}
