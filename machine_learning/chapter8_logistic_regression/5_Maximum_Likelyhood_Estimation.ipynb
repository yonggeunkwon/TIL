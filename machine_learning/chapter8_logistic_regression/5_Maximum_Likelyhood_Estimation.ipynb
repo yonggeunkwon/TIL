{
 "cells": [
  {
   "attachments": {},
   "cell_type": "markdown",
   "metadata": {},
   "source": [
    "## 5 Maximum Likelyhood Estimation\n",
    "\n",
    "- 우도의 최대화 관점에서 Cost Function 정의하기\n",
    "- 우도 : 어떤 사건이 일어날 확률의 가능도"
   ]
  },
  {
   "cell_type": "markdown",
   "metadata": {},
   "source": []
  }
 ],
 "metadata": {
  "language_info": {
   "name": "python"
  },
  "orig_nbformat": 4
 },
 "nbformat": 4,
 "nbformat_minor": 2
}
