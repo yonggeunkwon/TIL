{
 "cells": [
  {
   "attachments": {},
   "cell_type": "markdown",
   "metadata": {},
   "source": [
    "## Information Gain\n",
    "\n",
    "- Entropy 함수를 도입하여 branch splitting\n",
    "- Information Gain : Entropy를 사용하여 속성별 분류시 Impurity(복잡도)를 측정하는 지표\n",
    "- (전체 Entropy - 속성별 Entropy)로 속성별 Information Gain을 계산함\n",
    "- 속성별 Entropy가 증가할수록 Impurity(복잡도)가 증가한다\n",
    "- 속성별 Entropy가 낮다는 것은 명확하게 데이터를 나눠줄 수 있다는 것을 의미한다\n",
    "- 따라서 속성별 Entropy가 낮은 것을 attribute로 선택해서 branch를 나눈다"
   ]
  },
  {
   "cell_type": "markdown",
   "metadata": {},
   "source": []
  }
 ],
 "metadata": {
  "language_info": {
   "name": "python"
  },
  "orig_nbformat": 4
 },
 "nbformat": 4,
 "nbformat_minor": 2
}
