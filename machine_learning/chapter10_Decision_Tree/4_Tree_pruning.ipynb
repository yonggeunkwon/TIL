{
 "cells": [
  {
   "attachments": {},
   "cell_type": "markdown",
   "metadata": {},
   "source": [
    "## Tree pruning (가지치기)\n",
    "\n",
    "- Hyper parameter searching"
   ]
  },
  {
   "attachments": {},
   "cell_type": "markdown",
   "metadata": {},
   "source": [
    "### Decision Tree를 만들다 생기는 문제점\n",
    "\n",
    "- class의 leaf node의 결정\n",
    "- 너무 많을 경우 -> Overfitting\n",
    "- impurity 또는 variance는 낮은데, 노드에 데이터가 1개\n",
    "- 어떤 시점에서 트리 가지치기를 해야할 지 결정이 중요함"
   ]
  },
  {
   "attachments": {},
   "cell_type": "markdown",
   "metadata": {},
   "source": [
    "### Pre-pruning\n",
    "\n",
    "- Tree를 생성할 때, 일정 기준 이하면 노드를 생성하지 않음\n",
    "  - 하위 노드의 개수, 하위 노드의 label 비율 등을 결정해야 함\n",
    "- Treshold를 잡아줘야 하는 어려움이 있음\n",
    "- 계산 효율이 좋고, 작은 데이터셋에서 잘 작동\n",
    "- 속성을 놓칠 수 있음, underfitting 가능성이 높음"
   ]
  },
  {
   "attachments": {},
   "cell_type": "markdown",
   "metadata": {},
   "source": [
    "### Post-pruning\n",
    "\n",
    "- Tree를 생성한 후, 트리의 오차율 최소화를 위해 실행\n",
    "- 오분류율 최소화, cost complexity 최소화 등을 사용\n",
    "- 검증을 위한 validation set을 따로 생성함"
   ]
  },
  {
   "cell_type": "markdown",
   "metadata": {},
   "source": []
  }
 ],
 "metadata": {
  "language_info": {
   "name": "python"
  },
  "orig_nbformat": 4
 },
 "nbformat": 4,
 "nbformat_minor": 2
}
