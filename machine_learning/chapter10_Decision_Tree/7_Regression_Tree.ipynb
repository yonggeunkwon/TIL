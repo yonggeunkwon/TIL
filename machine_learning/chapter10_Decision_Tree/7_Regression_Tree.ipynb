{
 "cells": [
  {
   "attachments": {},
   "cell_type": "markdown",
   "metadata": {},
   "source": [
    "## Decision Tree로 Regression 문제 풀기\n",
    "\n",
    "#### y의 값이 categorical 이 아니라 continuous한 값인 경우의 해결책\n",
    "\n",
    "- Split measure의 변화: entropy, gini 에서 variance(분산)\n",
    "- 결과 노드의 선택: class -> 해당 instance들 y 의 평균"
   ]
  },
  {
   "attachments": {},
   "cell_type": "markdown",
   "metadata": {},
   "source": [
    "$var(D) = \\frac{1}{n-1} \\sum_{i=1}^{n} (x_i - \\bar{x})^2$\n"
   ]
  },
  {
   "cell_type": "code",
   "execution_count": 1,
   "metadata": {},
   "outputs": [],
   "source": [
    "def get_var(df):\n",
    "    mean_value = df['RENTALS'].mean()\n",
    "    number_of_data = len(df[\"Rentals\"])\n",
    "    return sum((df[\"RENTALS\"] - mean_value) ** 2) / (number_of_data - 1)"
   ]
  }
 ],
 "metadata": {
  "kernelspec": {
   "display_name": "ml",
   "language": "python",
   "name": "python3"
  },
  "language_info": {
   "codemirror_mode": {
    "name": "ipython",
    "version": 3
   },
   "file_extension": ".py",
   "mimetype": "text/x-python",
   "name": "python",
   "nbconvert_exporter": "python",
   "pygments_lexer": "ipython3",
   "version": "3.8.16"
  },
  "orig_nbformat": 4
 },
 "nbformat": 4,
 "nbformat_minor": 2
}
