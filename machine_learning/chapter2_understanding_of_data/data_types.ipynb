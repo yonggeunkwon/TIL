{
 "cells": [
  {
   "attachments": {},
   "cell_type": "markdown",
   "metadata": {},
   "source": [
    "## 연속형 값 vs 이산형 값\n",
    "\n",
    "### 연속형 값\n",
    "- 값이 끊어지지 않고 연결됨\n",
    "- 온도, 속도\n",
    "- 일반적으로 실수 값\n",
    "\n",
    "### 이산형 값\n",
    "- 값이 연속적이지 않음\n",
    "- 성별, 우편주소, 등수\n",
    "- Label로 구분되는 값들\n",
    "\n",
    "---"
   ]
  },
  {
   "attachments": {},
   "cell_type": "markdown",
   "metadata": {},
   "source": [
    "### 숫자형 값 (Numeric type)\n",
    "\n",
    "- 정량적으로 측정이 가능한 data type\n",
    "- 일반적으로 정수 또는 실수로 표현됨\n",
    "- 온도, 자동차 속도, 날짜의 차이\n",
    "- 단위 (scale)이 있는 Interval-scaled type\n",
    "- 비율이 있는 Ratio-scaled type"
   ]
  },
  {
   "attachments": {},
   "cell_type": "markdown",
   "metadata": {},
   "source": [
    "### 명목형 값 (Nominal Types)\n",
    "- 범주 (category)로 분류가 가능한 data type\n",
    "- 명목 척도라는 표현으로 사용되기도 함\n",
    "- 색깔, 학교명, ID, 전공명 등 (숫자로 표현하더라고 scale로써 가지는 의미가 없음)\n",
    "- 두 개의 Category만 분류할 때는 Binary Type으로 구별"
   ]
  },
  {
   "attachments": {},
   "cell_type": "markdown",
   "metadata": {},
   "source": [
    "### Ordinal Types\n",
    "\n",
    "- 범주 (category)로 분류가 가능하나 범주간의 순서가 있음\n",
    "- 명목 척도라는 표현으로 사용되기도 함\n",
    "- 음료수 병의 크기(대/중/소 인 경우), 5점 척도 설문조사\n",
    "- 측정되는 Scale 또는 Unit이 사람마다 다를 수 있음\n",
    "- 순서가 있는 것과 배수로 증가하는 개념은 다른 것\n",
    "\n",
    "---"
   ]
  },
  {
   "attachments": {},
   "cell_type": "markdown",
   "metadata": {},
   "source": [
    "### 생길 수 있는 문제점들\n",
    "\n",
    "- 데이터의 최대/최소가 다름 -> Scale에 따라 y값에 영향을 줄 수 있다. (단위가 너무 크게 차이나는 경우)\n",
    "- Ordinary 또는 Nominal 한 값들의 표현은 어떻게?\n",
    "- 잘못 기입된 값들에 대한 처리\n",
    "- 값이 없을 경우는 어떻게?\n",
    "- 극단적으로 큰 값 또는 작은 값들은 그대로?"
   ]
  },
  {
   "cell_type": "markdown",
   "metadata": {},
   "source": []
  }
 ],
 "metadata": {
  "kernelspec": {
   "display_name": "Python 3",
   "language": "python",
   "name": "python3"
  },
  "language_info": {
   "name": "python",
   "version": "3.10.7"
  },
  "orig_nbformat": 4,
  "vscode": {
   "interpreter": {
    "hash": "aee8b7b246df8f9039afb4144a1f6fd8d2ca17a180786b69acc140d282b71a49"
   }
  }
 },
 "nbformat": 4,
 "nbformat_minor": 2
}
