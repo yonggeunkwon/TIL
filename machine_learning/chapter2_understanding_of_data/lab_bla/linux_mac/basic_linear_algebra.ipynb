{
 "cells": [
  {
   "cell_type": "code",
   "execution_count": 6,
   "metadata": {},
   "outputs": [],
   "source": [
    "# def vector_size_check(*vector_variables):\n",
    "#     vector_size = []\n",
    "#     for vector_variable in vector_variables:\n",
    "#         vector_size.append(len(vector_variable))\n",
    "#     if len(list(set(vector_size))) == 1:\n",
    "#         return True\n",
    "#     else:\n",
    "#         return False"
   ]
  },
  {
   "cell_type": "code",
   "execution_count": 110,
   "metadata": {},
   "outputs": [],
   "source": [
    "def vector_size_check(*vector_variables):\n",
    "    vector_size = [len(vector_variable) for vector_variable in vector_variables]\n",
    "    return True if len(set(vector_size)) == 1 else False"
   ]
  },
  {
   "cell_type": "code",
   "execution_count": 111,
   "metadata": {},
   "outputs": [
    {
     "name": "stdout",
     "output_type": "stream",
     "text": [
      "True\n",
      "True\n",
      "False\n"
     ]
    }
   ],
   "source": [
    "print(vector_size_check([1,2,3], [2,3,4], [5,6,7])) # Expected value: True\n",
    "print(vector_size_check([1, 3], [2,4], [6,7])) # Expected value: True\n",
    "print(vector_size_check([1, 3, 4], [4], [6,7])) # Expected value: False"
   ]
  },
  {
   "cell_type": "code",
   "execution_count": 11,
   "metadata": {},
   "outputs": [],
   "source": [
    "import numpy as np"
   ]
  },
  {
   "cell_type": "code",
   "execution_count": 105,
   "metadata": {},
   "outputs": [],
   "source": [
    "def vector_addition(*vector_variables):\n",
    "    if len(set([len(vector_variable) for vector_variable in vector_variables])) != 1:\n",
    "        raise ArithmeticError(\"ArithmeticError\")\n",
    "    return [sum(vector_variable) for vector_variable in zip(*vector_variables)]"
   ]
  },
  {
   "cell_type": "code",
   "execution_count": 115,
   "metadata": {},
   "outputs": [
    {
     "name": "stdout",
     "output_type": "stream",
     "text": [
      "[9, 14]\n",
      "[15, 16]\n"
     ]
    }
   ],
   "source": [
    "# 실행결과\n",
    "print(vector_addition([1, 3], [2, 4], [6, 7])) # Expected value: [9, 14]\n",
    "print(vector_addition([1, 5], [10, 4], [4, 7])) # Expected value: [15, 16]\n",
    "# print(vector_addition([1, 3, 4], [4], [6,7])) # Expected value: ArithmeticError"
   ]
  },
  {
   "cell_type": "code",
   "execution_count": 222,
   "metadata": {},
   "outputs": [],
   "source": [
    "def vector_subtraction(*vector_variables):\n",
    "    if not vector_size_check(*vector_variables):\n",
    "        raise ArithmeticError\n",
    "    return [vector_variable for vector_variable in zip(*vector_variables)]"
   ]
  },
  {
   "cell_type": "code",
   "execution_count": 223,
   "metadata": {},
   "outputs": [
    {
     "name": "stdout",
     "output_type": "stream",
     "text": [
      "[(1, 2), (3, 4)]\n",
      "[(1, 10, 4), (5, 4, 7)]\n"
     ]
    }
   ],
   "source": [
    "# 실행결과\n",
    "print(vector_subtraction([1, 3], [2, 4])) # Expected value: [-1, -1]\n",
    "print(vector_subtraction([1, 5], [10, 4], [4, 7])) # Expected value: [-13, -6]"
   ]
  },
  {
   "cell_type": "code",
   "execution_count": 132,
   "metadata": {},
   "outputs": [],
   "source": [
    "def scalar_vector_product(alpha, vector_variable):\n",
    "    return [alpha * num for num in vector_variable]"
   ]
  },
  {
   "cell_type": "code",
   "execution_count": 133,
   "metadata": {},
   "outputs": [
    {
     "name": "stdout",
     "output_type": "stream",
     "text": [
      "[5, 10, 15]\n",
      "[6, 6]\n",
      "[4]\n"
     ]
    }
   ],
   "source": [
    "print (scalar_vector_product(5,[1,2,3])) # Expected value: [5, 10, 15]\n",
    "print (scalar_vector_product(3,[2,2])) # Expected value: [6, 6]\n",
    "print (scalar_vector_product(4,[1])) # Expected value: [4]"
   ]
  },
  {
   "cell_type": "code",
   "execution_count": 140,
   "metadata": {},
   "outputs": [],
   "source": [
    "def matrix_size_check(*matrix_variables):\n",
    "    matrix_size = [len(matrix_variable) for matrix_variable in matrix_variables]\n",
    "    return True if len(set(matrix_size)) == 1 else False"
   ]
  },
  {
   "cell_type": "code",
   "execution_count": 141,
   "metadata": {},
   "outputs": [
    {
     "name": "stdout",
     "output_type": "stream",
     "text": [
      "False\n",
      "True\n",
      "True\n"
     ]
    }
   ],
   "source": [
    "# 실행결과\n",
    "matrix_x = [[2, 2], [2, 2], [2, 2]]\n",
    "matrix_y = [[2, 5], [2, 1]]\n",
    "matrix_z = [[2, 4], [5, 3]]\n",
    "matrix_w = [[2, 5], [1, 1], [2, 2]]\n",
    "\n",
    "print (matrix_size_check(matrix_x, matrix_y, matrix_z)) # Expected value: False\n",
    "print (matrix_size_check(matrix_y, matrix_z)) # Expected value: True\n",
    "print (matrix_size_check(matrix_x, matrix_w)) # Expected value: True"
   ]
  },
  {
   "cell_type": "code",
   "execution_count": 190,
   "metadata": {},
   "outputs": [],
   "source": [
    "def is_matrix_equal(*matrix_variables):\n",
    "    print([matrix_variable for matrix_variable in matrix_variables])\n",
    "    return None\n"
   ]
  },
  {
   "cell_type": "code",
   "execution_count": 191,
   "metadata": {},
   "outputs": [
    {
     "name": "stdout",
     "output_type": "stream",
     "text": [
      "[[[2, 2], [2, 2]], [[2, 5], [2, 1]], [[2, 5], [2, 1]], [[2, 5], [2, 1]]]\n",
      "None\n",
      "[[[2, 2], [2, 2]], [[2, 2], [2, 2]]]\n",
      "None\n"
     ]
    }
   ],
   "source": [
    "# 실행결과\n",
    "matrix_x = [[2, 2], [2, 2]]\n",
    "matrix_y = [[2, 5], [2, 1]]\n",
    "\n",
    "print (is_matrix_equal(matrix_x, matrix_y, matrix_y, matrix_y)) # Expected value: False\n",
    "print (is_matrix_equal(matrix_x, matrix_x)) # Expected value: True"
   ]
  },
  {
   "cell_type": "code",
   "execution_count": 155,
   "metadata": {},
   "outputs": [
    {
     "name": "stdout",
     "output_type": "stream",
     "text": [
      "[[2, 2], [2, 2]] [[2, 2], [2, 2]]\n"
     ]
    }
   ],
   "source": [
    "print(matrix_x, matrix_x)"
   ]
  },
  {
   "cell_type": "code",
   "execution_count": 233,
   "metadata": {},
   "outputs": [],
   "source": [
    "def matrix_addition(*matrix_variables):\n",
    "    if matrix_size_check(*matrix_variables) == False:\n",
    "        raise ArithmeticError\n",
    "    for matrix_variable in zip(*matrix_variables):\n",
    "        print(matrix_variable)\n",
    "    "
   ]
  },
  {
   "cell_type": "code",
   "execution_count": 234,
   "metadata": {},
   "outputs": [
    {
     "name": "stdout",
     "output_type": "stream",
     "text": [
      "([2, 2], [2, 5])\n",
      "([2, 2], [2, 1])\n",
      "None\n",
      "([2, 2], [2, 5], [2, 4])\n",
      "([2, 2], [2, 1], [5, 3])\n",
      "None\n"
     ]
    }
   ],
   "source": [
    "# 실행결과\n",
    "matrix_x = [[2, 2], [2, 2]]\n",
    "matrix_y = [[2, 5], [2, 1]]\n",
    "matrix_z = [[2, 4], [5, 3]]\n",
    "\n",
    "print (matrix_addition(matrix_x, matrix_y)) # Expected value: [[4, 7], [4, 3]]\n",
    "print (matrix_addition(matrix_x, matrix_y, matrix_z)) # Expected value: [[6, 11], [9, 6]]"
   ]
  },
  {
   "cell_type": "code",
   "execution_count": 283,
   "metadata": {},
   "outputs": [],
   "source": [
    "def solution(ex_list):\n",
    "    ex_list.reverse()\n",
    "    ex_list[0].reverse()\n",
    "    ex_list[0][0].reverse()\n",
    "    return ex_list"
   ]
  },
  {
   "cell_type": "code",
   "execution_count": 284,
   "metadata": {},
   "outputs": [
    {
     "name": "stdout",
     "output_type": "stream",
     "text": [
      "[[[5, 4], 3, 2], 1]\n"
     ]
    }
   ],
   "source": [
    "ex_list = [1,[2,3,[4,5]]]\n",
    "print(solution(ex_list))"
   ]
  },
  {
   "cell_type": "code",
   "execution_count": null,
   "metadata": {},
   "outputs": [],
   "source": []
  }
 ],
 "metadata": {
  "kernelspec": {
   "display_name": "Python 3",
   "language": "python",
   "name": "python3"
  },
  "language_info": {
   "codemirror_mode": {
    "name": "ipython",
    "version": 3
   },
   "file_extension": ".py",
   "mimetype": "text/x-python",
   "name": "python",
   "nbconvert_exporter": "python",
   "pygments_lexer": "ipython3",
   "version": "3.10.7"
  },
  "orig_nbformat": 4,
  "vscode": {
   "interpreter": {
    "hash": "aee8b7b246df8f9039afb4144a1f6fd8d2ca17a180786b69acc140d282b71a49"
   }
  }
 },
 "nbformat": 4,
 "nbformat_minor": 2
}
