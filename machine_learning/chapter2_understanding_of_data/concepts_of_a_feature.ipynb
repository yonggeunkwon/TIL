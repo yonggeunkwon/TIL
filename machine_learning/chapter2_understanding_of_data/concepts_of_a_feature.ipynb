{
 "cells": [
  {
   "attachments": {},
   "cell_type": "markdown",
   "metadata": {},
   "source": [
    "## 머신러닝\n",
    "\n",
    "- y = ax + b\n",
    "- x와 y는 데이터로부터 주어지고, a와 b는 알고리즘에 의해서 가장 x에 의해서 y의 값이 결정이 잘 될 수 있는 a와 b 값을 찾아내는 것이 머신러닝"
   ]
  },
  {
   "attachments": {},
   "cell_type": "markdown",
   "metadata": {},
   "source": [
    "## Feature\n",
    "\n",
    "- 머신러닝에서 데이터의 특징을 나타내는 변수\n",
    "- feature, 독립변수, input 변수 등은 동일의미로 사용\n",
    "- 일반적으로 Table 상에 데이터를 표현할 때, Column을 의미\n",
    "- 하나의 data instance (실제 데이터)는 feature vector 로 표현"
   ]
  },
  {
   "attachments": {},
   "cell_type": "markdown",
   "metadata": {},
   "source": [
    "## 차원의 저주\n",
    "\n",
    "- 데이터의 차원이 증가할수록 (feature가 증가할수록) 데이터를 표현하는 공간이 증가하기 때문에\n",
    "  - 희박한 벡터가 증가 (값이 없는 feature가 늘어남)\n",
    "  - 샘플데이터가 급속도로 늘어남 (속도나 메모리 면에서 좋지 않음)\n",
    "  \n",
    "=> 데이터 분포나 모델 추정의 어려움이 생김"
   ]
  },
  {
   "cell_type": "markdown",
   "metadata": {},
   "source": []
  }
 ],
 "metadata": {
  "kernelspec": {
   "display_name": "Python 3",
   "language": "python",
   "name": "python3"
  },
  "language_info": {
   "name": "python",
   "version": "3.10.7"
  },
  "orig_nbformat": 4,
  "vscode": {
   "interpreter": {
    "hash": "aee8b7b246df8f9039afb4144a1f6fd8d2ca17a180786b69acc140d282b71a49"
   }
  }
 },
 "nbformat": 4,
 "nbformat_minor": 2
}
