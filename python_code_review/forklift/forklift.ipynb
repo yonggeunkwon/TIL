{
 "cells": [
  {
   "cell_type": "markdown",
   "metadata": {},
   "source": [
    "# Forklift 코드 리뷰"
   ]
  },
  {
   "cell_type": "markdown",
   "metadata": {},
   "source": [
    "> 알고리즘과 자료구조 수업 과제 ForkLiftList 과제 코드 리뷰<br>\n",
    "> [Forklift 문제](https://blissray.notion.site/blissray/Lab-Forklift-LinkedList-35417e6c7943454bb63c6398e4b70d4a)"
   ]
  },
  {
   "cell_type": "markdown",
   "metadata": {},
   "source": [
    "우선 Forklift 문제는 파이썬의 OOP 개념을 이해하지 못하면 시작할 수 없다."
   ]
  },
  {
   "cell_type": "markdown",
   "metadata": {},
   "source": [
    "### OOP의 특성"
   ]
  },
  {
   "cell_type": "markdown",
   "metadata": {},
   "source": [
    "##### Class의 캡슐화 - 정보 은닉을 위한 접근 지정\n",
    "\n",
    "> 클래스를 정의할 때 내부의 속성과 메서드를 묶어서 하나의 단위로 처리할 수 있다. 이렇게 하나의 단위로 묶어서 클래스를 만드는 것을 캡슐화했다고 한다."
   ]
  },
  {
   "cell_type": "markdown",
   "metadata": {},
   "source": [
    "- 대부분의 OOP언어에서는 public, private, protected 같이 멤버의 접근 지정을 설정하는 키워드를 제공한다.\n",
    "- python에는 위와 같은 키워드를 제공하지 않는다.\n",
    "- 멤버 이름 앞에 언더바(_)가 두 개 붙으면 해당 형식 내부에서만 접근이 가능하다. 타 언어의 private같은 개념\n",
    "- 멤버 이름 앞에 언더바(_)가 한 개 붙으면 해당 형식과 파생 형식에서 접근이 가능하다. 타 언어의 protected같은 개념"
   ]
  },
  {
   "cell_type": "markdown",
   "metadata": {},
   "source": [
    "##### class Example"
   ]
  },
  {
   "cell_type": "code",
   "execution_count": 31,
   "metadata": {},
   "outputs": [],
   "source": [
    "class Person:\n",
    "    def __init__(self, first_name, last_name, age):\n",
    "        self.first_name = first_name\n",
    "        self.last_name = last_name\n",
    "        self.age = age"
   ]
  },
  {
   "cell_type": "code",
   "execution_count": 32,
   "metadata": {},
   "outputs": [
    {
     "data": {
      "text/plain": [
       "20"
      ]
     },
     "execution_count": 32,
     "metadata": {},
     "output_type": "execute_result"
    }
   ],
   "source": [
    "person = Person(\"용근\", \"권\", 20)\n",
    "person.age"
   ]
  },
  {
   "cell_type": "markdown",
   "metadata": {},
   "source": [
    "> 클래스 인스턴스 내부 데이터를 보호하기 위해서 데이터의 접근용 메서드를 작성해준다 </br>\n",
    "> @property 데코레이터를 통해서 작성"
   ]
  },
  {
   "cell_type": "code",
   "execution_count": 44,
   "metadata": {},
   "outputs": [],
   "source": [
    "class Person:\n",
    "    def __init__(self, first_name, last_name, age):\n",
    "        self.first_name = first_name\n",
    "        self.last_name = last_name\n",
    "        self.age = age\n",
    "\n",
    "    @property\n",
    "    def age(self):\n",
    "        return self._age\n",
    "\n",
    "    @age.setter\n",
    "    def age(self, age):\n",
    "        if age < 0:\n",
    "            raise ValueError(\"Invalid age\")\n",
    "        self._age = age"
   ]
  },
  {
   "cell_type": "code",
   "execution_count": 45,
   "metadata": {},
   "outputs": [
    {
     "data": {
      "text/plain": [
       "24"
      ]
     },
     "execution_count": 45,
     "metadata": {},
     "output_type": "execute_result"
    }
   ],
   "source": [
    "person = Person(\"용근\", \"권\", 24)\n",
    "person.age"
   ]
  },
  {
   "cell_type": "code",
   "execution_count": 50,
   "metadata": {},
   "outputs": [
    {
     "data": {
      "text/plain": [
       "1"
      ]
     },
     "execution_count": 50,
     "metadata": {},
     "output_type": "execute_result"
    }
   ],
   "source": [
    "person.age = 1\n",
    "person.age"
   ]
  },
  {
   "cell_type": "markdown",
   "metadata": {},
   "source": [
    "### 기존 코드"
   ]
  },
  {
   "cell_type": "markdown",
   "metadata": {},
   "source": [
    "```python\n",
    "# Class 파트\n",
    "class ForkliftNode(object):\n",
    "    pass\n",
    "     \n",
    "class LinkedListBag():\n",
    "    def __init__(self, first_node : Node = None) -> None:\n",
    "        self._head = first_node  \n",
    "        self._tail = first_node \n",
    "        if first_node is not None:\n",
    "            self._size = 1\n",
    "        else:\n",
    "            self._size = 0\n",
    "        \n",
    "    def append(self, new_node : Node) -> None:\n",
    "        if self._size == 0:\n",
    "            self._head = new_node\n",
    "            self._tail = new_node\n",
    "        else:\n",
    "            self._tail.next = new_node\n",
    "            self._tail = new_node\n",
    "            self._size += 1\n",
    "\n",
    "    def insert(self, index_number : int, new_node : Node) -> bool:\n",
    "        list_index = 0\n",
    "        cur_node = self._head\n",
    "        if index_number == 0:\n",
    "            self._head = new_node\n",
    "            new_node.next = cur_node\n",
    "            self._size += 1\n",
    "            return True\n",
    "\n",
    "        while cur_node is not None:\n",
    "            if list_index == index_number:\n",
    "                pred_node.next = new_node\n",
    "                new_node.next = cur_node\n",
    "                self._size += 1\n",
    "                return True\n",
    "            list_index += 1\n",
    "            pred_node = cur_node \n",
    "            cur_node = cur_node.next\n",
    "        return False\n",
    "\n",
    "    def remove(self, target_value : int) -> bool:\n",
    "        cur_node = self._head\n",
    "        pred_node = cur_node \n",
    "        while cur_node is not None:\n",
    "            if cur_node.data == target_value:\n",
    "                pred_node.next = cur_node.next\n",
    "                del(cur_node)\n",
    "                self._size -= 1\n",
    "                return True\n",
    "            pred_node = cur_node \n",
    "            cur_node = cur_node.next\n",
    "        return False        \n",
    "\n",
    "    def __len__(self):\n",
    "        return self._size\n",
    "\n",
    "    def __iter__(self):\n",
    "        return _BagIterator(self._head)\n",
    "\n",
    "class _BagIterator():\n",
    "    def __init__(self, head_node : Node) -> None:\n",
    "        self._cur_node = head_node\n",
    "    \n",
    "    def __iter__ (self):\n",
    "        return self\n",
    "    \n",
    "    def __next__(self):\n",
    "        if self._cur_node is None:\n",
    "            raise StopIteration\n",
    "        else:\n",
    "            node = self._cur_node\n",
    "            self._cur_node = self._cur_node.next\n",
    "            return node\n",
    "```"
   ]
  },
  {
   "cell_type": "markdown",
   "metadata": {},
   "source": [
    "> 위의 코드는 Node라는 클래스가 정의되지 않아 오류가 발생한다."
   ]
  },
  {
   "cell_type": "markdown",
   "metadata": {},
   "source": [
    "### 수정된 코드"
   ]
  },
  {
   "cell_type": "markdown",
   "metadata": {},
   "source": [
    "```python\n",
    "class Node:\n",
    "    def __init__(self, data : Any = None, next : 'Node' = None) -> None:\n",
    "        self._data = data\n",
    "        self._next = None\n",
    "```"
   ]
  },
  {
   "cell_type": "markdown",
   "metadata": {},
   "source": [
    "> Node라는 새로운 클래스를 정의해준다"
   ]
  },
  {
   "cell_type": "markdown",
   "metadata": {},
   "source": [
    "****"
   ]
  },
  {
   "cell_type": "markdown",
   "metadata": {},
   "source": [
    "<h3>load_dataset 함수</h3>"
   ]
  },
  {
   "cell_type": "markdown",
   "metadata": {},
   "source": [
    "**지게차 움직임에 관한 데이터를 받으면 dict 형태로 forklift_name 을 key 값으로 나머지 정보를 value 값으로 변환하여 반환해주는 함수**"
   ]
  },
  {
   "cell_type": "markdown",
   "metadata": {},
   "source": [
    "```python\n",
    " \"\"\"Example:\n",
    "    >>> import teamlab_forklift_ds as ds\n",
    "    >>> filename = \"forklist_move.csv\"\n",
    "    >>> ds.load_dataset(filename)\n",
    "        {'TEAM10054239': \n",
    "         [['173753.462668852',\n",
    "           '252318.443103598',\n",
    "           '2019-06-01 08:30:50.651'],\n",
    "          ['173725.558119309',\n",
    "           '252342.150967047',\n",
    "           '2019-06-01 08:30:50.619'],\n",
    "          [### 나머지 출력부분은 생략됨]]\n",
    "        }\n",
    "  \"\"\"\n",
    "```"
   ]
  },
  {
   "cell_type": "markdown",
   "metadata": {},
   "source": [
    "### 기존 코드\n",
    "\n",
    "```python\n",
    "def load_dataset(filename : str):   \n",
    "    fork_id_list = []\n",
    "    row_data = []\n",
    "    fork_list_stop = []\n",
    "    f = open(filename, 'r', encoding='utf-8')\n",
    "    csv_reader = csv.reader(f)\n",
    "\n",
    "    for row in csv_reader:\n",
    "        row_data.append(row)\n",
    "    if len(row_data) == 0:\n",
    "        dataset = {}\n",
    "    else:\n",
    "        if row_data[0][0] == \"id\":\n",
    "            row_data.pop(0)\n",
    "            dataset = {}\n",
    "        else:\n",
    "            dataset = {}\n",
    "    for i in range(len(row_data)):\n",
    "        if row_data[i][1] in fork_id_list:\n",
    "            pass\n",
    "        else:\n",
    "            fork_id_list.append(row_data[i][1])\n",
    "\n",
    "    for i in range(len(fork_id_list)):\n",
    "        dataset[fork_id_list[i]] = []   \n",
    "\n",
    "    for i in range(len(fork_id_list)):    \n",
    "        for j in range(len(row_data)):\n",
    "            if fork_id_list[i] == row_data[j][1]:\n",
    "                fork_list_stop.append(row_data[j][3])\n",
    "                fork_list_stop.append(row_data[j][4])\n",
    "                fork_list_stop.append(row_data[j][2])\n",
    "                dataset[fork_id_list[i]].append(fork_list_stop)\n",
    "                fork_list_stop = []\n",
    "    return dataset\n",
    "```\n"
   ]
  },
  {
   "cell_type": "markdown",
   "metadata": {},
   "source": [
    "##### 기존 코드에서 보완되어야 할 점\n",
    "\n",
    "- 성의 없는 변수명\n",
    "- 쓸 데 없이 중첩된 반복문\n",
    "- 가독성이 떨어짐"
   ]
  },
  {
   "cell_type": "markdown",
   "metadata": {},
   "source": [
    "### 수정된 코드\n",
    "\n",
    "```python\n",
    "import csv\n",
    "\n",
    "def load_dataset(filename : str):   \n",
    "    dataset = {}\n",
    "    two_dimension_row_data = []\n",
    "\n",
    "    with open (filename, \"r\") as csvfile:  # with문을 나올 때 close를 자동으로 불러주기 위해 with open 으로 파일 읽기\n",
    "        csv_reader = csv.reader(csvfile, delimiter=',', quotechar='\"')  # delimiter 옵션으로 파일 내에서 구분자가 무엇인지 선언한다, quotechar 으로 둘러싸이는 구분자를 선언한다. \n",
    "        for row in csv_reader:\n",
    "            two_dimension_row_data.append(row)  #two_dimension_row_data에 각각의 열을 2차원 리스트로 저장\n",
    "\n",
    "    for data in two_dimension_row_data[1:]:  # data에 row를 한 줄씩 넣어주기\n",
    "        fork_id, in_dt, emp_x, emp_y = data[1:]  # fork_id, in_dt, emp_x, emp_y에 데이터 언패킹\n",
    "        if fork_id not in dataset:  # 최초에 리스트로 한번 감싸주기\n",
    "            dataset[fork_id] = []\n",
    "        dataset[fork_id].append([emp_x, emp_y, in_dt])\n",
    "        \n",
    "    return dataset\n",
    "```"
   ]
  }
 ],
 "metadata": {
  "kernelspec": {
   "display_name": "Python 3.10.7 64-bit",
   "language": "python",
   "name": "python3"
  },
  "language_info": {
   "codemirror_mode": {
    "name": "ipython",
    "version": 3
   },
   "file_extension": ".py",
   "mimetype": "text/x-python",
   "name": "python",
   "nbconvert_exporter": "python",
   "pygments_lexer": "ipython3",
   "version": "3.10.7"
  },
  "orig_nbformat": 4,
  "vscode": {
   "interpreter": {
    "hash": "aee8b7b246df8f9039afb4144a1f6fd8d2ca17a180786b69acc140d282b71a49"
   }
  }
 },
 "nbformat": 4,
 "nbformat_minor": 2
}
